{
 "cells": [
  {
   "cell_type": "code",
   "execution_count": null,
   "metadata": {
    "deletable": false,
    "editable": false
   },
   "outputs": [],
   "source": [
    "# Initialize Otter\n",
    "import otter\n",
    "grader = otter.Notebook(\"pre_finalProject.ipynb\")"
   ]
  },
  {
   "cell_type": "markdown",
   "metadata": {},
   "source": [
    "# Final Project: Preliminary Notebook Assignment"
   ]
  },
  {
   "cell_type": "markdown",
   "metadata": {},
   "source": [
    "At the end of this course, you will have the opportunity to complete a final project to explore a dataset of your choice. \n",
    "\n",
    "In this preliminary assignment, the goal will be to find a couple of datasets that are interesting to you. Finding these datasets early will give us time to help you choose which dataset to use for your final project.\n",
    "\n",
    "**Rules.** You are welcome to discuss your dataset/source with other students, but there is plenty of data out there, so let's try to have unique datasets. We will be working on the final project for several weeks and during the final lab session, you will have a chance to share with the whole class.\n",
    "\n",
    "**Support.** If you're ever feeling overwhelmed or don't know where to start looking, we are here to help!\n",
    "\n",
    "To get started, load `datascience`, `numpy`, and `plots`."
   ]
  },
  {
   "cell_type": "code",
   "execution_count": null,
   "metadata": {},
   "outputs": [],
   "source": [
    "# Don't change this cell; just run it. If you need additional libraries for your project, you can add them to this cell.\n",
    "\n",
    "import numpy as np\n",
    "from datascience import *\n",
    "\n",
    "# These lines do some fancy plotting magic.\n",
    "import matplotlib\n",
    "%matplotlib inline\n",
    "import matplotlib.pyplot as plt\n",
    "plt.style.use('fivethirtyeight')\n",
    "import warnings\n",
    "warnings.simplefilter('ignore', FutureWarning)\n",
    "from matplotlib import patches\n",
    "from ipywidgets import interact, interactive, fixed\n",
    "import ipywidgets as widgets\n"
   ]
  },
  {
   "cell_type": "markdown",
   "metadata": {},
   "source": [
    "# Picking a Dataset\n",
    "\n",
    "Find a dataset that is interesting to you that can be used in the final project.  Specifically, this dataset should have many variables that you think might explain the outcome of one particular variable that will have a binary outcome (or if it has many outcomes, you can collapse the different outcomes into two levels).  \n",
    "\n",
    "The dataset you pick must meet the following criteria:\n",
    "1.  One of the variables must be a binary choice.  This is the dependent variable or response variable of interest.\n",
    "2. Check that the split of observations for the two different levels of the dependent variable are such that the less frequent level has at least 10% of the observations in the dataset.\n",
    "3. There should be at least 2 categorical variables\n",
    "4. There should be at least 4 numerical variables\n",
    "5. There should be at least 100 observations"
   ]
  },
  {
   "cell_type": "markdown",
   "metadata": {},
   "source": [
    "**Question 1.1** In the cell below:\n",
    "1. Read in the dataset you chose as a table. Load the table, showing the first 10 rows.\n",
    "2. Edit the comment to describe where you found this dataset"
   ]
  },
  {
   "cell_type": "code",
   "execution_count": null,
   "metadata": {
    "tags": []
   },
   "outputs": [],
   "source": [
    "# Edit this comment to describe where you found this dataset\n",
    "# Load your dataset into a table\n",
    "\n",
    "my_data_raw = ...\n",
    "my_data_raw"
   ]
  },
  {
   "cell_type": "code",
   "execution_count": null,
   "metadata": {
    "deletable": false,
    "editable": false
   },
   "outputs": [],
   "source": [
    "grader.check(\"q1_1\")"
   ]
  },
  {
   "cell_type": "markdown",
   "metadata": {},
   "source": [
    "**Question 1.2:** In the following cell, describe each of the variables in the dataset.  Are they categorical or numerical? How many observations are there?  Add a code cell below this to show how you found the correct number of observations programmatically.\n"
   ]
  },
  {
   "cell_type": "markdown",
   "metadata": {},
   "source": [
    "_Type your answer here, replacing this text._"
   ]
  },
  {
   "cell_type": "markdown",
   "metadata": {
    "deletable": false,
    "editable": false
   },
   "source": [
    "<!-- END QUESTION -->\n",
    "\n",
    "**Question 1.3:**\n",
    "\n",
    "What is the dependent or response variable you are interested in?  This is the variable that should have two levels (a binary choice).\n",
    "\n",
    "For example: (1) Is this movie a thriller or a comedy? (2) Is this amazon order Fraudulent or not? (3) Does this patient have cancer or not? \n",
    "\n",
    "In the code cell below, make any necessary adjustments to your data so that the variable is formatted in this way.  Then assign the variable `var` to the column `label` of your table that contains the observations of this variable (note: the label should be a string, so don't forget the quotes!)"
   ]
  },
  {
   "cell_type": "code",
   "execution_count": null,
   "metadata": {
    "tags": []
   },
   "outputs": [],
   "source": [
    "# If you need to make adjustments to your data so that the variable is formatted in 2 levels add the needed code below, before setting var\n",
    "var = ...\n",
    "var\n"
   ]
  },
  {
   "cell_type": "code",
   "execution_count": null,
   "metadata": {
    "deletable": false,
    "editable": false
   },
   "outputs": [],
   "source": [
    "grader.check(\"q1_3\")"
   ]
  },
  {
   "cell_type": "markdown",
   "metadata": {},
   "source": [
    "**Question 1.4** What do you wonder about the relationship between the other variables and the dependent variable?"
   ]
  },
  {
   "cell_type": "markdown",
   "metadata": {},
   "source": [
    "_Type your answer here, replacing this text._"
   ]
  },
  {
   "cell_type": "markdown",
   "metadata": {
    "deletable": false,
    "editable": false
   },
   "source": [
    "<!-- END QUESTION -->\n",
    "\n",
    "Now, we are ready to investigate our data visually!\n",
    "\n",
    "**Question 1.5:** Think about the numerical variables in the dataset that might be related to each other.  In the cell below, make at least three different scatter plots that show the relationship between different variables while also displaying how each case is classified.\n",
    "\n",
    "Use the following line of code:\n",
    "\n",
    "**my_data.scatter(`Column 1`, `Column 2`, group=`label`)**\n",
    "\n",
    "Replace `Column 1` and `Column 2` with the correct column names of numerical variables(features) you would like to investigate. Replace `label` with the column name of the categorical variable you would like to try to classsify.\n",
    "\n",
    "Note: The commented code in the cell below is sample code for this.\n",
    "\n",
    "Look at the scatter plots: do they provide additional insight into your answer for question 1.4? Based on this visual data, feel free to revise your response to question 1.4 if necessary. If you're unsure how to interpret the visualizations, check in with your instructor and ask for help."
   ]
  },
  {
   "cell_type": "code",
   "execution_count": null,
   "metadata": {
    "tags": []
   },
   "outputs": [],
   "source": [
    "# Here is the code placeholder to use, uncomment the line and adjust according to the names if the columns in your dataset:\n",
    "# my_data.scatter(\"Column 1\", \"Column 2\", group=\"label\")\n",
    "\n",
    "...\n",
    "...\n",
    "..."
   ]
  },
  {
   "cell_type": "markdown",
   "metadata": {},
   "source": [
    "**Congratulations**: You're DONE with the preliminary notebook assignment for the final project! Nice work.\n",
    " \n",
    "Time to submit."
   ]
  }
 ],
 "metadata": {
  "kernelspec": {
   "display_name": "Python 3 (ipykernel)",
   "language": "python",
   "name": "python3"
  },
  "language_info": {
   "codemirror_mode": {
    "name": "ipython",
    "version": 3
   },
   "file_extension": ".py",
   "mimetype": "text/x-python",
   "name": "python",
   "nbconvert_exporter": "python",
   "pygments_lexer": "ipython3",
   "version": "3.9.7"
  },
  "otter": {
   "OK_FORMAT": true,
   "tests": {
    "q1_1": {
     "name": "q1_1",
     "points": null,
     "suites": [
      {
       "cases": [
        {
         "code": ">>> type(my_data_raw) == Table\nTrue",
         "hidden": false,
         "locked": false
        },
        {
         "code": ">>> my_data_raw.num_columns >= 6\nTrue",
         "hidden": false,
         "locked": false
        },
        {
         "code": ">>> my_data_raw.num_rows >= 100\nTrue",
         "hidden": false,
         "locked": false
        }
       ],
       "scored": true,
       "setup": "",
       "teardown": "",
       "type": "doctest"
      }
     ]
    },
    "q1_3": {
     "name": "q1_3",
     "points": null,
     "suites": [
      {
       "cases": [
        {
         "code": ">>> type(my_data_raw.column(var)) == np.ndarray\nTrue",
         "hidden": false,
         "locked": false
        },
        {
         "code": ">>> # Make sure that there are 2 levels in the variable you will be using for classification;\n>>> my_data_raw.group(var).num_rows == 2\nTrue",
         "hidden": false,
         "locked": false
        }
       ],
       "scored": true,
       "setup": "",
       "teardown": "",
       "type": "doctest"
      }
     ]
    }
   }
  }
 },
 "nbformat": 4,
 "nbformat_minor": 1
}
