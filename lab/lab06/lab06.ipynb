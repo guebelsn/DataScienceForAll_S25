{
 "cells": [
  {
   "cell_type": "code",
   "execution_count": null,
   "id": "f09893a5",
   "metadata": {
    "deletable": false,
    "editable": false
   },
   "outputs": [],
   "source": [
    "# Initialize Otter\n",
    "import otter\n",
    "grader = otter.Notebook(\"lab06.ipynb\")"
   ]
  },
  {
   "cell_type": "markdown",
   "id": "f10865b9",
   "metadata": {},
   "source": [
    "## Lab 6: Examining the Therapeutic Touch\n",
    "\n",
    "Welcome to Lab 6!\n",
    "\n",
    "After such an extensive introduction to programming for data science, we are finally moving into the section of the course where we can apply our new skils to answer real questions.  \n",
    "\n",
    "In this lab, we'll use testing techniques that were introduced in lecture to test the idea of the therapeutic touch, the idea that some practitioner can feel and massage your human energy field. "
   ]
  },
  {
   "cell_type": "code",
   "execution_count": null,
   "id": "18d2b181",
   "metadata": {
    "execution": {
     "iopub.execute_input": "2022-03-01T08:49:10.973945Z",
     "iopub.status.busy": "2022-03-01T08:49:10.971317Z",
     "iopub.status.idle": "2022-03-01T08:49:12.625254Z",
     "shell.execute_reply": "2022-03-01T08:49:12.624276Z"
    }
   },
   "outputs": [],
   "source": [
    "# Run this cell, but please don't change it.\n",
    "\n",
    "# These lines import the Numpy and Datascience modules.\n",
    "import numpy as np\n",
    "from datascience import *\n",
    "\n",
    "# These lines do some fancy plotting magic\n",
    "import matplotlib\n",
    "%matplotlib inline\n",
    "import matplotlib.pyplot as plt\n",
    "plt.style.use('fivethirtyeight')\n",
    "import warnings\n",
    "warnings.simplefilter('ignore', FutureWarning)\n",
    "from matplotlib import patches\n",
    "from ipywidgets import interact, interactive, fixed\n",
    "import ipywidgets as widgets\n"
   ]
  },
  {
   "cell_type": "markdown",
   "id": "beb9c4d5",
   "metadata": {},
   "source": [
    "# Lab Warm Up!\n",
    "We will work together as a class in the following coding cells to prepare you for all sections of this lab. \n",
    "\n",
    "**Make sure to come to lab on time so you don't miss points for this warm-up!**"
   ]
  },
  {
   "cell_type": "markdown",
   "id": "82517744",
   "metadata": {},
   "source": [
    "Let's review hypothesis testing teminology, click in this markdown cell and add what we discuss as a class:\n",
    "\n",
    "....\n",
    "....\n",
    "...."
   ]
  },
  {
   "cell_type": "code",
   "execution_count": null,
   "id": "92ccb8f2",
   "metadata": {},
   "outputs": [],
   "source": [
    "# Proportions\n",
    "# Consider a high school where the student population identifies as followed:\n",
    "# 46% male, 49% female & 5% non-binary\n",
    "student_proportions = make_array(0.46, 0.49, 0.05)\n",
    "student_proportions\n"
   ]
  },
  {
   "cell_type": "code",
   "execution_count": null,
   "id": "25a04d21",
   "metadata": {},
   "outputs": [],
   "source": [
    "# Taking 100 random samples from the above population (run this 3 times in a row)\n",
    "..."
   ]
  },
  {
   "cell_type": "code",
   "execution_count": null,
   "id": "18b565e8",
   "metadata": {},
   "outputs": [],
   "source": [
    "# Simulating 500 times, save proportion of female students in an array, visualize\n",
    "...\n",
    "...\n",
    "...\n"
   ]
  },
  {
   "cell_type": "code",
   "execution_count": null,
   "id": "a13c160b",
   "metadata": {},
   "outputs": [],
   "source": [
    "# Let's look at today's example: Examining Therapeutic Touch\n",
    "# We'll work on 1.1 - 1.3 as a class"
   ]
  },
  {
   "cell_type": "markdown",
   "id": "6f4d1486",
   "metadata": {},
   "source": [
    "## 1. What is the Therapeutic Touch\n",
    "\n",
    "The Therapeutic Touch (TT) is the idea that everyone can feel the Human Energy Field (HEF) around individuals.  Those who practice TT have described different people's HEFs as \"warm as Jell-O\" and \"tactile as taffy.\" \n",
    "\n",
    "TT was a popular technique used throughout the 20th century that was toted as a great way to bring balance to a person's health. Certain practitioners claim they have the ability to feel the HEF and can massage it in order to promote health and relaxation in individuals.\n",
    "\n",
    "### Emily Rosa\n",
    "\n",
    "[Emily Rosa](https://en.wikipedia.org/wiki/Emily_Rosa) was a 4th grade student who was very familiar with the world of TT, thanks to her parents, who were both medical practitioners and skeptics of TT.\n",
    "\n",
    "For her 4th grade science fair project, Emily decided to test whether or not TT practitioners could truly interact with a person's HEF. She later went on to publish her work in TT, becoming the youngest person to have a research paper published in a peer reviewed medical journal."
   ]
  },
  {
   "cell_type": "markdown",
   "id": "19e0b8ac",
   "metadata": {},
   "source": [
    "### Emily's Experiment\n",
    "\n",
    "Emily's experiment was clean, simple, and effective. Due to her parents' occupations in the medical field, she had wide access to people who claimed to be TT practitioners. \n",
    "\n",
    "Emily took 21 TT practitioners and used them for her science experiment. She would take a TT practitioner and ask them to extend their hands through a screen (which they can't see through). Emily would be on the other side and would flip a fair coin. Depending on how the coin landed, she would put out either her left hand or her right hand. The TT practitioner would then have to answer which hand Emily put out. If a pracitioner could truly interact with a person's HEF, it would be expected that they answered correctly.\n",
    "\n",
    "Overall, through 210 samples, the practitioner picked the correct hand 44% of the time. \n",
    "\n",
    "Emily's main goal here was to test whether or not the TT practicioners' guesses were random, like the flip of a coin. In most medical experiments, this is the norm. We want to test whether or not the treatment has an effect, *not* whether or not the treatment actually works. \n",
    "\n",
    "We will now begin to formulate this experiment in terms of the terminology we learned in this course. "
   ]
  },
  {
   "cell_type": "markdown",
   "id": "05f8d092",
   "metadata": {
    "deletable": false,
    "editable": false
   },
   "source": [
    "**Question 1.1**: Describe Emily’s model for how likely the TT practitioners are to choose the correct hand. What alternative model is her model meant to discredit? Discuss with students around you to come to a conclusion. Check in with your instructor or tutor if you are stuck.\n"
   ]
  },
  {
   "cell_type": "markdown",
   "id": "2bd5591c",
   "metadata": {},
   "source": [
    "_Type your answer here, replacing this text._"
   ]
  },
  {
   "cell_type": "markdown",
   "id": "43fe7150",
   "metadata": {
    "deletable": false,
    "editable": false
   },
   "source": [
    "**Question 1.2:** Remember that the practitioner got the correct answer 44% (0.44) of the time. According to Emily's model, on average, what proportion of times do we expect the practitioner to guess the correct hand? Make sure your answer is a number between 0 and 1. \n"
   ]
  },
  {
   "cell_type": "code",
   "execution_count": null,
   "id": "794919ed",
   "metadata": {
    "execution": {
     "iopub.execute_input": "2022-03-01T08:49:12.633145Z",
     "iopub.status.busy": "2022-03-01T08:49:12.632539Z",
     "iopub.status.idle": "2022-03-01T08:49:12.636232Z",
     "shell.execute_reply": "2022-03-01T08:49:12.635787Z"
    },
    "tags": []
   },
   "outputs": [],
   "source": [
    "expected_proportion_correct = ...\n",
    "expected_proportion_correct"
   ]
  },
  {
   "cell_type": "code",
   "execution_count": null,
   "id": "44615142",
   "metadata": {
    "deletable": false,
    "editable": false
   },
   "outputs": [],
   "source": [
    "grader.check(\"q1_2\")"
   ]
  },
  {
   "cell_type": "markdown",
   "id": "3178209b",
   "metadata": {
    "deletable": false,
    "editable": false
   },
   "source": [
    "The goal now is to see if our **deviation** from this expected proportion of correct answers is due to something other than chance.\n",
    "\n",
    "**Question 1.3:** We usually use a statistic to help determine which model the evidence points towards. What is a statistic that we can use to compare outcomes under Emily’s model to what was observed? Assign `valid_stat` to the integer that represents the best test statistic that Emily can use: \n",
    "\n",
    "1. The difference between the expected percent correct and the actual percent correct\n",
    "2. The absolute difference between the expected percent correct and the actual percent correct\n",
    "3. The sum of the expected percent correct and the actual percent correct\n"
   ]
  },
  {
   "cell_type": "code",
   "execution_count": null,
   "id": "b5549b9f",
   "metadata": {
    "execution": {
     "iopub.execute_input": "2022-03-01T08:49:12.657322Z",
     "iopub.status.busy": "2022-03-01T08:49:12.656794Z",
     "iopub.status.idle": "2022-03-01T08:49:12.659911Z",
     "shell.execute_reply": "2022-03-01T08:49:12.659458Z"
    },
    "tags": []
   },
   "outputs": [],
   "source": [
    "valid_stat = ...\n",
    "valid_stat"
   ]
  },
  {
   "cell_type": "code",
   "execution_count": null,
   "id": "c18a0ac8",
   "metadata": {
    "deletable": false,
    "editable": false
   },
   "outputs": [],
   "source": [
    "grader.check(\"q1_3\")"
   ]
  },
  {
   "cell_type": "markdown",
   "id": "e2582cc9",
   "metadata": {
    "deletable": false,
    "editable": false
   },
   "source": [
    "**Question 1.4:** Why is the statistic from Question 1.3 the appropriate choice for comparing outcomes in Emily's experiment? How does it relate to the models you defined in Question 1.1?\n"
   ]
  },
  {
   "cell_type": "markdown",
   "id": "7deea76c",
   "metadata": {},
   "source": [
    "_Type your answer here, replacing this text._"
   ]
  },
  {
   "cell_type": "markdown",
   "id": "f8ef947d",
   "metadata": {
    "deletable": false,
    "editable": false
   },
   "source": [
    "**Question 1.5:** Define the function `statistic` which takes in an expected proportion and an actual proportion, and returns the value of the statistic chosen in Question 1.3. Assume that the argument takes in proportions, but  return your answer as a percentage. \n",
    "\n"
   ]
  },
  {
   "cell_type": "code",
   "execution_count": null,
   "id": "e5d83adb",
   "metadata": {
    "execution": {
     "iopub.execute_input": "2022-03-01T08:49:12.681866Z",
     "iopub.status.busy": "2022-03-01T08:49:12.681162Z",
     "iopub.status.idle": "2022-03-01T08:49:12.683882Z",
     "shell.execute_reply": "2022-03-01T08:49:12.683314Z"
    },
    "tags": []
   },
   "outputs": [],
   "source": [
    "#HINT: Remember we are asking for a **percentage**, not a proportion. \n",
    "def statistic(expected_prop, actual_prop):\n",
    "    ..."
   ]
  },
  {
   "cell_type": "code",
   "execution_count": null,
   "id": "470a747b",
   "metadata": {
    "deletable": false,
    "editable": false
   },
   "outputs": [],
   "source": [
    "grader.check(\"q1_5\")"
   ]
  },
  {
   "cell_type": "markdown",
   "id": "d95c0ad0",
   "metadata": {
    "deletable": false,
    "editable": false
   },
   "source": [
    "**Question 1.6:** Use your newly defined function `statistic` to calculate the observed statistic from Emily's experiment. \n"
   ]
  },
  {
   "cell_type": "code",
   "execution_count": null,
   "id": "7ab0b24b",
   "metadata": {
    "execution": {
     "iopub.execute_input": "2022-03-01T08:49:12.704197Z",
     "iopub.status.busy": "2022-03-01T08:49:12.703651Z",
     "iopub.status.idle": "2022-03-01T08:49:12.738812Z",
     "shell.execute_reply": "2022-03-01T08:49:12.739245Z"
    },
    "tags": []
   },
   "outputs": [],
   "source": [
    "observed_statistic = ...\n",
    "observed_statistic"
   ]
  },
  {
   "cell_type": "code",
   "execution_count": null,
   "id": "b6c24ef8",
   "metadata": {
    "deletable": false,
    "editable": false
   },
   "outputs": [],
   "source": [
    "grader.check(\"q1_6\")"
   ]
  },
  {
   "cell_type": "markdown",
   "id": "655234fe",
   "metadata": {},
   "source": [
    "**Is this observed statistic consistent with what we expect to see under Emily’s model?**\n",
    "\n",
    "In order to answer this question, we must simulate the experiment as though Emily's model was correct, and calculate our statistic for every simulation.\n",
    "\n",
    "### `sample_proportions`\n",
    "\n",
    "`sample_proportions` can be used to randomly sample from multiple categories when you know the proportion of data points that are expected to fall in each category. `sample_proportions` takes two arguments: the sample size and an array that contains the distribution of categories in the population (should sum to 1).\n",
    "\n",
    "Consider flipping a fair coin, where the two outcomes (coin lands heads and coin lands tails) occur with an equal chance. We expect that half of all coin flips will land heads, and half of all coin flips will land tails.\n",
    "\n",
    "Run the following cell to see the simulation of 10 flips of a fair coin. Let the first item of `coin_proportions` be the proportion of heads and the second item of `coin_proportions` be the proportion of tails.\n",
    "\n",
    "*Observe what happens when you run this cell multiple times—the proportion of coin flips that land heads and tails appears to change, as you are simulating flipping 10 coins each time!*"
   ]
  },
  {
   "cell_type": "code",
   "execution_count": null,
   "id": "f71561b3",
   "metadata": {
    "execution": {
     "iopub.execute_input": "2022-03-01T08:49:12.751836Z",
     "iopub.status.busy": "2022-03-01T08:49:12.750576Z",
     "iopub.status.idle": "2022-03-01T08:49:12.755362Z",
     "shell.execute_reply": "2022-03-01T08:49:12.754846Z"
    }
   },
   "outputs": [],
   "source": [
    "coin_proportions = make_array(0.5, 0.5) \n",
    "ten_flips = sample_proportions(10, coin_proportions)\n",
    "ten_flips"
   ]
  },
  {
   "cell_type": "markdown",
   "id": "0e6fdf4b",
   "metadata": {},
   "source": [
    "`sample_proportions` returns an array that is the same length as the proportion array that is passed through. It contains the proportion of each category that appears in the sample. \n",
    "\n",
    "In our example, the first item of `ten_flips` is the simulated proportion of heads and the second item of `ten_flips` is the simulated proportion of tails."
   ]
  },
  {
   "cell_type": "code",
   "execution_count": null,
   "id": "8432a8c4",
   "metadata": {
    "execution": {
     "iopub.execute_input": "2022-03-01T08:49:12.759836Z",
     "iopub.status.busy": "2022-03-01T08:49:12.757937Z",
     "iopub.status.idle": "2022-03-01T08:49:12.763208Z",
     "shell.execute_reply": "2022-03-01T08:49:12.762728Z"
    }
   },
   "outputs": [],
   "source": [
    "simulated_proportion_heads = ten_flips.item(0)\n",
    "simulated_proportion_tails = ten_flips.item(1)\n",
    "\n",
    "print(\"In our simulation, \" + str(simulated_proportion_heads) + \" of flips were heads and \" \\\n",
    "      + str(simulated_proportion_tails) + \" of flips were tails.\")"
   ]
  },
  {
   "cell_type": "markdown",
   "id": "a47c98dc",
   "metadata": {
    "deletable": false,
    "editable": false
   },
   "source": [
    "**Question 1.7:** To begin simulating, we should start by creating a representation of Emily's model to use for our simulation. This will be an array with two items in it. The first item should be the proportion of times a TT practictioner picks the correct hand, assuming that Emily’s model was correct. The second item should be the proportion of times, under the same assumption, that the TT practitioner picks the incorrect hand. Assign `model_proportions` to this array. \n",
    "\n",
    "After this, we can simulate 210 hand choices, as Emily evaluated in real life, and find a single statistic to summarize this instance of the simulation. Use the `sample_proportions` function and assign the **proportion of correct hand choices** (out of 210) to `simulation_proportion_correct`. Lastly, use your statistic function to assign `one_statistic`  to the value of the statistic for this one simulation.\n",
    "\n",
    "*Hint:* `sample_proportions` usage can be found on the [Python Reference](http://data8.org/fa21/python-reference.html).\n"
   ]
  },
  {
   "cell_type": "code",
   "execution_count": null,
   "id": "796ae4b0",
   "metadata": {
    "execution": {
     "iopub.execute_input": "2022-03-01T08:49:12.769448Z",
     "iopub.status.busy": "2022-03-01T08:49:12.768875Z",
     "iopub.status.idle": "2022-03-01T08:49:12.771785Z",
     "shell.execute_reply": "2022-03-01T08:49:12.772137Z"
    },
    "tags": []
   },
   "outputs": [],
   "source": [
    "# This saves the random state of our code so that we can \n",
    "# generate the same numbers each time we run the code.\n",
    "# Please do not change this line. \n",
    "np.random.seed(16)\n",
    "\n",
    "# STEP 1: Make an array of 2 elements representing the proportions of Emily's model (representing correct/incorrect hand picks)\n",
    "model_proportions = ...\n",
    "# STEP 2: Use the sample_proportions functions to simulate 210 hand choices. The first item in the array will represent proportion of correct hand picks\n",
    "simulation_proportion_correct = ...\n",
    "# STEP 3: Use the statistic function that you defined in question 1.5 to find the value of the statistic for this simulation, assign it to one_statistic\n",
    "one_statistic = ...\n",
    "one_statistic"
   ]
  },
  {
   "cell_type": "code",
   "execution_count": null,
   "id": "fec2609c",
   "metadata": {
    "deletable": false,
    "editable": false
   },
   "outputs": [],
   "source": [
    "grader.check(\"q1_7\")"
   ]
  },
  {
   "cell_type": "markdown",
   "id": "89287a75",
   "metadata": {},
   "source": [
    "**Question 1.8:** Let's now see what the distribution of statistics is actually like under Emily's model. \n",
    "\n",
    "**Part 1** Define the function `simulation_and_statistic` to take in the `model_proportions` array and the expected proportion of times a TT practitioner would guess a hand correctly under Emily's model. The function should simulate Emily running through the experiment 210 times and return the statistic of this one simulation. \n",
    "\n",
    "**Part 2** Using this function, assign `simulated_statistics` to an array of 1000 statistics that you calculated under the assumption that Emily's model was true. "
   ]
  },
  {
   "cell_type": "code",
   "execution_count": null,
   "id": "3609ec2a",
   "metadata": {
    "execution": {
     "iopub.execute_input": "2022-03-01T08:49:12.861874Z",
     "iopub.status.busy": "2022-03-01T08:49:12.861307Z",
     "iopub.status.idle": "2022-03-01T08:49:12.863773Z",
     "shell.execute_reply": "2022-03-01T08:49:12.863225Z"
    },
    "for_assignment_type": "solution",
    "tags": []
   },
   "outputs": [],
   "source": [
    "# PART 1: Define a function\n",
    "# HINT: This code should follow the same pattern as the code you wrote in the previous problem. \n",
    "\n",
    "def simulation_and_statistic(model_proportions, expected_proportion_correct):\n",
    "    '''Simulates 210 TT hand choices under Emily’s model. \n",
    "    Returns one statistic from the simulation.'''\n",
    "    # STEP 1: Use the sample_proportions functions to simulate 210 proportions from model_proportions. The first item in the array will represent the proportion of correct hand picks\n",
    "    simulated_proportion = ...\n",
    "    # STEP 2: Use the statistic function with the correct function arguments to find the value of the statistic for this simulation\n",
    "    simulated_statistic = ...\n",
    "    # STEP 3: return the obtained statistic from the function\n",
    "    ...\n",
    "    "
   ]
  },
  {
   "cell_type": "code",
   "execution_count": null,
   "id": "f2b8e885",
   "metadata": {
    "execution": {
     "iopub.execute_input": "2022-03-01T08:49:12.870636Z",
     "iopub.status.busy": "2022-03-01T08:49:12.870089Z",
     "iopub.status.idle": "2022-03-01T08:49:12.886491Z",
     "shell.execute_reply": "2022-03-01T08:49:12.886940Z"
    },
    "tags": []
   },
   "outputs": [],
   "source": [
    "# PART 2: Use the simulation_and_statistics function to simulate 1000 times\n",
    "num_repetitions = 1000\n",
    "\n",
    "# STEP 1: Start from an empty array\n",
    "simulated_statistics = ...\n",
    "\n",
    "# STEP 2: Create a loop that runs for num_repetitions iterations\n",
    "for ... in ...:\n",
    "# STEP 3: get a statistic for each iteration of the loop\n",
    "    ...\n",
    "# STEP 4: append the statistic to the array of simulated statistics\n",
    "    ...\n",
    "\n",
    "simulated_statistics # This should output an array of 1000 statistics"
   ]
  },
  {
   "cell_type": "code",
   "execution_count": null,
   "id": "8be8f51b",
   "metadata": {
    "deletable": false,
    "editable": false
   },
   "outputs": [],
   "source": [
    "grader.check(\"q1_8\")"
   ]
  },
  {
   "cell_type": "markdown",
   "id": "b254d61d",
   "metadata": {},
   "source": [
    "Let's view the distribution of the simulated statistics under Emily's model, and visually compare where the observed statistic lies relative to the simulated statistics."
   ]
  },
  {
   "cell_type": "code",
   "execution_count": null,
   "id": "e13fb9af",
   "metadata": {
    "execution": {
     "iopub.execute_input": "2022-03-01T08:49:12.971415Z",
     "iopub.status.busy": "2022-03-01T08:49:12.967593Z",
     "iopub.status.idle": "2022-03-01T08:49:13.259610Z",
     "shell.execute_reply": "2022-03-01T08:49:13.260120Z"
    }
   },
   "outputs": [],
   "source": [
    "t = Table().with_column('Simulated Statistics', simulated_statistics)\n",
    "t.hist()\n",
    "plt.scatter(observed_statistic, 0, color='red', s=100, zorder=2);"
   ]
  },
  {
   "cell_type": "markdown",
   "id": "b6c59b76",
   "metadata": {},
   "source": [
    "We can make a visual argument as to whether we believe the observed statistic is consistent with Emily’s model. Here, since larger values of the test statistic suggest the alternative model (where the chance of guessing the correct hand is something other than 50%), we can formalize our analysis by finding what proportion of simulated statistics were as large or larger than our observed test statistic (the area at or to the right of the observed test statistic). If this area is small enough, we’ll declare that the observed data are inconsistent with our simulated model. Here is the [link](https://inferentialthinking.com/chapters/11/1/Assessing_a_Model.html) to the section in the textbook."
   ]
  },
  {
   "cell_type": "markdown",
   "id": "4db3eb91",
   "metadata": {
    "deletable": false,
    "editable": false
   },
   "source": [
    "**Question 1.9:** Calculate the proportion of simulated statistics greater than or equal to the observed statistic. \n",
    "\n",
    "*Hint:* `np.count_nonzero` usage can be found [here](http://data8.org/fa21/python-reference.html).\n"
   ]
  },
  {
   "cell_type": "code",
   "execution_count": null,
   "id": "d02ef1ee",
   "metadata": {
    "execution": {
     "iopub.execute_input": "2022-03-01T08:49:13.266528Z",
     "iopub.status.busy": "2022-03-01T08:49:13.265402Z",
     "iopub.status.idle": "2022-03-01T08:49:13.269000Z",
     "shell.execute_reply": "2022-03-01T08:49:13.269376Z"
    },
    "scrolled": true,
    "tags": []
   },
   "outputs": [],
   "source": [
    "# HINT: Use np.count_nonzero together with a boolean conditional statement to find the number of simulated statistics that are greater or equal to the observed statistic\n",
    "proportion_greater_or_equal = ...\n",
    "proportion_greater_or_equal"
   ]
  },
  {
   "cell_type": "code",
   "execution_count": null,
   "id": "2c45ff4c",
   "metadata": {
    "deletable": false,
    "editable": false
   },
   "outputs": [],
   "source": [
    "grader.check(\"q1_9\")"
   ]
  },
  {
   "cell_type": "markdown",
   "id": "92cecb82",
   "metadata": {},
   "source": [
    "By convention, we often compare the proportion we just calculated to 0.05. If the proportion of simulated statistics greater than or equal to the observed statistic is sufficiently small (less than or equal to 0.05), then this is evidence against Emily's model. Conceptually, you may think of this as the case where less than 5% of simulated values are as far or farther away from what we had expected. If this is not the case, we don’t have any reason to doubt Emily’s model. \n",
    "\n",
    "This should help you make your own conclusions about Emily Rosa's experiment. \n",
    "\n",
    "Therapeutic touch fell out of use after this experiment, which was eventually accepted into one of the premier medical journals. TT practitioners hit back and accused Emily and her family of tampering with the results, while some claimed that Emily's bad spiritual mood towards therapeutic touch made it difficult to read her HEF. Whatever it may be, Emily's experiment is a classic example about how anyone, with the right resources, can test anything they want!"
   ]
  },
  {
   "cell_type": "markdown",
   "id": "2e8cf8fa",
   "metadata": {},
   "source": [
    "**Question 1.10:** Now, take some time to think to yourself and discuss with your peers:\n",
    "\n",
    "1. Is the data more consistent with Emily' model (practioners were randomly guessing)?\n",
    "2. What does this mean in terms of Emily's experiment? Do the TT practitioners' answers follow an even chance model or is there something else at play? \n",
    "\n",
    "Check in with your instructor or tutor if you are unsure about the answers.\n",
    "\n"
   ]
  },
  {
   "cell_type": "markdown",
   "id": "7e55e955",
   "metadata": {},
   "source": [
    "## 2. Submission\n",
    "\n",
    "<img src=\"appa_momo.jpg\" alt=\"drawing\" width=\"300\"/>\n",
    "\n",
    "Appa and Momo want to congratulate you on completing the lab!! Now you can relax like them! \n",
    "\n",
    "Be sure to...\n",
    "\n",
    "- run the tests and verify that they all pass, \n",
    "- choose **Download as PDF** from the **File** menu\n",
    "- submit the .pdf file on **canvas**."
   ]
  }
 ],
 "metadata": {
  "kernelspec": {
   "display_name": "Python 3",
   "language": "python",
   "name": "python3"
  },
  "language_info": {
   "codemirror_mode": {
    "name": "ipython",
    "version": 3
   },
   "file_extension": ".py",
   "mimetype": "text/x-python",
   "name": "python",
   "nbconvert_exporter": "python",
   "pygments_lexer": "ipython3",
   "version": "3.9.7"
  },
  "otter": {
   "OK_FORMAT": true,
   "tests": {
    "q1_2": {
     "name": "q1_2",
     "points": null,
     "suites": [
      {
       "cases": [
        {
         "code": ">>> 0 <= expected_proportion_correct <= 1\nTrue",
         "hidden": false,
         "locked": false
        },
        {
         "code": ">>> expected_proportion_correct == 0.5\nTrue",
         "hidden": false,
         "locked": false
        }
       ],
       "scored": true,
       "setup": "",
       "teardown": "",
       "type": "doctest"
      }
     ]
    },
    "q1_3": {
     "name": "q1_3",
     "points": null,
     "suites": [
      {
       "cases": [
        {
         "code": ">>> type(valid_stat) == int\nTrue",
         "hidden": false,
         "locked": false
        },
        {
         "code": ">>> valid_stat\n2",
         "hidden": false,
         "locked": false
        }
       ],
       "scored": true,
       "setup": "",
       "teardown": "",
       "type": "doctest"
      }
     ]
    },
    "q1_5": {
     "name": "q1_5",
     "points": null,
     "suites": [
      {
       "cases": [
        {
         "code": ">>> int(round(statistic(.5,.5) + statistic(.4,.1),1))\n30",
         "hidden": false,
         "locked": false
        },
        {
         "code": ">>> int(statistic(.4,.1) - statistic(.1,.4))\n0",
         "hidden": false,
         "locked": false
        }
       ],
       "scored": true,
       "setup": "",
       "teardown": "",
       "type": "doctest"
      }
     ]
    },
    "q1_6": {
     "name": "q1_6",
     "points": null,
     "suites": [
      {
       "cases": [
        {
         "code": ">>> int(round(observed_statistic,2))\n6",
         "hidden": false,
         "locked": false
        }
       ],
       "scored": true,
       "setup": "",
       "teardown": "",
       "type": "doctest"
      }
     ]
    },
    "q1_7": {
     "name": "q1_7",
     "points": null,
     "suites": [
      {
       "cases": [
        {
         "code": ">>> len(model_proportions) % 2 == 0\nTrue",
         "hidden": false,
         "locked": false
        },
        {
         "code": ">>> len(np.unique(model_proportions))\n1",
         "hidden": false,
         "locked": false
        },
        {
         "code": ">>> sum(model_proportions) == 1\nTrue",
         "hidden": false,
         "locked": false
        },
        {
         "code": ">>> type(simulation_proportion_correct) == float\nTrue",
         "hidden": false,
         "locked": false
        },
        {
         "code": ">>> round(simulation_proportion_correct, 2)\n0.49",
         "hidden": false,
         "locked": false
        },
        {
         "code": ">>> round(one_statistic, 2)\n0.95",
         "hidden": false,
         "locked": false
        }
       ],
       "scored": true,
       "setup": "",
       "teardown": "",
       "type": "doctest"
      }
     ]
    },
    "q1_8": {
     "name": "q1_8",
     "points": null,
     "suites": [
      {
       "cases": [
        {
         "code": ">>> len(simulated_statistics) == 1000\nTrue",
         "hidden": false,
         "locked": false
        },
        {
         "code": ">>> np.all(simulated_statistics <= 30)\nTrue",
         "hidden": false,
         "locked": false
        },
        {
         "code": ">>> np.all(simulated_statistics >= 0)\nTrue",
         "hidden": false,
         "locked": false
        },
        {
         "code": ">>> 0 <= simulation_and_statistic(model_proportions, expected_proportion_correct) <= 25\nTrue",
         "hidden": false,
         "locked": false
        }
       ],
       "scored": true,
       "setup": "",
       "teardown": "",
       "type": "doctest"
      }
     ]
    },
    "q1_9": {
     "name": "q1_9",
     "points": null,
     "suites": [
      {
       "cases": [
        {
         "code": ">>> 0 <= proportion_greater_or_equal <= 1\nTrue",
         "hidden": false,
         "locked": false
        },
        {
         "code": ">>> proportion_greater_or_equal*1000 == np.count_nonzero(simulated_statistics >= observed_statistic)\nTrue",
         "hidden": false,
         "locked": false
        }
       ],
       "scored": true,
       "setup": "",
       "teardown": "",
       "type": "doctest"
      }
     ]
    }
   }
  }
 },
 "nbformat": 4,
 "nbformat_minor": 5
}
