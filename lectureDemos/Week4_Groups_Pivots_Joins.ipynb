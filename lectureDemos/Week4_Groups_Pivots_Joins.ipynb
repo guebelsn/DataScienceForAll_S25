{
 "cells": [
  {
   "cell_type": "code",
   "execution_count": null,
   "id": "6d829737",
   "metadata": {},
   "outputs": [],
   "source": [
    "from datascience import *\n",
    "import numpy as np\n",
    "\n",
    "%matplotlib inline\n",
    "import matplotlib.pyplot as plots\n",
    "plots.style.use('fivethirtyeight')"
   ]
  },
  {
   "cell_type": "markdown",
   "id": "f7fdd1f6",
   "metadata": {},
   "source": [
    "#### Comparing Histograms (Recap)"
   ]
  },
  {
   "cell_type": "code",
   "execution_count": null,
   "id": "42e8905f",
   "metadata": {},
   "outputs": [],
   "source": [
    "#Load data\n",
    "goals = Table.read_table('big5.csv').select(3, 9, 6, 10)\n",
    "#relabel columns\n",
    "goals = goals.relabeled(1, 'Home').relabeled(3, 'Away')\n",
    "goals"
   ]
  },
  {
   "cell_type": "code",
   "execution_count": null,
   "id": "c22608f2",
   "metadata": {
    "scrolled": true
   },
   "outputs": [],
   "source": [
    "# Recap: What does height represent/what does area represent?\n",
    "goals.hist('Away', unit = 'goals')"
   ]
  },
  {
   "cell_type": "code",
   "execution_count": null,
   "id": "b41a324a",
   "metadata": {},
   "outputs": [],
   "source": [
    "climate = Table.read_table('NOAA.csv').relabeled(5, '1948').relabeled(6, '2018')\n",
    "#How to get actual counts on the y-axis instead of percent/unit\n",
    "#Does it always make sense?\n",
    "climate.hist(5, 6, unit = 'days above 90 degrees F', \n",
    "             bins = make_array(0,10,30,60,80,100)) "
   ]
  },
  {
   "cell_type": "markdown",
   "id": "7537b68d",
   "metadata": {},
   "source": [
    "## Groups"
   ]
  },
  {
   "cell_type": "code",
   "execution_count": null,
   "id": "2bea2c54",
   "metadata": {},
   "outputs": [],
   "source": [
    "# load cones.csv\n",
    "all_cones = Table.read_table('cones.csv')\n",
    "all_cones"
   ]
  },
  {
   "cell_type": "code",
   "execution_count": null,
   "id": "f844b4f6",
   "metadata": {},
   "outputs": [],
   "source": [
    "all_cones.column('Price')/2"
   ]
  },
  {
   "cell_type": "code",
   "execution_count": null,
   "id": "62da07e6",
   "metadata": {},
   "outputs": [],
   "source": [
    "# TODO: recap creating/ applying a function\n",
    "# create function to half the prices of columns above and add the result as a new column\n",
    "def half(myArray):\n",
    "    return np.round(myArray/2,2)\n"
   ]
  },
  {
   "cell_type": "code",
   "execution_count": null,
   "id": "f98277a5",
   "metadata": {},
   "outputs": [],
   "source": [
    "newPrices = half(all_cones.column('Price'))\n",
    "# newPrices = all_cones.apply(half, 'Price')"
   ]
  },
  {
   "cell_type": "code",
   "execution_count": null,
   "id": "d6d631a5",
   "metadata": {},
   "outputs": [],
   "source": [
    "all_cones.with_column('reduced Price', newPrices)"
   ]
  },
  {
   "cell_type": "code",
   "execution_count": null,
   "id": "c084b3af",
   "metadata": {},
   "outputs": [],
   "source": [
    "# TODO: group by 'Flavor'\n",
    "all_cones.select(0,2).group('Flavor',np.average)\n"
   ]
  },
  {
   "cell_type": "code",
   "execution_count": null,
   "id": "52386b32",
   "metadata": {},
   "outputs": [],
   "source": [
    "# TODO: group by 'Flavor', but now looking at average (Price) instead of count/len\n"
   ]
  },
  {
   "cell_type": "markdown",
   "id": "24ecb7bf",
   "metadata": {},
   "source": [
    "## Grouping by 2 attributes/columns"
   ]
  },
  {
   "cell_type": "code",
   "execution_count": null,
   "id": "608d4c46",
   "metadata": {},
   "outputs": [],
   "source": [
    "#TODO: group by flavor and color"
   ]
  },
  {
   "cell_type": "code",
   "execution_count": null,
   "id": "f6ad9897",
   "metadata": {},
   "outputs": [],
   "source": [
    "all_cones.group(make_array('Flavor', 'Color'), list)"
   ]
  },
  {
   "cell_type": "markdown",
   "id": "bc034006",
   "metadata": {},
   "source": [
    "### Let's look at 2 categorical variables in a bigger data set\n",
    "Grouping by 2 different attributes/columns"
   ]
  },
  {
   "cell_type": "code",
   "execution_count": null,
   "id": "27d03a63",
   "metadata": {},
   "outputs": [],
   "source": [
    "nba = Table.read_table('nba_salaries.csv').relabeled(4, 'SALARY')\n",
    "nba"
   ]
  },
  {
   "cell_type": "markdown",
   "id": "3eeb8e6a",
   "metadata": {},
   "source": [
    "#### Question: Which NBA teams spent the most on their “starters” in 2015-2016?\n",
    "Assum the “starter” for a team & position is the player with the highest salary on that team in that position\n"
   ]
  },
  {
   "cell_type": "code",
   "execution_count": null,
   "id": "b03b172e",
   "metadata": {},
   "outputs": [],
   "source": [
    "#TODO: drop data that we are not interested in\n",
    "nba.drop(0,1).group(['TEAM','POSITION'], max).sort('SALARY max', descending = True)"
   ]
  },
  {
   "cell_type": "code",
   "execution_count": null,
   "id": "cc4b76c4",
   "metadata": {},
   "outputs": [],
   "source": [
    "#TODO: group by TEAM & position, should we just look at the count?\n"
   ]
  },
  {
   "cell_type": "markdown",
   "id": "0bd7cff4",
   "metadata": {},
   "source": [
    "## Pivot: another way to look at 2 categorical variables"
   ]
  },
  {
   "cell_type": "code",
   "execution_count": null,
   "id": "ffec654a",
   "metadata": {},
   "outputs": [],
   "source": [
    "#TODO: Revisit our simple table of cones\n",
    "all_cones.pivot('Color','Flavor', 'Price', min)\n"
   ]
  },
  {
   "cell_type": "code",
   "execution_count": null,
   "id": "27ace3d6",
   "metadata": {},
   "outputs": [],
   "source": [
    "#TODO: Can we look at something else but count? Maybe the average price?\n"
   ]
  },
  {
   "cell_type": "code",
   "execution_count": null,
   "id": "f18fb9cb",
   "metadata": {},
   "outputs": [],
   "source": [
    "nba"
   ]
  },
  {
   "cell_type": "markdown",
   "id": "211fdc9a",
   "metadata": {},
   "source": [
    "#### Revisit Question: Which NBA teams spent the most on their “starters” in 2015-2016?\n",
    "Assum the “starter” for a team & position is the player with the highest salary on that team in that position"
   ]
  },
  {
   "cell_type": "code",
   "execution_count": null,
   "id": "f423c438",
   "metadata": {},
   "outputs": [],
   "source": [
    "nba.drop(0,1).pivot('POSITION', 'TEAM', 'SALARY', max)"
   ]
  },
  {
   "cell_type": "code",
   "execution_count": null,
   "id": "b762a9cf",
   "metadata": {},
   "outputs": [],
   "source": []
  },
  {
   "cell_type": "code",
   "execution_count": null,
   "id": "08cd0990",
   "metadata": {},
   "outputs": [],
   "source": []
  },
  {
   "cell_type": "markdown",
   "id": "50a81e70",
   "metadata": {},
   "source": [
    "### Comparing distributions, answering questions about associations\n",
    "Let's use what we learned using group, pivot, functions\n",
    "Data set from https://data.ca.gov/dataset/ca-educational-attainment-personal-income/resource/26201f19-4469-4311-a819-bbbd3e557eda\n",
    "Represents the education and income data for California Adults (2008 - 2014)"
   ]
  },
  {
   "cell_type": "code",
   "execution_count": null,
   "id": "27fdb88e",
   "metadata": {},
   "outputs": [],
   "source": [
    "full_table = Table.read_table('educ_inc.csv')\n",
    "full_table"
   ]
  },
  {
   "cell_type": "code",
   "execution_count": null,
   "id": "c37d23ea",
   "metadata": {},
   "outputs": [],
   "source": [
    "#Only look at adults (18+) in 2014\n",
    "ca_2014 = full_table.where('Year', are.equal_to('1/1/14 0:00')).where(\n",
    "    'Age', are.not_equal_to('00 to 17')).drop(0)\n",
    "ca_2014"
   ]
  },
  {
   "cell_type": "code",
   "execution_count": null,
   "id": "d1a082e1",
   "metadata": {},
   "outputs": [],
   "source": [
    "#Let's focus in on adults qho are between 18 - 64, \n",
    "#let's narrow in on that age group\n",
    "ca_2014 = ca_2014.where('Age', '18 to 64')\n",
    "ca_2014\n",
    "#TODO: can we look at just 2 attributes/columns and use pivot to cross-classify\n",
    "# step 1: drop unnecessary \n",
    "edu_Income = ca_2014.drop(0,1)\n",
    "\n",
    "#step 2: use pivot\n",
    "pivot_eduIncome = edu_Income.pivot('Educational Attainment','Personal Income', 'Population Count', sum)\n",
    "pivot_eduIncome\n"
   ]
  },
  {
   "cell_type": "code",
   "execution_count": null,
   "id": "84af58a0",
   "metadata": {},
   "outputs": [],
   "source": [
    "# Is this information easy to interpret? How about looking at percent?"
   ]
  },
  {
   "cell_type": "code",
   "execution_count": null,
   "id": "05ba1205",
   "metadata": {},
   "outputs": [],
   "source": [
    "def percent(values):\n",
    "    return np.round(values/sum(values) * 100,2)"
   ]
  },
  {
   "cell_type": "code",
   "execution_count": null,
   "id": "6a4ad56c",
   "metadata": {},
   "outputs": [],
   "source": [
    "#TODO: use the function percent to create a distribution table\n",
    "distribution = pivot_eduIncome. select(0).with_columns(\n",
    "    'BS or higher', percent(pivot_eduIncome.column(1)),\n",
    "    '< 4 year degree', percent(pivot_eduIncome.column(2)),\n",
    "    'High school', percent(pivot_eduIncome.column(3)))\n",
    "distribution"
   ]
  },
  {
   "cell_type": "code",
   "execution_count": null,
   "id": "8347f0ed",
   "metadata": {},
   "outputs": [],
   "source": [
    "distribution.barh('Personal Income')"
   ]
  },
  {
   "cell_type": "code",
   "execution_count": null,
   "id": "981203ee",
   "metadata": {},
   "outputs": [],
   "source": []
  },
  {
   "cell_type": "code",
   "execution_count": null,
   "id": "5a63ce74",
   "metadata": {},
   "outputs": [],
   "source": []
  },
  {
   "cell_type": "code",
   "execution_count": null,
   "id": "0fd8a342",
   "metadata": {
    "scrolled": true
   },
   "outputs": [],
   "source": [
    "#TODO: visualize to see if there is an association (barh())"
   ]
  },
  {
   "cell_type": "markdown",
   "id": "9bc8e8bf",
   "metadata": {},
   "source": [
    "## Combining 2 tables using join"
   ]
  },
  {
   "cell_type": "code",
   "execution_count": null,
   "id": "41bd7075",
   "metadata": {},
   "outputs": [],
   "source": [
    "# Create a table of drinks\n",
    "drinks = Table(['Drink','Cafe','Price']).with_rows([\n",
    "    ['Milk Tea', 'Tea One', 4],\n",
    "    ['Espresso', 'Nefeli', 2],\n",
    "    ['Latte', 'Nefeli', 3],\n",
    "    ['Espresso', \"Abe's\", 2]])\n",
    "drinks"
   ]
  },
  {
   "cell_type": "code",
   "execution_count": null,
   "id": "f33099ee",
   "metadata": {},
   "outputs": [],
   "source": [
    "discounts = Table(). with_columns(\n",
    "    'Coupon % off', make_array(25,50,5),\n",
    "    'Location', make_array('Tea One', 'Nefeli', 'Tea One'))\n",
    "discounts"
   ]
  },
  {
   "cell_type": "code",
   "execution_count": null,
   "id": "06959eb9",
   "metadata": {},
   "outputs": [],
   "source": [
    "#TODO: create a combined table using join\n",
    "newDrinks = drinks.join('Cafe',discounts,'Location' )\n",
    "newDrinks"
   ]
  },
  {
   "cell_type": "code",
   "execution_count": null,
   "id": "b887735d",
   "metadata": {},
   "outputs": [],
   "source": [
    "#TODO: add a reduced price column\n",
    "reducedPrice = newDrinks.column('Price') - (newDrinks.column('Coupon % off') / 100) * newDrinks.column('Price')\n",
    "newDrinks.with_column('Reduced', reducedPrice)"
   ]
  },
  {
   "cell_type": "markdown",
   "id": "dce9d204",
   "metadata": {},
   "source": [
    "## SF Bike Share Example"
   ]
  },
  {
   "cell_type": "code",
   "execution_count": null,
   "id": "e8c046a8",
   "metadata": {},
   "outputs": [],
   "source": [
    "#Ride share example\n",
    "trips = Table.read_table('trips_2.csv')\n",
    "trips"
   ]
  },
  {
   "cell_type": "code",
   "execution_count": null,
   "id": "72d48a69",
   "metadata": {},
   "outputs": [],
   "source": [
    "#TODO: try visualizing a histogram of duration of bike use, is this useful?\n",
    "trips.hist('Duration')"
   ]
  },
  {
   "cell_type": "code",
   "execution_count": null,
   "id": "f43caded",
   "metadata": {},
   "outputs": [],
   "source": [
    "#TODO: let's narrow it down to useful data (maybe duration up to 30 min)\n",
    "# minutes or less: 30*60 = 1800 seconds\n",
    "# Try histogram again, what can we learn from this histogram?\n",
    "commute = trips.where('Duration', are.below(1800))\n",
    "commute.hist('Duration')"
   ]
  },
  {
   "cell_type": "code",
   "execution_count": null,
   "id": "d87454fa",
   "metadata": {},
   "outputs": [],
   "source": [
    "# how about cross-classifying? let's look at most popular start station\n"
   ]
  },
  {
   "cell_type": "code",
   "execution_count": null,
   "id": "bda3391e",
   "metadata": {},
   "outputs": [],
   "source": [
    "# How about most popular start to end?\n"
   ]
  }
 ],
 "metadata": {
  "kernelspec": {
   "display_name": "Python 3 (ipykernel)",
   "language": "python",
   "name": "python3"
  },
  "language_info": {
   "codemirror_mode": {
    "name": "ipython",
    "version": 3
   },
   "file_extension": ".py",
   "mimetype": "text/x-python",
   "name": "python",
   "nbconvert_exporter": "python",
   "pygments_lexer": "ipython3",
   "version": "3.7.8"
  }
 },
 "nbformat": 4,
 "nbformat_minor": 5
}
