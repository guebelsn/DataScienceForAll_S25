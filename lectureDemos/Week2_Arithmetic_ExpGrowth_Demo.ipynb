{
 "cells": [
  {
   "cell_type": "code",
   "execution_count": null,
   "id": "55104dcb",
   "metadata": {},
   "outputs": [],
   "source": [
    "from datascience import *\n",
    "\n",
    "import numpy as np\n",
    "import matplotlib.pyplot as plt\n",
    "\n",
    "%matplotlib inline\n",
    "plt.style.use('fivethirtyeight')"
   ]
  },
  {
   "cell_type": "markdown",
   "id": "efadc00d",
   "metadata": {},
   "source": [
    "## Arithmetic in Python "
   ]
  },
  {
   "cell_type": "code",
   "execution_count": null,
   "id": "39c7fadd",
   "metadata": {},
   "outputs": [],
   "source": [
    "2+3"
   ]
  },
  {
   "cell_type": "code",
   "execution_count": null,
   "id": "c49cbfdb",
   "metadata": {},
   "outputs": [],
   "source": [
    "2 * 3"
   ]
  },
  {
   "cell_type": "code",
   "execution_count": null,
   "id": "733363e6",
   "metadata": {},
   "outputs": [],
   "source": [
    "2 ** 3"
   ]
  },
  {
   "cell_type": "code",
   "execution_count": null,
   "id": "4daf42a0",
   "metadata": {},
   "outputs": [],
   "source": [
    "2 ** 3"
   ]
  },
  {
   "cell_type": "code",
   "execution_count": null,
   "id": "2d3855b9",
   "metadata": {},
   "outputs": [],
   "source": [
    "(2)*(3)"
   ]
  },
  {
   "cell_type": "code",
   "execution_count": null,
   "id": "4e09d351",
   "metadata": {},
   "outputs": [],
   "source": [
    "2 % 3"
   ]
  },
  {
   "cell_type": "code",
   "execution_count": null,
   "id": "092cf459",
   "metadata": {},
   "outputs": [],
   "source": [
    "3 % 2"
   ]
  },
  {
   "cell_type": "markdown",
   "id": "fd8012f7",
   "metadata": {},
   "source": [
    "So, how will Python handle the equation that broke the internet?! 8 ÷ 2(2+2) = ?"
   ]
  },
  {
   "cell_type": "code",
   "execution_count": null,
   "id": "8dc78a01",
   "metadata": {},
   "outputs": [],
   "source": [
    "8 / 2 * (2 +2)"
   ]
  },
  {
   "cell_type": "code",
   "execution_count": null,
   "id": "adada1e6",
   "metadata": {},
   "outputs": [],
   "source": [
    "(10 * 2) ** 3"
   ]
  },
  {
   "cell_type": "code",
   "execution_count": null,
   "id": "622df881",
   "metadata": {},
   "outputs": [],
   "source": [
    "1/3"
   ]
  },
  {
   "cell_type": "code",
   "execution_count": null,
   "id": "3d490466",
   "metadata": {},
   "outputs": [],
   "source": [
    "1/ 3000"
   ]
  },
  {
   "cell_type": "code",
   "execution_count": null,
   "id": "d26af128",
   "metadata": {},
   "outputs": [],
   "source": [
    "0.33333333333333333 - 0.3333333333333333355555"
   ]
  },
  {
   "cell_type": "code",
   "execution_count": null,
   "id": "fb37d857",
   "metadata": {},
   "outputs": [],
   "source": [
    "8/3"
   ]
  },
  {
   "cell_type": "code",
   "execution_count": null,
   "id": "2298b8b3",
   "metadata": {},
   "outputs": [],
   "source": [
    "2 ** 0.5"
   ]
  },
  {
   "cell_type": "code",
   "execution_count": null,
   "id": "52f81aca",
   "metadata": {},
   "outputs": [],
   "source": [
    "(2 ** 0.5)* (2 ** 0.5)"
   ]
  },
  {
   "cell_type": "code",
   "execution_count": null,
   "id": "90f9d13a",
   "metadata": {},
   "outputs": [],
   "source": [
    "(2 ** 0.5) * (2 ** 0.5) - 2"
   ]
  },
  {
   "cell_type": "markdown",
   "id": "ecaa7ad9",
   "metadata": {},
   "source": [
    "Most of our analyses in this class will not require that we make a decision based on the 15th or 16th digit.  We are just looking at this so that you can keep this in mind when you write code and look at the outputs."
   ]
  },
  {
   "cell_type": "markdown",
   "id": "e3a24e28",
   "metadata": {},
   "source": [
    "## Exponential Growth "
   ]
  },
  {
   "cell_type": "markdown",
   "id": "77153d4d",
   "metadata": {},
   "source": [
    "Say that on August 7th, the amount of Ebola infections was 1830, and on September 7th, the amount of Ebola infections was 4366.  Let's use our formula in Python to compute the growth rate per month.  Recall from lecture: \n",
    "\n",
    "g = (changed/initial) ** (1/t) - 1"
   ]
  },
  {
   "cell_type": "code",
   "execution_count": null,
   "id": "e853b0ba",
   "metadata": {},
   "outputs": [],
   "source": [
    "initial = 1830\n",
    "changed = 4366"
   ]
  },
  {
   "cell_type": "code",
   "execution_count": null,
   "id": "c0a6b51b",
   "metadata": {},
   "outputs": [],
   "source": [
    "t =1"
   ]
  },
  {
   "cell_type": "code",
   "execution_count": null,
   "id": "0e2754d5",
   "metadata": {},
   "outputs": [],
   "source": [
    "g = (changed/initial)**(1/t)-1\n",
    "g"
   ]
  },
  {
   "cell_type": "markdown",
   "id": "6c5d00fc",
   "metadata": {},
   "source": [
    "So let's use this growth rate to make a prediction for October."
   ]
  },
  {
   "cell_type": "code",
   "execution_count": null,
   "id": "80d7f395",
   "metadata": {},
   "outputs": [],
   "source": [
    "# method 1: use September and keep t = 1\n",
    "changed * (1 + g)"
   ]
  },
  {
   "cell_type": "code",
   "execution_count": null,
   "id": "3f80444d",
   "metadata": {},
   "outputs": [],
   "source": [
    "#method 2: use August and t = 2 \n",
    "t = 2\n",
    "initial * (1 + g) ** t"
   ]
  },
  {
   "cell_type": "markdown",
   "id": "75b52c39",
   "metadata": {},
   "source": [
    "This is a scary number considering that the mortality rate from Ebola is about 50%  It is understandable that people were alarmed.  If this model had held, how many people could we expect to get Ebola by November?  December?"
   ]
  },
  {
   "cell_type": "code",
   "execution_count": null,
   "id": "1fb20e25",
   "metadata": {},
   "outputs": [],
   "source": [
    "t = 3\n",
    "initial * (1 + g) ** t"
   ]
  },
  {
   "cell_type": "code",
   "execution_count": null,
   "id": "6e05eb9b",
   "metadata": {},
   "outputs": [],
   "source": [
    "t = 4\n",
    "initial * (1 + g) ** t"
   ]
  },
  {
   "cell_type": "markdown",
   "id": "7b20cb6e",
   "metadata": {},
   "source": [
    "## Federal Budget Example\n",
    "Let's look at the federal budget.  What sort of growth can we see from the data and what predictions can we make from this? In 2002, it was 2.37 trillion dollars, and in 2012, it was 3.38 trillion dollars. What was the growth rate per year?"
   ]
  },
  {
   "cell_type": "code",
   "execution_count": null,
   "id": "9408c6fb",
   "metadata": {},
   "outputs": [],
   "source": [
    "fed_budget_2002 = 2370000000000\n",
    "fed_budget_2012 = 3380000000000\n",
    "fed_budget_2012 - fed_budget_2002"
   ]
  },
  {
   "cell_type": "code",
   "execution_count": null,
   "id": "db230bc7",
   "metadata": {},
   "outputs": [],
   "source": [
    "t = 10\n",
    "g = (fed_budget_2012 / fed_budget_2002) ** (1/t) -1\n",
    "g"
   ]
  },
  {
   "cell_type": "markdown",
   "id": "b14f5443",
   "metadata": {},
   "source": [
    "So what's the federal budget in 2020 predicted to be? Was the prediction close? "
   ]
  },
  {
   "cell_type": "code",
   "execution_count": null,
   "id": "5525939f",
   "metadata": {},
   "outputs": [],
   "source": [
    "t = 18\n",
    "fed_budget_2002 * (1+g) ** t"
   ]
  },
  {
   "cell_type": "markdown",
   "id": "b8a3045c",
   "metadata": {},
   "source": [
    "## Arrays"
   ]
  },
  {
   "cell_type": "code",
   "execution_count": null,
   "id": "2ac46b7a",
   "metadata": {},
   "outputs": [],
   "source": [
    "#let's make a simple array\n",
    "a = make_array(1, 2, 3)\n",
    "a"
   ]
  },
  {
   "cell_type": "code",
   "execution_count": null,
   "id": "625d7433",
   "metadata": {},
   "outputs": [],
   "source": [
    "# ... and do some simple arithmetic: "
   ]
  },
  {
   "cell_type": "code",
   "execution_count": null,
   "id": "a79c1802",
   "metadata": {},
   "outputs": [],
   "source": [
    "a + a"
   ]
  },
  {
   "cell_type": "code",
   "execution_count": null,
   "id": "a5071b7a",
   "metadata": {},
   "outputs": [],
   "source": [
    "a * 3"
   ]
  },
  {
   "cell_type": "code",
   "execution_count": null,
   "id": "7b8e0359",
   "metadata": {},
   "outputs": [],
   "source": [
    "a - a"
   ]
  },
  {
   "cell_type": "code",
   "execution_count": null,
   "id": "6bd176c6",
   "metadata": {},
   "outputs": [],
   "source": [
    "a / 3"
   ]
  },
  {
   "cell_type": "code",
   "execution_count": null,
   "id": "07da9f33",
   "metadata": {},
   "outputs": [],
   "source": [
    "a + 2 "
   ]
  },
  {
   "cell_type": "code",
   "execution_count": null,
   "id": "215d342c",
   "metadata": {},
   "outputs": [],
   "source": [
    "a + make_array(2, 3)"
   ]
  },
  {
   "cell_type": "markdown",
   "id": "902c55a1",
   "metadata": {},
   "source": [
    "Let's input all of the distances tha tstudents traveled from campus"
   ]
  },
  {
   "cell_type": "code",
   "execution_count": null,
   "id": "fc7cd205",
   "metadata": {},
   "outputs": [],
   "source": [
    "dist = make_array ( 64.00, 36.00, 6.40, 77.50, 156.00, 54.70, 2.50, 324.00, 34.10, 103.00, 1.00,  12.00,    0.50,  36.00,   36.00,    7.40    , 6.00,  9.50,     5.70,  1.10, 9.30,    0.50,   12.70,   12.0, 308.00,   13.00, 343.00, 1.40,  379.00,  174.30,   12.50,   10.00,   12.00, 3.80,  48.00, 0.30, 5.60,  398.00,    1.80,  12.00,    0.50    , 0.50,    2.00, 0.07,   13.00, 0.50,   35.00,    2.00, 2.40,    6.70,  31.00,   12.00,   13.00,     9.10,   31.00,   12.00,   54.00, 9.00,     0.40, 12.00,    3.10,   12.30,   11.00,    4.00    , 1.70,    4.80    , 0.50    , 6.90,  14.00,   11.80,    9.70,   36.60,  441.00,   12.50,    9.70,  5969.00,    5.60,   11.80,  377.00,  31.00,   12.00,     9.20,  4.60,    4.00    ,  8.80,    4.80    , 4.80,  105.00,    9.20    , 0.30,   12.00,  1.20,   11.00,   11.10, 1.30,    5.00, 44.00,     7.50,   12.00,    1.00, 9.30,   12.00, 3.50,   12.00,     0.00,  0.01,   12.00,    0.20    , 1.00,  1.00,    9.20    , 0.30,    0.50    , 0.50,   12.00,    9.30,  362.00,   12.00,  330.00,  343.00  )"
   ]
  },
  {
   "cell_type": "code",
   "execution_count": null,
   "id": "2db23751",
   "metadata": {},
   "outputs": [],
   "source": [
    "dist"
   ]
  },
  {
   "cell_type": "code",
   "execution_count": null,
   "id": "4ead66d7",
   "metadata": {},
   "outputs": [],
   "source": [
    "np.mean(dist)"
   ]
  },
  {
   "cell_type": "code",
   "execution_count": null,
   "id": "4cd9ee62",
   "metadata": {},
   "outputs": [],
   "source": [
    "np.max(dist)"
   ]
  },
  {
   "cell_type": "code",
   "execution_count": null,
   "id": "c9d8da7e",
   "metadata": {},
   "outputs": [],
   "source": [
    "np.sort(dist)"
   ]
  },
  {
   "cell_type": "markdown",
   "id": "de1d0ce5",
   "metadata": {},
   "source": [
    "What about using an array to store a series of predictions? One, two, three years out?"
   ]
  },
  {
   "cell_type": "code",
   "execution_count": null,
   "id": "3fc4cda1",
   "metadata": {},
   "outputs": [],
   "source": [
    "#remember, a is an array of the values 1, 2, 3\n",
    "a"
   ]
  },
  {
   "cell_type": "code",
   "execution_count": null,
   "id": "cf87f2c2",
   "metadata": {},
   "outputs": [],
   "source": [
    "predictions = fed_budget_2002 * (1+g)**a"
   ]
  },
  {
   "cell_type": "markdown",
   "id": "c9222ba8",
   "metadata": {},
   "source": [
    "## Columns"
   ]
  },
  {
   "cell_type": "code",
   "execution_count": null,
   "id": "78033aa5",
   "metadata": {},
   "outputs": [],
   "source": [
    "# From http://www.boxofficemojo.com/alltime/adjusted.htm\n",
    "movies = Table.read_table('top_movies_2017.csv')\n",
    "movies"
   ]
  },
  {
   "cell_type": "code",
   "execution_count": null,
   "id": "9df57cb2",
   "metadata": {},
   "outputs": [],
   "source": [
    "movies.sort('Gross', descending = True)"
   ]
  },
  {
   "cell_type": "code",
   "execution_count": null,
   "id": "6492b50c",
   "metadata": {},
   "outputs": [],
   "source": [
    "movies.set_format('Gross', NumberFormatter)"
   ]
  },
  {
   "cell_type": "code",
   "execution_count": null,
   "id": "7ed622a0",
   "metadata": {},
   "outputs": [],
   "source": [
    "movies.set_format(3, NumberFormatter)"
   ]
  },
  {
   "cell_type": "code",
   "execution_count": null,
   "id": "7edc7c3f",
   "metadata": {},
   "outputs": [],
   "source": [
    "adjustment = movies.column(3)/movies.column(2)"
   ]
  },
  {
   "cell_type": "code",
   "execution_count": null,
   "id": "b9a80fbd",
   "metadata": {},
   "outputs": [],
   "source": [
    "movies.with_column('Adjustment',adjustment)"
   ]
  },
  {
   "cell_type": "code",
   "execution_count": null,
   "id": "a5f1e771",
   "metadata": {},
   "outputs": [],
   "source": [
    "movies_new = movies.with_column('Adjustment',adjustment)"
   ]
  },
  {
   "cell_type": "code",
   "execution_count": null,
   "id": "9538e3ee",
   "metadata": {},
   "outputs": [],
   "source": [
    "movies_new"
   ]
  },
  {
   "cell_type": "code",
   "execution_count": null,
   "id": "b5b84723",
   "metadata": {},
   "outputs": [],
   "source": [
    "movies_new.scatter('Year', 'Adjustment')"
   ]
  },
  {
   "cell_type": "code",
   "execution_count": null,
   "id": "f6fd2324",
   "metadata": {},
   "outputs": [],
   "source": [
    "movies_new.sort('Year')"
   ]
  },
  {
   "cell_type": "code",
   "execution_count": null,
   "id": "5b50a2c8",
   "metadata": {},
   "outputs": [],
   "source": []
  },
  {
   "cell_type": "markdown",
   "id": "0c217299",
   "metadata": {},
   "source": []
  },
  {
   "cell_type": "code",
   "execution_count": null,
   "id": "9e4207cb",
   "metadata": {},
   "outputs": [],
   "source": []
  },
  {
   "cell_type": "code",
   "execution_count": null,
   "id": "97e73443",
   "metadata": {},
   "outputs": [],
   "source": []
  }
 ],
 "metadata": {
  "kernelspec": {
   "display_name": "Python 3 (ipykernel)",
   "language": "python",
   "name": "python3"
  },
  "language_info": {
   "codemirror_mode": {
    "name": "ipython",
    "version": 3
   },
   "file_extension": ".py",
   "mimetype": "text/x-python",
   "name": "python",
   "nbconvert_exporter": "python",
   "pygments_lexer": "ipython3",
   "version": "3.7.8"
  }
 },
 "nbformat": 4,
 "nbformat_minor": 5
}
