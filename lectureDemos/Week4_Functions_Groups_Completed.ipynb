{
 "cells": [
  {
   "cell_type": "markdown",
   "id": "bf34c637",
   "metadata": {},
   "source": [
    "## Comparing Histograms"
   ]
  },
  {
   "cell_type": "markdown",
   "id": "a458d2fe",
   "metadata": {},
   "source": [
    "We will start by looking at data from the Big 5 European Soccer Leagues for the 1995/96 to 2019/20 seasons. "
   ]
  },
  {
   "cell_type": "code",
   "execution_count": null,
   "id": "adf1c110",
   "metadata": {},
   "outputs": [],
   "source": [
    "from datascience import *\n",
    "import numpy as np\n",
    "\n",
    "%matplotlib inline\n",
    "import matplotlib.pyplot as plots\n",
    "plots.style.use('fivethirtyeight')"
   ]
  },
  {
   "cell_type": "code",
   "execution_count": null,
   "id": "de12e8c6",
   "metadata": {},
   "outputs": [],
   "source": [
    "#Load data\n",
    "goals = Table.read_table('big5.csv').select(3, 9, 6, 10)\n",
    "goals"
   ]
  },
  {
   "cell_type": "code",
   "execution_count": null,
   "id": "eb3abe68",
   "metadata": {},
   "outputs": [],
   "source": [
    "#relabel the columns\n",
    "goals = goals.relabeled(1, 'Home').relabeled(3, 'Away')\n",
    "goals"
   ]
  },
  {
   "cell_type": "code",
   "execution_count": null,
   "id": "bb872ce9",
   "metadata": {
    "scrolled": true
   },
   "outputs": [],
   "source": [
    "# Look at the distribution of goals scored by the home team... what is unit? what is the bin spacing?\n",
    "goals.hist('Home')"
   ]
  },
  {
   "cell_type": "code",
   "execution_count": null,
   "id": "c1769886",
   "metadata": {},
   "outputs": [],
   "source": [
    "#What happens when we specify the bin widths?\n",
    "my_bins = np.arange(0, 10, 1)\n",
    "goals.hist('Home', unit = 'goals', bins = my_bins)"
   ]
  },
  {
   "cell_type": "code",
   "execution_count": null,
   "id": "d9fd68b0",
   "metadata": {},
   "outputs": [],
   "source": [
    "# Is there a home team advantage?\n",
    "goals.hist([1,3], unit = 'goals', bins = my_bins)"
   ]
  },
  {
   "cell_type": "code",
   "execution_count": null,
   "id": "316a44ec",
   "metadata": {},
   "outputs": [],
   "source": [
    "climate = Table.read_table('NOAA.csv').relabeled(5, '1948').relabeled(6, '2018')\n",
    "climate"
   ]
  },
  {
   "cell_type": "code",
   "execution_count": null,
   "id": "9f2a33e5",
   "metadata": {
    "scrolled": true
   },
   "outputs": [],
   "source": [
    "climate.hist(5, 6, unit = 'days above 90 degrees F', bins = (np.arange(0, 150, 10)))"
   ]
  },
  {
   "cell_type": "code",
   "execution_count": null,
   "id": "0506ad78",
   "metadata": {},
   "outputs": [],
   "source": [
    "climate = climate.with_column('Difference', (climate.column('2018') - climate.column('1948')))\n",
    "climate"
   ]
  },
  {
   "cell_type": "code",
   "execution_count": null,
   "id": "2b9379fe",
   "metadata": {},
   "outputs": [],
   "source": [
    "climate.hist('Difference')"
   ]
  },
  {
   "cell_type": "code",
   "execution_count": null,
   "id": "5513a18e",
   "metadata": {},
   "outputs": [],
   "source": [
    "len(climate.where(7, are.above_or_equal_to(1)).column(7))/len(climate.column(7))"
   ]
  },
  {
   "cell_type": "markdown",
   "id": "c667c9ed",
   "metadata": {},
   "source": [
    "## Defining Functions"
   ]
  },
  {
   "cell_type": "markdown",
   "id": "f424d83f",
   "metadata": {},
   "source": [
    "Let’s look at this simple function.  The name of this function is “data_range” and we can see what the function will return.  What type of input will this function take, and what will be the output? In other words, what is values?"
   ]
  },
  {
   "cell_type": "code",
   "execution_count": null,
   "id": "751048f1",
   "metadata": {
    "scrolled": true
   },
   "outputs": [],
   "source": [
    "def data_range(values):\n",
    "    return max(values) - min(values)"
   ]
  },
  {
   "cell_type": "code",
   "execution_count": null,
   "id": "569a09c9",
   "metadata": {},
   "outputs": [],
   "source": [
    "values = make_array(1, 2, 3, 4)\n",
    "data_range(values)"
   ]
  },
  {
   "cell_type": "code",
   "execution_count": null,
   "id": "aa9a63d2",
   "metadata": {},
   "outputs": [],
   "source": [
    "#let's do a few more\n",
    "def triple(x):\n",
    "    return 3*x\n",
    "triple(values)"
   ]
  },
  {
   "cell_type": "code",
   "execution_count": null,
   "id": "6311dd37",
   "metadata": {},
   "outputs": [],
   "source": [
    "x = 'triple'\n",
    "triple(x)"
   ]
  },
  {
   "cell_type": "markdown",
   "id": "eb96b2bc",
   "metadata": {},
   "source": [
    "Let's write a function thattakes an array and then computes the percent of the total for  each value in the array "
   ]
  },
  {
   "cell_type": "code",
   "execution_count": null,
   "id": "a0d45e6a",
   "metadata": {},
   "outputs": [],
   "source": [
    "counts = make_array(1, 2, 3, 4)\n",
    "total = sum(counts)\n",
    "np.round(counts/total * 100, 2) "
   ]
  },
  {
   "cell_type": "code",
   "execution_count": null,
   "id": "6096843a",
   "metadata": {},
   "outputs": [],
   "source": [
    "# How to write a function.  Step 1, write the body..."
   ]
  },
  {
   "cell_type": "code",
   "execution_count": null,
   "id": "4be59d62",
   "metadata": {},
   "outputs": [],
   "source": [
    "# Step 2 now use our def statement and take what we need, and specify what it will return.\n",
    "def percents(counts, decimal_places = 2):\n",
    "    '''This function takes an array of values, converts those values \n",
    "    to percents out of the total, and returns an array of those percents'''\n",
    "    total = sum(counts)\n",
    "    return np.round(counts/total * 100, decimal_places) \n"
   ]
  },
  {
   "cell_type": "code",
   "execution_count": null,
   "id": "11b30f8f",
   "metadata": {},
   "outputs": [],
   "source": [
    "counts = make_array(4, 8, 3, 4)\n",
    "percents(counts)"
   ]
  },
  {
   "cell_type": "code",
   "execution_count": null,
   "id": "d7f8933e",
   "metadata": {},
   "outputs": [],
   "source": [
    "# Does this function change our original array? \n",
    "counts"
   ]
  },
  {
   "cell_type": "code",
   "execution_count": null,
   "id": "ee96d10d",
   "metadata": {},
   "outputs": [],
   "source": [
    "# What happens when we pass a number to this function? \n",
    "help(percents)"
   ]
  },
  {
   "cell_type": "code",
   "execution_count": null,
   "id": "7ab2e5db",
   "metadata": {},
   "outputs": [],
   "source": []
  },
  {
   "cell_type": "markdown",
   "id": "3ff809c4",
   "metadata": {},
   "source": [
    "## Apply"
   ]
  },
  {
   "cell_type": "code",
   "execution_count": null,
   "id": "88e1306c",
   "metadata": {},
   "outputs": [],
   "source": [
    "# define a function called \"cut off at a billion\"\n",
    "def cut_off_at_a_billion(x):\n",
    "    return min(x, 1e9)"
   ]
  },
  {
   "cell_type": "code",
   "execution_count": null,
   "id": "4c68cbb5",
   "metadata": {},
   "outputs": [],
   "source": []
  },
  {
   "cell_type": "code",
   "execution_count": null,
   "id": "25048a2a",
   "metadata": {},
   "outputs": [],
   "source": [
    "# now use Apply to apply this function to a table we have already seen:\n",
    "top = Table.read_table('top_movies_2017.csv')"
   ]
  },
  {
   "cell_type": "code",
   "execution_count": null,
   "id": "c98fbe85",
   "metadata": {},
   "outputs": [],
   "source": [
    "top = top.with_column('cutoff', top.apply(cut_off_at_a_billion, 3))\n",
    "top"
   ]
  },
  {
   "cell_type": "code",
   "execution_count": null,
   "id": "bce5b70a",
   "metadata": {},
   "outputs": [],
   "source": []
  },
  {
   "cell_type": "markdown",
   "id": "c2943f95",
   "metadata": {},
   "source": [
    "## Prediction Example"
   ]
  },
  {
   "cell_type": "code",
   "execution_count": null,
   "id": "5703abd5",
   "metadata": {},
   "outputs": [],
   "source": [
    "height = Table.read_table('galton.csv').select(1, 2, 7).relabeled(2, 'child')\n",
    "height"
   ]
  },
  {
   "cell_type": "code",
   "execution_count": null,
   "id": "c047e9e2",
   "metadata": {},
   "outputs": [],
   "source": [
    "# visualize with a scatterplot - setting the child's height to be the horizontal variable\n",
    "height.scatter(2)"
   ]
  },
  {
   "cell_type": "code",
   "execution_count": null,
   "id": "f67ff0ed",
   "metadata": {},
   "outputs": [],
   "source": [
    "# Compute the average height of both parents\n",
    "height = height.with_column(\n",
    "    'parent average', (height.column('father')+height.column('mother'))/2)\n",
    "height"
   ]
  },
  {
   "cell_type": "code",
   "execution_count": null,
   "id": "625a4202",
   "metadata": {},
   "outputs": [],
   "source": [
    "height.scatter('parent average', 'child')\n",
    "plots.plot([67.5, 67.5], [50, 85], color='red', lw=2)\n",
    "plots.plot([68.5, 68.5], [50, 85], color='red', lw=2)\n"
   ]
  },
  {
   "cell_type": "code",
   "execution_count": null,
   "id": "58ceeb03",
   "metadata": {},
   "outputs": [],
   "source": [
    "close_to_68 = height.where('parent average', are.between(67.5, 68.5))\n",
    "close_to_68.column(2).mean()"
   ]
  },
  {
   "cell_type": "code",
   "execution_count": null,
   "id": "544b86bc",
   "metadata": {},
   "outputs": [],
   "source": [
    "def predict_child(pa):\n",
    "    close_to_pa = height.where('parent average', are.between(pa - 0.5, pa +0.5))\n",
    "    return close_to_pa.column(2).mean()"
   ]
  },
  {
   "cell_type": "code",
   "execution_count": null,
   "id": "673a6efc",
   "metadata": {},
   "outputs": [],
   "source": [
    "predict_child(63)"
   ]
  },
  {
   "cell_type": "code",
   "execution_count": null,
   "id": "27060a2d",
   "metadata": {},
   "outputs": [],
   "source": [
    "height.with_column('prediction', height.apply(predict_child, 3)).select(2, 3, 4).scatter('parent average')"
   ]
  },
  {
   "cell_type": "code",
   "execution_count": null,
   "id": "2fe477a8",
   "metadata": {},
   "outputs": [],
   "source": []
  },
  {
   "cell_type": "code",
   "execution_count": null,
   "id": "46ee5a0e",
   "metadata": {},
   "outputs": [],
   "source": []
  },
  {
   "cell_type": "markdown",
   "id": "201eb2ec",
   "metadata": {},
   "source": [
    "## Groups"
   ]
  },
  {
   "cell_type": "code",
   "execution_count": null,
   "id": "0bbed9e5",
   "metadata": {},
   "outputs": [],
   "source": [
    "# load cones.csv\n",
    "all_cones = Table.read_table('cones.csv')\n",
    "cones = all_cones.drop('Color').exclude(5)\n",
    "cones"
   ]
  },
  {
   "cell_type": "code",
   "execution_count": null,
   "id": "2d3b99d7",
   "metadata": {},
   "outputs": [],
   "source": [
    "# group by 'Flavor'\n",
    "cones.group('Flavor', np.average)"
   ]
  },
  {
   "cell_type": "code",
   "execution_count": null,
   "id": "bce8251f",
   "metadata": {},
   "outputs": [],
   "source": [
    "# add a second argument to see what else group can do."
   ]
  },
  {
   "cell_type": "code",
   "execution_count": null,
   "id": "71fb9aaa",
   "metadata": {},
   "outputs": [],
   "source": []
  },
  {
   "cell_type": "code",
   "execution_count": null,
   "id": "44b63b78",
   "metadata": {},
   "outputs": [],
   "source": []
  },
  {
   "cell_type": "code",
   "execution_count": null,
   "id": "c71838e0",
   "metadata": {},
   "outputs": [],
   "source": []
  },
  {
   "cell_type": "code",
   "execution_count": null,
   "id": "f764f3fe",
   "metadata": {},
   "outputs": [],
   "source": [
    "nba = Table.read_table('nba_salaries.csv').relabeled(4, 'SALARY')\n",
    "nba"
   ]
  },
  {
   "cell_type": "code",
   "execution_count": null,
   "id": "b622d6df",
   "metadata": {},
   "outputs": [],
   "source": [
    "# let's focus on teams and how much they paid in salaries... can I just use group as is?\n",
    "nba.group()"
   ]
  },
  {
   "cell_type": "code",
   "execution_count": null,
   "id": "fd7f494d",
   "metadata": {},
   "outputs": [],
   "source": [
    "nba.group('TEAM')"
   ]
  },
  {
   "cell_type": "markdown",
   "id": "3e100caa",
   "metadata": {},
   "source": [
    "It looks like grouping by team returns the number of players, so what can we do if we want to know how much each team paid their players?"
   ]
  },
  {
   "cell_type": "code",
   "execution_count": null,
   "id": "6ce8ac35",
   "metadata": {},
   "outputs": [],
   "source": [
    "nba.group('POSITION')"
   ]
  },
  {
   "cell_type": "code",
   "execution_count": null,
   "id": "be2871b9",
   "metadata": {},
   "outputs": [],
   "source": [
    "nba.select('TEAM', \"SALARY\").group('TEAM', sum)"
   ]
  },
  {
   "cell_type": "code",
   "execution_count": null,
   "id": "d0887b02",
   "metadata": {},
   "outputs": [],
   "source": [
    "nba.select('TEAM', \"SALARY\").group('TEAM', sum).sort(1, descending = True)"
   ]
  },
  {
   "cell_type": "code",
   "execution_count": null,
   "id": "2149221c",
   "metadata": {},
   "outputs": [],
   "source": [
    "nba.select('POSITION', 'SALARY').group('POSITION', np.average)"
   ]
  },
  {
   "cell_type": "code",
   "execution_count": null,
   "id": "14775f14",
   "metadata": {},
   "outputs": [],
   "source": []
  }
 ],
 "metadata": {
  "kernelspec": {
   "display_name": "Python 3 (ipykernel)",
   "language": "python",
   "name": "python3"
  },
  "language_info": {
   "codemirror_mode": {
    "name": "ipython",
    "version": 3
   },
   "file_extension": ".py",
   "mimetype": "text/x-python",
   "name": "python",
   "nbconvert_exporter": "python",
   "pygments_lexer": "ipython3",
   "version": "3.7.8"
  }
 },
 "nbformat": 4,
 "nbformat_minor": 5
}
