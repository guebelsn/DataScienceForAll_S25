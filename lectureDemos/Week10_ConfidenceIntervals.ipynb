{
 "cells": [
  {
   "cell_type": "code",
   "execution_count": null,
   "metadata": {},
   "outputs": [],
   "source": [
    "from datascience import *\n",
    "import numpy as np\n",
    "\n",
    "import matplotlib.pyplot as plots\n",
    "plots.style.use('fivethirtyeight')\n",
    "%matplotlib inline"
   ]
  },
  {
   "cell_type": "code",
   "execution_count": null,
   "metadata": {},
   "outputs": [],
   "source": [
    "#Quick demo that may help with Homework 7: Part 2, question 14\n",
    "#Assume an array of different common greetings, represented as an array\n",
    "common_greetings = make_array(\"Hi\", \"Howdy\", \"Hello\", \"Hey\")\n",
    "\n",
    "# A second array of greetings\n",
    "large_array_greetings = make_array(\"Hi\", \"Bonjour\", \"Hi\", \"Hello\", \"Hola\", \"Cheers\", \"Hi\", \n",
    "                                   \"Yo\", \"What's up\", \"Hello\", \"Hi\", \"Howdy\", \n",
    "                                   \"Hi\", \"Hey\", \"Hi\", \"Hello\", \"Hola\", \"Cheers\", \"Hello\" )\n",
    "\n",
    "# Let's create a table with a column that has all of the retrieved greetings\n",
    "all_greetings = Table().with_column(\"Greetings\", large_array_greetings)\n",
    "all_greetings\n",
    "\n",
    "#Use are.contained_in() to find \n",
    "#how many times we have a greeting that is also part of common_greetings array\n",
    "all_greetings.where(\"Greetings\", are.contained_in(common_greetings)).num_rows\n",
    "\n",
    "\n"
   ]
  },
  {
   "cell_type": "markdown",
   "metadata": {},
   "source": [
    "## REVIEW: Estimation"
   ]
  },
  {
   "cell_type": "markdown",
   "metadata": {},
   "source": [
    "**Please run all cells before this cell, including the previous example cells and the import cell at the top of the notebook.**"
   ]
  },
  {
   "cell_type": "code",
   "execution_count": null,
   "metadata": {},
   "outputs": [],
   "source": [
    "#We looked at SB data from 2020 on Wages of SB City Government Employees\n",
    "sb = Table.read_table('santa_barbara_2020.csv').select(0, 1, 4)\n",
    "sb.set_format('TotalWages', NumberFormatter(0))\n",
    "sb = sb.where('TotalWages', are.above(10000))\n",
    "sb.show(3)"
   ]
  },
  {
   "cell_type": "code",
   "execution_count": null,
   "metadata": {},
   "outputs": [],
   "source": [
    "fiftieth = percentile(50, sb.column('TotalWages'))\n",
    "fiftieth"
   ]
  },
  {
   "cell_type": "code",
   "execution_count": null,
   "metadata": {},
   "outputs": [],
   "source": [
    "median = np.median(sb.column('TotalWages'))\n",
    "median"
   ]
  },
  {
   "cell_type": "markdown",
   "metadata": {},
   "source": [
    "#### What is the difference between percentile and median?"
   ]
  },
  {
   "cell_type": "code",
   "execution_count": null,
   "metadata": {},
   "outputs": [],
   "source": [
    "comp_bins = np.arange(10000, 350000, 10000)\n",
    "#Let's look at the population distribution\n",
    "sb.hist('TotalWages', bins=comp_bins, unit=\"dollar\")\n",
    "plots.scatter(median, 0, color='red', s=30, zorder=3)\n"
   ]
  },
  {
   "cell_type": "code",
   "execution_count": null,
   "metadata": {},
   "outputs": [],
   "source": [
    "# Here we have the whole population, but if we were not able to get the whole population\n",
    "# We would get a sample"
   ]
  },
  {
   "cell_type": "code",
   "execution_count": null,
   "metadata": {},
   "outputs": [],
   "source": [
    "sample_from_population = sb.sample(200, with_replacement=False)\n",
    "sample_from_population.show(3)"
   ]
  },
  {
   "cell_type": "code",
   "execution_count": null,
   "metadata": {},
   "outputs": [],
   "source": [
    "#What is the median and 50%ile of this sample?\n",
    "percentile(50, sample_from_population.column('TotalWages'))"
   ]
  },
  {
   "cell_type": "code",
   "execution_count": null,
   "metadata": {},
   "outputs": [],
   "source": [
    "#What is the true percentile\n",
    "percentile(50, sb.column('TotalWages'))"
   ]
  },
  {
   "cell_type": "code",
   "execution_count": null,
   "metadata": {},
   "outputs": [],
   "source": [
    "np.median(sample_from_population.column('TotalWages'))"
   ]
  },
  {
   "cell_type": "markdown",
   "metadata": {},
   "source": [
    "What is the difference between the median and the 50th percentile?\n",
    "\n",
    "If we keep drawing samples like this over and over again from the population, how close are we to the true parameter?  Is there a pattern that emerges? Can we capture this uncertainty in the way we describe our findings?"
   ]
  },
  {
   "cell_type": "code",
   "execution_count": null,
   "metadata": {},
   "outputs": [],
   "source": [
    "#Let's simulate this!\n",
    "medians = make_array()\n",
    "repetitions = np.arange(100)\n",
    "for i in repetitions:\n",
    "    sample = sb.sample(200, with_replacement=False)\n",
    "    median = np.median(sample.column('TotalWages'))\n",
    "    medians = np.append(medians, median)\n"
   ]
  },
  {
   "cell_type": "code",
   "execution_count": null,
   "metadata": {},
   "outputs": [],
   "source": [
    "#Visualize the variability of our estimate in a scatterplot \n",
    "parameter = np.median(sb.column('TotalWages')) \n",
    "\n",
    "Table().with_columns('trial', repetitions, 'median', medians).scatter('trial')\n",
    "plots.ylim(60000, 100000)\n",
    "plots.plot([0,100], [parameter, parameter], 0, color='green', lw=3, zorder=1)"
   ]
  },
  {
   "cell_type": "code",
   "execution_count": null,
   "metadata": {},
   "outputs": [],
   "source": [
    "#Visualize the variability of our estimate in a histogram\n",
    "\n",
    "Table().with_column('medians', medians).hist(0)\n",
    "plots.scatter(fiftieth, 0, color='red', s=30, zorder=3)"
   ]
  },
  {
   "cell_type": "markdown",
   "metadata": {},
   "source": [
    "## The Bootstrap"
   ]
  },
  {
   "cell_type": "markdown",
   "metadata": {},
   "source": [
    "**Please run all cells before this cell, including the previous example cells and the import cell at the top of the notebook.**"
   ]
  },
  {
   "cell_type": "code",
   "execution_count": null,
   "metadata": {
    "scrolled": true
   },
   "outputs": [],
   "source": [
    "medians = make_array()\n",
    "\n",
    "for i in np.arange(1000):\n",
    "    resample = sample_from_population.sample()\n",
    "    median = np.median(resample.column('TotalWages'))\n",
    "    medians= np.append(medians, median)\n",
    "    \n",
    "Table().with_column('Resampled median', medians).hist()"
   ]
  },
  {
   "cell_type": "code",
   "execution_count": null,
   "metadata": {},
   "outputs": [],
   "source": [
    "intervals = Table(['Lower', 'Upper'])\n",
    "\n",
    "for j in np.arange(50):\n",
    "    sample_from_population = sb.sample(200, with_replacement=False)\n",
    "    medians =  make_array()\n",
    "    for i in np.arange(1000):\n",
    "        resample = sample_from_population.sample()\n",
    "        median = np.median(resample.column('TotalWages'))\n",
    "        medians = np.append(medians, median)\n",
    "        \n",
    "    interval_90 = [percentile(5, medians),\n",
    "                   percentile(95, medians)]\n",
    "    \n",
    "    intervals.append(interval_90)"
   ]
  },
  {
   "cell_type": "code",
   "execution_count": null,
   "metadata": {},
   "outputs": [],
   "source": [
    "parameter = np.median(sb.column('TotalWages'))\n",
    "correct = intervals.where('Lower', are.not_above(parameter)).where('Upper', are.not_below(parameter))\n",
    "correct.num_rows"
   ]
  },
  {
   "cell_type": "code",
   "execution_count": null,
   "metadata": {},
   "outputs": [],
   "source": [
    "Lower = intervals.column(0)\n",
    "Upper = intervals.column(1)\n",
    "plots.ylim(-1, 50)\n",
    "plots.xlim(60000,110000)\n",
    "\n",
    "for i in np.arange(50):\n",
    "    plots.plot([Lower[i], Upper[i]], [i, i], color='blue', lw=1, zorder=1)\n",
    "plots.plot([parameter, parameter], [0,50], 0, color='green', lw=3, zorder=1)"
   ]
  },
  {
   "cell_type": "code",
   "execution_count": null,
   "metadata": {},
   "outputs": [],
   "source": []
  },
  {
   "cell_type": "code",
   "execution_count": null,
   "metadata": {},
   "outputs": [],
   "source": []
  },
  {
   "cell_type": "code",
   "execution_count": null,
   "metadata": {},
   "outputs": [],
   "source": []
  },
  {
   "cell_type": "code",
   "execution_count": null,
   "metadata": {},
   "outputs": [],
   "source": []
  },
  {
   "cell_type": "code",
   "execution_count": null,
   "metadata": {},
   "outputs": [],
   "source": []
  },
  {
   "cell_type": "code",
   "execution_count": null,
   "metadata": {},
   "outputs": [],
   "source": []
  },
  {
   "cell_type": "markdown",
   "metadata": {},
   "source": [
    "## Bootstrap: example 2: Mean maternal age"
   ]
  },
  {
   "cell_type": "code",
   "execution_count": null,
   "metadata": {},
   "outputs": [],
   "source": [
    "#Remember this table?\n",
    "births = Table.read_table('baby.csv')\n",
    "births.show(5)"
   ]
  },
  {
   "cell_type": "code",
   "execution_count": null,
   "metadata": {},
   "outputs": [],
   "source": [
    "#TODO: Can we first have a look at the distribution focussing on 'Maternal Age' in this sample?\n",
    "births.hist(2)"
   ]
  },
  {
   "cell_type": "code",
   "execution_count": null,
   "metadata": {},
   "outputs": [],
   "source": [
    "#TODO: Can we estimate the average maternal age from this sample?"
   ]
  },
  {
   "cell_type": "code",
   "execution_count": null,
   "metadata": {},
   "outputs": [],
   "source": [
    "#TODO: Let's calculate the average/mean birth weight of this sample. Is this a good estimate?\n",
    "mean_age = np.mean(births.column(2))\n",
    "mean_age"
   ]
  },
  {
   "cell_type": "code",
   "execution_count": null,
   "metadata": {},
   "outputs": [],
   "source": [
    "# Let's look at the distribution and add a dot for where the mean is in this sample\n",
    "births.hist(2)\n",
    "plots.scatter(mean_age,0.002,color=\"red\");"
   ]
  },
  {
   "cell_type": "code",
   "execution_count": null,
   "metadata": {},
   "outputs": [],
   "source": []
  },
  {
   "cell_type": "markdown",
   "metadata": {},
   "source": [
    "This is just a sample , we know that this was a convenience/deterministic sample (we just sampled a convenient group of babies who were born at a specific hospital, etc.).\n",
    "But let's now assume this is a random sample that represents the population. Can we estimate the average age \n",
    "and provide a confidence interval using the bootstrap technique"
   ]
  },
  {
   "cell_type": "code",
   "execution_count": null,
   "metadata": {},
   "outputs": [],
   "source": [
    "# Step 1: Resample\n",
    "#Step 2: Look at the average\n",
    "# Step 3: Do this many times over (repeat!)\n",
    "# Step 4: Decide on an acceptable confidence interval for our process (in %) decided 99%\n",
    "# Step 5: Look at the data"
   ]
  },
  {
   "cell_type": "code",
   "execution_count": null,
   "metadata": {},
   "outputs": [],
   "source": [
    "# Let's capture this in a simulation and look at the variation in averages\n",
    "averages = make_array()\n",
    "for i in np.arange(1000):\n",
    "    resample = births.sample()\n",
    "    sample_average = np.average(resample.column(2))\n",
    "    averages = np.append(averages, sample_average)\n",
    "\n",
    "averages\n"
   ]
  },
  {
   "cell_type": "code",
   "execution_count": null,
   "metadata": {},
   "outputs": [],
   "source": [
    "# Before we look at the data, let's decide on what we an acceptable confidence interval would be (90, 95, 97, 99??)\n",
    "# What is the 95% confidence interval?\n",
    "left = percentile(2.5, averages)\n",
    "right = percentile(97.5, averages)\n",
    "(left,right)\n"
   ]
  },
  {
   "cell_type": "code",
   "execution_count": null,
   "metadata": {},
   "outputs": [],
   "source": [
    "#TODO: Calculate left and right values for our confidence interval (use percentile)"
   ]
  },
  {
   "cell_type": "code",
   "execution_count": null,
   "metadata": {},
   "outputs": [],
   "source": [
    "#Visualize\n",
    "Table().with_column('Bootstrap Average', averages).hist()\n",
    "\n",
    "plots.plot([left,right], [0,0], color=\"gold\", lw=10, zorder=1);\n",
    "plots.scatter(mean_age,0.05,color=\"blue\", zorder=2);\n",
    "plots.title('Bootstrap Means (1K Bootstraps from our Sample)');\n"
   ]
  },
  {
   "cell_type": "code",
   "execution_count": null,
   "metadata": {},
   "outputs": [],
   "source": []
  },
  {
   "cell_type": "code",
   "execution_count": null,
   "metadata": {},
   "outputs": [],
   "source": []
  },
  {
   "cell_type": "code",
   "execution_count": null,
   "metadata": {},
   "outputs": [],
   "source": []
  },
  {
   "cell_type": "code",
   "execution_count": null,
   "metadata": {},
   "outputs": [],
   "source": []
  },
  {
   "cell_type": "code",
   "execution_count": null,
   "metadata": {},
   "outputs": [],
   "source": []
  },
  {
   "cell_type": "code",
   "execution_count": null,
   "metadata": {},
   "outputs": [],
   "source": [
    "\n"
   ]
  },
  {
   "cell_type": "code",
   "execution_count": null,
   "metadata": {},
   "outputs": [],
   "source": []
  }
 ],
 "metadata": {
  "kernelspec": {
   "display_name": "Python 3 (ipykernel)",
   "language": "python",
   "name": "python3"
  },
  "language_info": {
   "codemirror_mode": {
    "name": "ipython",
    "version": 3
   },
   "file_extension": ".py",
   "mimetype": "text/x-python",
   "name": "python",
   "nbconvert_exporter": "python",
   "pygments_lexer": "ipython3",
   "version": "3.7.8"
  }
 },
 "nbformat": 4,
 "nbformat_minor": 2
}
