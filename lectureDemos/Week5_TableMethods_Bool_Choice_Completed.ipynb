{
 "cells": [
  {
   "cell_type": "code",
   "execution_count": null,
   "id": "6c2d8c87",
   "metadata": {},
   "outputs": [],
   "source": [
    "from datascience import *\n",
    "import numpy as np\n",
    "\n",
    "%matplotlib inline\n",
    "import matplotlib.pyplot as plots\n",
    "plots.style.use('fivethirtyeight')"
   ]
  },
  {
   "cell_type": "markdown",
   "id": "664f3a45",
   "metadata": {},
   "source": [
    "## Bikes"
   ]
  },
  {
   "cell_type": "markdown",
   "id": "7676ee47",
   "metadata": {},
   "source": [
    "**Please run all cells before this cell, including the previous example cells and the import cell at the top of the notebook.**"
   ]
  },
  {
   "cell_type": "code",
   "execution_count": null,
   "id": "6111fdf0",
   "metadata": {
    "scrolled": true
   },
   "outputs": [],
   "source": [
    "trips = Table.read_table('trips_2.csv')\n",
    "trips"
   ]
  },
  {
   "cell_type": "markdown",
   "id": "0fd938ed",
   "metadata": {},
   "source": [
    "Remember from last time that these bikes were used generally for 30 \n",
    "minutes or less: 30*60 = 1800 seconds.  When we viewd the histogram without \n",
    "restricting the seconds on the x-axis, there were some outliers!"
   ]
  },
  {
   "cell_type": "code",
   "execution_count": null,
   "id": "c6fcba55",
   "metadata": {},
   "outputs": [],
   "source": [
    "commute = trips.where('Duration', are.below(1800))\n",
    "commute.hist('Duration')"
   ]
  },
  {
   "cell_type": "code",
   "execution_count": null,
   "id": "4688cecf",
   "metadata": {},
   "outputs": [],
   "source": [
    "commute.hist('Duration', bins=60, unit='second')"
   ]
  },
  {
   "cell_type": "code",
   "execution_count": null,
   "id": "75bba50e",
   "metadata": {},
   "outputs": [],
   "source": [
    "# what is the area of this peak here?  What percentage of all \n",
    "# the trips in the data does this represent?  \n",
    "(500-250)*.15"
   ]
  },
  {
   "cell_type": "markdown",
   "id": "c4a13c8c",
   "metadata": {},
   "source": [
    "What is the most popular place to pick up a bike from?  Let's use group!"
   ]
  },
  {
   "cell_type": "code",
   "execution_count": null,
   "id": "242e1630",
   "metadata": {},
   "outputs": [],
   "source": [
    "starts = commute.group('Start Station').sort('count', descending=True)\n",
    "starts"
   ]
  },
  {
   "cell_type": "markdown",
   "id": "ae32fc5a",
   "metadata": {},
   "source": [
    "Can we see what the most common bike commutes are?  In other words, how many people take a bike from location A and leave that bike at location B?  Or how many people do the reverse commute?  We can use pivot to count the number of trips that originate at station and end at another."
   ]
  },
  {
   "cell_type": "code",
   "execution_count": null,
   "id": "7481e8d7",
   "metadata": {},
   "outputs": [],
   "source": [
    "commute.pivot('Start Station', 'End Station')"
   ]
  },
  {
   "cell_type": "code",
   "execution_count": null,
   "id": "e2c2ed56",
   "metadata": {},
   "outputs": [],
   "source": [
    "# take a look at the table again.  What does commute look like?\n",
    "commute.show(3)"
   ]
  },
  {
   "cell_type": "code",
   "execution_count": null,
   "id": "2b40e580",
   "metadata": {},
   "outputs": [],
   "source": [
    "# make a new table that only shows start station, end station, and duration\n",
    "duration = commute.select(3, 6, 1)\n",
    "duration"
   ]
  },
  {
   "cell_type": "markdown",
   "id": "34855a3e",
   "metadata": {},
   "source": [
    "What is the minimum amount of time that a bike might be out for a specific trip? Did you know that we can use a list in our first argument for group so that we can group all trips that start and end at a specific station together?"
   ]
  },
  {
   "cell_type": "code",
   "execution_count": null,
   "id": "d43b4763",
   "metadata": {},
   "outputs": [],
   "source": [
    "shortest = duration.group(['Start Station', 'End Station'], min).sort(2)\n",
    "shortest"
   ]
  },
  {
   "cell_type": "code",
   "execution_count": null,
   "id": "35d99dc8",
   "metadata": {},
   "outputs": [],
   "source": [
    "#let's look at just one specific start station.  Can we tell geography by looking at duration?\n",
    "from_cc = shortest.where('Start Station', are.containing('Civic Center BART')).sort(2)\n",
    "from_cc"
   ]
  },
  {
   "cell_type": "markdown",
   "id": "2db80b02",
   "metadata": {},
   "source": [
    "## Maps"
   ]
  },
  {
   "cell_type": "markdown",
   "id": "d30e546a",
   "metadata": {},
   "source": [
    "**Please run all cells before this cell, including the previous example cells and the import cell at the top of the notebook.**"
   ]
  },
  {
   "cell_type": "code",
   "execution_count": null,
   "id": "d9fd55ab",
   "metadata": {},
   "outputs": [],
   "source": [
    "stations = Table.read_table('station.csv')\n",
    "stations"
   ]
  },
  {
   "cell_type": "code",
   "execution_count": null,
   "id": "4a870588",
   "metadata": {
    "scrolled": true
   },
   "outputs": [],
   "source": [
    "Marker.map_table(stations.select('lat', 'long', 'name'))"
   ]
  },
  {
   "cell_type": "code",
   "execution_count": null,
   "id": "0603a407",
   "metadata": {},
   "outputs": [],
   "source": [
    "#what is the variable \"landmark?\"\n",
    "stations.group('landmark')"
   ]
  },
  {
   "cell_type": "code",
   "execution_count": null,
   "id": "fcb55c9c",
   "metadata": {},
   "outputs": [],
   "source": [
    "#Let's use a different color to identify each landmark\n",
    "colors = stations.group('landmark').with_column(\n",
    "    'color', make_array('blue', 'red', 'green', 'orange', 'purple'))\n",
    "colors"
   ]
  },
  {
   "cell_type": "code",
   "execution_count": null,
   "id": "3102ba75",
   "metadata": {},
   "outputs": [],
   "source": [
    "#If we add these color identifiers to our stations table\n",
    "#we can view these in our map.\n",
    "stations.join('landmark', colors)"
   ]
  },
  {
   "cell_type": "code",
   "execution_count": null,
   "id": "04aa0bcd",
   "metadata": {},
   "outputs": [],
   "source": [
    "#Now let's take just what we need from this table to make a map that uses\n",
    "#color to identify each station with it's \"landmark\"\n",
    "map_table = stations.join('landmark', colors).select('lat', 'long', 'name', 'color')\n",
    "Marker.map_table(map_table)"
   ]
  },
  {
   "cell_type": "markdown",
   "id": "cb2458bf",
   "metadata": {},
   "source": [
    "Let's restrict our view to just San Francisco by using .where "
   ]
  },
  {
   "cell_type": "code",
   "execution_count": null,
   "id": "9be6b219",
   "metadata": {
    "scrolled": true
   },
   "outputs": [],
   "source": [
    "sf = stations.where('landmark', 'San Francisco')\n",
    "Circle.map_table(sf.select('lat', 'long', 'name'), color='green')"
   ]
  },
  {
   "cell_type": "markdown",
   "id": "81a980fa",
   "metadata": {},
   "source": [
    "Can we also use maps to visualize the most popular trips?"
   ]
  },
  {
   "cell_type": "code",
   "execution_count": null,
   "id": "3cb3ab78",
   "metadata": {},
   "outputs": [],
   "source": [
    "#we had looked at the trips from the Civic Center with their duration\n",
    "from_cc"
   ]
  },
  {
   "cell_type": "code",
   "execution_count": null,
   "id": "264ad895",
   "metadata": {},
   "outputs": [],
   "source": [
    "#we had also created a table called \"starts\" that looked at the most popular\n",
    "#start stations\n",
    "starts"
   ]
  },
  {
   "cell_type": "code",
   "execution_count": null,
   "id": "5354587f",
   "metadata": {},
   "outputs": [],
   "source": [
    "#If we join starts with the stations table, then we can add counts to our \n",
    "#location data\n",
    "station_starts = stations.join('name', starts, 'Start Station')\n",
    "station_starts"
   ]
  },
  {
   "cell_type": "code",
   "execution_count": null,
   "id": "543546f5",
   "metadata": {},
   "outputs": [],
   "source": [
    "#just select the columns we need here\n",
    "station_starts.select('lat', 'long', 'name').with_columns(\n",
    "    'color', 'blue',\n",
    "    'area', station_starts.column('count') \n",
    ")"
   ]
  },
  {
   "cell_type": "code",
   "execution_count": null,
   "id": "ededfd8d",
   "metadata": {
    "scrolled": true
   },
   "outputs": [],
   "source": [
    "#make a map where the size of the circle is determined by the numer of trips leaving that station\n",
    "Circle.map_table(station_starts.select('lat', 'long', 'name').with_columns(\n",
    "    'color', 'blue',\n",
    "    'area', station_starts.column('count') \n",
    "))"
   ]
  },
  {
   "cell_type": "markdown",
   "id": "4a20a8e9",
   "metadata": {},
   "source": [
    "## Combining Table Methods"
   ]
  },
  {
   "cell_type": "code",
   "execution_count": null,
   "id": "2eaaaebd",
   "metadata": {},
   "outputs": [],
   "source": [
    "duration"
   ]
  },
  {
   "cell_type": "code",
   "execution_count": null,
   "id": "6bd58082",
   "metadata": {},
   "outputs": [],
   "source": [
    "#the value of the average duration of a rental.\n",
    "np.average(duration.column(2))"
   ]
  },
  {
   "cell_type": "code",
   "execution_count": null,
   "id": "c26f7e0e",
   "metadata": {},
   "outputs": [],
   "source": [
    "# the name of the station where most rentals ended.\n",
    "duration.group('End Station').sort('count', descending = True).column(0).item(0)"
   ]
  },
  {
   "cell_type": "code",
   "execution_count": null,
   "id": "6ca7aeed",
   "metadata": {},
   "outputs": [],
   "source": [
    "duration.group('End Station')"
   ]
  },
  {
   "cell_type": "code",
   "execution_count": null,
   "id": "b358f953",
   "metadata": {},
   "outputs": [],
   "source": [
    "duration.group('End Station').sort('count', descending = True)"
   ]
  },
  {
   "cell_type": "code",
   "execution_count": null,
   "id": "a78e44a1",
   "metadata": {},
   "outputs": [],
   "source": [
    "duration.group('End Station').sort('count', descending = True).column(0).item(0)"
   ]
  },
  {
   "cell_type": "code",
   "execution_count": null,
   "id": "8ddaec98",
   "metadata": {},
   "outputs": [],
   "source": [
    "duration.group('End Station', np.average)"
   ]
  },
  {
   "cell_type": "code",
   "execution_count": null,
   "id": "74cac6c3",
   "metadata": {},
   "outputs": [],
   "source": [
    "duration.group('End Station', np.average).where(2, are.above(10*60))"
   ]
  },
  {
   "cell_type": "code",
   "execution_count": null,
   "id": "24336e13",
   "metadata": {},
   "outputs": [],
   "source": [
    "# number of stations for which the average duration ending at that station was\n",
    "# more than 10 minutes. \n",
    "duration.group('End Station', np.average).where(2, are.above(10*60)).num_rows"
   ]
  },
  {
   "cell_type": "markdown",
   "id": "6b74c7be",
   "metadata": {},
   "source": [
    "## Drinks - More Table Review"
   ]
  },
  {
   "cell_type": "code",
   "execution_count": null,
   "id": "5605d8ad",
   "metadata": {},
   "outputs": [],
   "source": [
    "drinks = Table(['Drink', 'Cafe', 'Price']).with_rows([\n",
    "    ['Milk Tea', 'Tea One', 4],\n",
    "    ['Espresso', 'Nefeli',  2],\n",
    "    ['Coffee',    'Nefeli', 3],\n",
    "    ['Espresso', \"Abe's\",   2]\n",
    "])\n",
    "drinks"
   ]
  },
  {
   "cell_type": "code",
   "execution_count": null,
   "id": "57614bef",
   "metadata": {},
   "outputs": [],
   "source": [
    "discounts = Table().with_columns(\n",
    "    'Coupon % off', make_array(5, 50, 25),\n",
    "    'Location', make_array('Tea One', 'Nefeli', 'Tea One')\n",
    ")\n",
    "discounts"
   ]
  },
  {
   "cell_type": "code",
   "execution_count": null,
   "id": "3612689e",
   "metadata": {},
   "outputs": [],
   "source": [
    "a = drinks.join('Cafe', discounts, 'Location')\n",
    "a"
   ]
  },
  {
   "cell_type": "code",
   "execution_count": null,
   "id": "20c6d568",
   "metadata": {},
   "outputs": [],
   "source": [
    "a = a.with_column(\"Disc\", a.column('Price')*(1- a.column(3)/100))\n",
    "a"
   ]
  },
  {
   "cell_type": "code",
   "execution_count": null,
   "id": "2b074001",
   "metadata": {},
   "outputs": [],
   "source": [
    "a = a.drop(2,3)\n",
    "a"
   ]
  },
  {
   "cell_type": "code",
   "execution_count": null,
   "id": "e7c21801",
   "metadata": {},
   "outputs": [],
   "source": [
    "a.group('Cafe', min)"
   ]
  },
  {
   "cell_type": "code",
   "execution_count": null,
   "id": "01ed3e70",
   "metadata": {},
   "outputs": [],
   "source": [
    "a.sort('Disc').sort('Cafe', distinct = True)"
   ]
  },
  {
   "cell_type": "markdown",
   "id": "c0b9badc",
   "metadata": {},
   "source": [
    "## Comparisons and Booleans"
   ]
  },
  {
   "cell_type": "code",
   "execution_count": null,
   "id": "f0daeb8b",
   "metadata": {},
   "outputs": [],
   "source": [
    "1 > 2"
   ]
  },
  {
   "cell_type": "code",
   "execution_count": null,
   "id": "c97fc070",
   "metadata": {},
   "outputs": [],
   "source": [
    "3 > 2"
   ]
  },
  {
   "cell_type": "code",
   "execution_count": null,
   "id": "92fb9062",
   "metadata": {},
   "outputs": [],
   "source": [
    "np.arange(5) == 2"
   ]
  },
  {
   "cell_type": "markdown",
   "id": "4e1ec8ca",
   "metadata": {},
   "source": [
    "Closer look at .where"
   ]
  },
  {
   "cell_type": "code",
   "execution_count": null,
   "id": "f7ed7a00",
   "metadata": {},
   "outputs": [],
   "source": [
    "pop = ('http://www2.census.gov/programs-surveys/popest/datasets/2010-2015/national/asrh/nc-est2015-agesex-res.csv')\n",
    "full_census_table = Table.read_table(pop)\n",
    "partial = full_census_table.select('SEX', 'AGE', 'POPESTIMATE2010', 'POPESTIMATE2015')\n",
    "us_pop = partial.relabeled(2, '2010').relabeled(3, '2015')\n",
    "us_pop"
   ]
  },
  {
   "cell_type": "code",
   "execution_count": null,
   "id": "f6a881af",
   "metadata": {},
   "outputs": [],
   "source": [
    "us_pop.column('2015') / us_pop.column('2010') "
   ]
  },
  {
   "cell_type": "code",
   "execution_count": null,
   "id": "4b96cb95",
   "metadata": {},
   "outputs": [],
   "source": [
    "#For whom was here more than \n",
    "us_pop.where(us_pop.column('2015') / us_pop.column('2010') > 1.5)"
   ]
  },
  {
   "cell_type": "code",
   "execution_count": null,
   "id": "415158f0",
   "metadata": {},
   "outputs": [],
   "source": [
    "# Let's do one more table with advanced where\n",
    "duration"
   ]
  },
  {
   "cell_type": "code",
   "execution_count": null,
   "id": "6d6d89be",
   "metadata": {},
   "outputs": [],
   "source": [
    "# The average duration of trips that started and ended at the same station\n",
    "np.average(duration.column(2))"
   ]
  },
  {
   "cell_type": "code",
   "execution_count": null,
   "id": "ca784116",
   "metadata": {},
   "outputs": [],
   "source": [
    "duration.where(duration.column(0) == duration.column(1))"
   ]
  },
  {
   "cell_type": "code",
   "execution_count": null,
   "id": "2b2f561d",
   "metadata": {},
   "outputs": [],
   "source": [
    "# The average duration of trips that started and ended at the same station\n",
    "np.average(duration.where(duration.column(0) == duration.column(1)).column(2))"
   ]
  },
  {
   "cell_type": "code",
   "execution_count": null,
   "id": "ef64564e",
   "metadata": {},
   "outputs": [],
   "source": [
    "# The average duration of trips that started and ended at different stations\n",
    "np.average(duration.where(duration.column(0) != duration.column(1)).column(2))"
   ]
  },
  {
   "cell_type": "markdown",
   "id": "64471e42",
   "metadata": {},
   "source": [
    "## Comparison and bool values"
   ]
  },
  {
   "cell_type": "code",
   "execution_count": null,
   "id": "061dd18b",
   "metadata": {},
   "outputs": [],
   "source": [
    "# comparing numbers \n",
    "x = 3\n",
    "y = 4\n",
    "x > y"
   ]
  },
  {
   "cell_type": "code",
   "execution_count": null,
   "id": "3db9c966",
   "metadata": {},
   "outputs": [],
   "source": [
    "10/2 != y"
   ]
  },
  {
   "cell_type": "code",
   "execution_count": null,
   "id": "253a9dd1",
   "metadata": {},
   "outputs": [],
   "source": [
    "# What about strings?\n",
    "'Canine' == 'Canne'"
   ]
  },
  {
   "cell_type": "code",
   "execution_count": null,
   "id": "d34f3e91",
   "metadata": {},
   "outputs": [],
   "source": [
    "# Let's try writing a function\n",
    "def teen(x):\n",
    "    return 13 <= x <= 19\n",
    "\n"
   ]
  },
  {
   "cell_type": "code",
   "execution_count": null,
   "id": "bfc0a34b",
   "metadata": {},
   "outputs": [],
   "source": [
    "ages = Table().with_column('Age', np.arange(11, 50))\n",
    "ages"
   ]
  },
  {
   "cell_type": "code",
   "execution_count": null,
   "id": "90d1388f",
   "metadata": {},
   "outputs": [],
   "source": [
    "ages = Table().with_column('Age', np.arange(11, 50))\n",
    "ages = ages.with_column('Teenager', ages.apply(teen, 'Age'))\n",
    "ages\n"
   ]
  },
  {
   "cell_type": "markdown",
   "id": "41fb7f2b",
   "metadata": {},
   "source": [
    "## Combining Bool Values"
   ]
  },
  {
   "cell_type": "code",
   "execution_count": null,
   "id": "0978c595",
   "metadata": {},
   "outputs": [],
   "source": [
    "x = 3\n",
    "y = 4"
   ]
  },
  {
   "cell_type": "code",
   "execution_count": null,
   "id": "d89cb541",
   "metadata": {},
   "outputs": [],
   "source": [
    "x < 2 or y > 5"
   ]
  },
  {
   "cell_type": "code",
   "execution_count": null,
   "id": "cbf98c1c",
   "metadata": {},
   "outputs": [],
   "source": [
    "x < 2 or y > 3"
   ]
  },
  {
   "cell_type": "code",
   "execution_count": null,
   "id": "514386ad",
   "metadata": {},
   "outputs": [],
   "source": [
    "x < 2 and y > 3"
   ]
  },
  {
   "cell_type": "markdown",
   "id": "deb23abd",
   "metadata": {},
   "source": [
    "Aggregating bool values"
   ]
  },
  {
   "cell_type": "code",
   "execution_count": null,
   "id": "cb6c3a66",
   "metadata": {},
   "outputs": [],
   "source": [
    "True + True"
   ]
  },
  {
   "cell_type": "code",
   "execution_count": null,
   "id": "f63287e5",
   "metadata": {},
   "outputs": [],
   "source": [
    "ages"
   ]
  },
  {
   "cell_type": "code",
   "execution_count": null,
   "id": "9d8d585a",
   "metadata": {},
   "outputs": [],
   "source": [
    "ages.column(1)"
   ]
  },
  {
   "cell_type": "code",
   "execution_count": null,
   "id": "e6342c1c",
   "metadata": {},
   "outputs": [],
   "source": [
    "sum(ages.column(1))"
   ]
  },
  {
   "cell_type": "code",
   "execution_count": null,
   "id": "26cded21",
   "metadata": {},
   "outputs": [],
   "source": [
    "sum(ages.column(1))/len(ages.column(1))"
   ]
  },
  {
   "cell_type": "markdown",
   "id": "cfb43f08",
   "metadata": {},
   "source": [
    "Predicates"
   ]
  },
  {
   "cell_type": "code",
   "execution_count": null,
   "id": "0923768f",
   "metadata": {},
   "outputs": [],
   "source": [
    "# create a predicate for \"still young\" \n",
    "still_young = are.between(35, 40)"
   ]
  },
  {
   "cell_type": "code",
   "execution_count": null,
   "id": "8857dcca",
   "metadata": {},
   "outputs": [],
   "source": [
    "ages.where('Age', still_young)"
   ]
  },
  {
   "cell_type": "code",
   "execution_count": null,
   "id": "056f41e2",
   "metadata": {},
   "outputs": [],
   "source": [
    "still_young(40)"
   ]
  },
  {
   "cell_type": "code",
   "execution_count": null,
   "id": "071cbfe7",
   "metadata": {},
   "outputs": [],
   "source": [
    "sum(ages.apply(still_young, 'Age'))"
   ]
  },
  {
   "cell_type": "code",
   "execution_count": null,
   "id": "6adf3028",
   "metadata": {},
   "outputs": [],
   "source": []
  },
  {
   "cell_type": "code",
   "execution_count": null,
   "id": "106e52ae",
   "metadata": {},
   "outputs": [],
   "source": []
  },
  {
   "cell_type": "code",
   "execution_count": null,
   "id": "7d7e1193",
   "metadata": {},
   "outputs": [],
   "source": []
  },
  {
   "cell_type": "markdown",
   "id": "446f6112",
   "metadata": {},
   "source": [
    "## Choice"
   ]
  },
  {
   "cell_type": "code",
   "execution_count": null,
   "id": "ecb29812",
   "metadata": {},
   "outputs": [],
   "source": [
    "two_groups = make_array('treatment', 'control')\n",
    "two_groups"
   ]
  },
  {
   "cell_type": "code",
   "execution_count": null,
   "id": "0a5f27ee",
   "metadata": {},
   "outputs": [],
   "source": [
    "np.random.choice(two_groups)"
   ]
  },
  {
   "cell_type": "code",
   "execution_count": null,
   "id": "5bda5727",
   "metadata": {},
   "outputs": [],
   "source": [
    "outcomes = np.random.choice(two_groups, 10)\n",
    "outcomes"
   ]
  },
  {
   "cell_type": "code",
   "execution_count": null,
   "id": "c43f3fd5",
   "metadata": {},
   "outputs": [],
   "source": [
    "outcomes == 'treatment'"
   ]
  },
  {
   "cell_type": "code",
   "execution_count": null,
   "id": "d2b95081",
   "metadata": {},
   "outputs": [],
   "source": [
    "sum(outcomes == 'treatment')"
   ]
  },
  {
   "cell_type": "code",
   "execution_count": null,
   "id": "274eda6a",
   "metadata": {},
   "outputs": [],
   "source": []
  },
  {
   "cell_type": "code",
   "execution_count": null,
   "id": "ea7f0958",
   "metadata": {},
   "outputs": [],
   "source": []
  },
  {
   "cell_type": "code",
   "execution_count": null,
   "id": "c0a7ed47",
   "metadata": {},
   "outputs": [],
   "source": [
    "# count the number of true: 2 options"
   ]
  },
  {
   "cell_type": "code",
   "execution_count": null,
   "id": "84c61705",
   "metadata": {},
   "outputs": [],
   "source": [
    "# sum(outcomes)"
   ]
  },
  {
   "cell_type": "code",
   "execution_count": null,
   "id": "3ae00b8e",
   "metadata": {},
   "outputs": [],
   "source": [
    "# np.count_nonzero(outcomes == ?)\n",
    "np.count_nonzero(outcomes == 'treatment')"
   ]
  },
  {
   "cell_type": "code",
   "execution_count": null,
   "id": "4e263e79",
   "metadata": {},
   "outputs": [],
   "source": []
  }
 ],
 "metadata": {
  "kernelspec": {
   "display_name": "Python 3 (ipykernel)",
   "language": "python",
   "name": "python3"
  },
  "language_info": {
   "codemirror_mode": {
    "name": "ipython",
    "version": 3
   },
   "file_extension": ".py",
   "mimetype": "text/x-python",
   "name": "python",
   "nbconvert_exporter": "python",
   "pygments_lexer": "ipython3",
   "version": "3.7.8"
  }
 },
 "nbformat": 4,
 "nbformat_minor": 5
}
