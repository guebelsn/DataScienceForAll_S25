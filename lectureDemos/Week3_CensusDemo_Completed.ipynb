{
 "cells": [
  {
   "cell_type": "markdown",
   "id": "18c5303b",
   "metadata": {},
   "source": [
    "## Census Data"
   ]
  },
  {
   "cell_type": "markdown",
   "id": "941b08c5",
   "metadata": {},
   "source": [
    "Let's look at the 5 year period between 2010 and 2015 to see what is happening.\n",
    "https://www2.census.gov/programs-surveys/popest/datasets/2010-2015/national/asrh/"
   ]
  },
  {
   "cell_type": "code",
   "execution_count": 1,
   "id": "85db17bd",
   "metadata": {},
   "outputs": [],
   "source": [
    "from datascience import *\n",
    "import numpy as np\n",
    "\n",
    "%matplotlib inline\n",
    "import matplotlib.pyplot as plots\n",
    "plots.style.use('fivethirtyeight')"
   ]
  },
  {
   "cell_type": "code",
   "execution_count": 2,
   "id": "e200e7ca",
   "metadata": {
    "scrolled": true
   },
   "outputs": [
    {
     "data": {
      "text/html": [
       "<table border=\"1\" class=\"dataframe\">\n",
       "    <thead>\n",
       "        <tr>\n",
       "            <th>SEX</th> <th>AGE</th> <th>CENSUS2010POP</th> <th>ESTIMATESBASE2010</th> <th>POPESTIMATE2010</th> <th>POPESTIMATE2011</th> <th>POPESTIMATE2012</th> <th>POPESTIMATE2013</th> <th>POPESTIMATE2014</th> <th>POPESTIMATE2015</th>\n",
       "        </tr>\n",
       "    </thead>\n",
       "    <tbody>\n",
       "        <tr>\n",
       "            <td>0   </td> <td>0   </td> <td>3944153      </td> <td>3944160          </td> <td>3951330        </td> <td>3963087        </td> <td>3926540        </td> <td>3931141        </td> <td>3949775        </td> <td>3978038        </td>\n",
       "        </tr>\n",
       "        <tr>\n",
       "            <td>0   </td> <td>1   </td> <td>3978070      </td> <td>3978090          </td> <td>3957888        </td> <td>3966551        </td> <td>3977939        </td> <td>3942872        </td> <td>3949776        </td> <td>3968564        </td>\n",
       "        </tr>\n",
       "        <tr>\n",
       "            <td>0   </td> <td>2   </td> <td>4096929      </td> <td>4096939          </td> <td>4090862        </td> <td>3971565        </td> <td>3980095        </td> <td>3992720        </td> <td>3959664        </td> <td>3966583        </td>\n",
       "        </tr>\n",
       "        <tr>\n",
       "            <td>0   </td> <td>3   </td> <td>4119040      </td> <td>4119051          </td> <td>4111920        </td> <td>4102470        </td> <td>3983157        </td> <td>3992734        </td> <td>4007079        </td> <td>3974061        </td>\n",
       "        </tr>\n",
       "        <tr>\n",
       "            <td>0   </td> <td>4   </td> <td>4063170      </td> <td>4063186          </td> <td>4077551        </td> <td>4122294        </td> <td>4112849        </td> <td>3994449        </td> <td>4005716        </td> <td>4020035        </td>\n",
       "        </tr>\n",
       "        <tr>\n",
       "            <td>0   </td> <td>5   </td> <td>4056858      </td> <td>4056872          </td> <td>4064653        </td> <td>4087709        </td> <td>4132242        </td> <td>4123626        </td> <td>4006900        </td> <td>4018158        </td>\n",
       "        </tr>\n",
       "        <tr>\n",
       "            <td>0   </td> <td>6   </td> <td>4066381      </td> <td>4066412          </td> <td>4073013        </td> <td>4074993        </td> <td>4097605        </td> <td>4142916        </td> <td>4135930        </td> <td>4019207        </td>\n",
       "        </tr>\n",
       "        <tr>\n",
       "            <td>0   </td> <td>7   </td> <td>4030579      </td> <td>4030594          </td> <td>4043046        </td> <td>4083225        </td> <td>4084913        </td> <td>4108349        </td> <td>4155326        </td> <td>4148360        </td>\n",
       "        </tr>\n",
       "        <tr>\n",
       "            <td>0   </td> <td>8   </td> <td>4046486      </td> <td>4046497          </td> <td>4025604        </td> <td>4053203        </td> <td>4093177        </td> <td>4095711        </td> <td>4120903        </td> <td>4167887        </td>\n",
       "        </tr>\n",
       "        <tr>\n",
       "            <td>0   </td> <td>9   </td> <td>4148353      </td> <td>4148369          </td> <td>4125415        </td> <td>4035710        </td> <td>4063152        </td> <td>4104072        </td> <td>4108349        </td> <td>4133564        </td>\n",
       "        </tr>\n",
       "    </tbody>\n",
       "</table>\n",
       "<p>... (296 rows omitted)</p>"
      ],
      "text/plain": [
       "SEX  | AGE  | CENSUS2010POP | ESTIMATESBASE2010 | POPESTIMATE2010 | POPESTIMATE2011 | POPESTIMATE2012 | POPESTIMATE2013 | POPESTIMATE2014 | POPESTIMATE2015\n",
       "0    | 0    | 3944153       | 3944160           | 3951330         | 3963087         | 3926540         | 3931141         | 3949775         | 3978038\n",
       "0    | 1    | 3978070       | 3978090           | 3957888         | 3966551         | 3977939         | 3942872         | 3949776         | 3968564\n",
       "0    | 2    | 4096929       | 4096939           | 4090862         | 3971565         | 3980095         | 3992720         | 3959664         | 3966583\n",
       "0    | 3    | 4119040       | 4119051           | 4111920         | 4102470         | 3983157         | 3992734         | 4007079         | 3974061\n",
       "0    | 4    | 4063170       | 4063186           | 4077551         | 4122294         | 4112849         | 3994449         | 4005716         | 4020035\n",
       "0    | 5    | 4056858       | 4056872           | 4064653         | 4087709         | 4132242         | 4123626         | 4006900         | 4018158\n",
       "0    | 6    | 4066381       | 4066412           | 4073013         | 4074993         | 4097605         | 4142916         | 4135930         | 4019207\n",
       "0    | 7    | 4030579       | 4030594           | 4043046         | 4083225         | 4084913         | 4108349         | 4155326         | 4148360\n",
       "0    | 8    | 4046486       | 4046497           | 4025604         | 4053203         | 4093177         | 4095711         | 4120903         | 4167887\n",
       "0    | 9    | 4148353       | 4148369           | 4125415         | 4035710         | 4063152         | 4104072         | 4108349         | 4133564\n",
       "... (296 rows omitted)"
      ]
     },
     "execution_count": 2,
     "metadata": {},
     "output_type": "execute_result"
    }
   ],
   "source": [
    "# Let's load the smallest comma separated values (.csv) file from this directory. \n",
    "# We can create a string called \"data\" which contains the address.\n",
    "\n",
    "data = 'https://www2.census.gov/programs-surveys/popest/datasets/2010-2015/national/asrh/nc-est2015-agesex-res.csv'\n",
    "full = Table.read_table(data)\n",
    "full"
   ]
  },
  {
   "cell_type": "code",
   "execution_count": 3,
   "id": "b02bd40f",
   "metadata": {},
   "outputs": [
    {
     "data": {
      "text/html": [
       "<table border=\"1\" class=\"dataframe\">\n",
       "    <thead>\n",
       "        <tr>\n",
       "            <th>SEX</th> <th>AGE</th> <th>POPESTIMATE2010</th> <th>POPESTIMATE2015</th>\n",
       "        </tr>\n",
       "    </thead>\n",
       "    <tbody>\n",
       "        <tr>\n",
       "            <td>0   </td> <td>0   </td> <td>3951330        </td> <td>3978038        </td>\n",
       "        </tr>\n",
       "        <tr>\n",
       "            <td>0   </td> <td>1   </td> <td>3957888        </td> <td>3968564        </td>\n",
       "        </tr>\n",
       "        <tr>\n",
       "            <td>0   </td> <td>2   </td> <td>4090862        </td> <td>3966583        </td>\n",
       "        </tr>\n",
       "        <tr>\n",
       "            <td>0   </td> <td>3   </td> <td>4111920        </td> <td>3974061        </td>\n",
       "        </tr>\n",
       "        <tr>\n",
       "            <td>0   </td> <td>4   </td> <td>4077551        </td> <td>4020035        </td>\n",
       "        </tr>\n",
       "        <tr>\n",
       "            <td>0   </td> <td>5   </td> <td>4064653        </td> <td>4018158        </td>\n",
       "        </tr>\n",
       "        <tr>\n",
       "            <td>0   </td> <td>6   </td> <td>4073013        </td> <td>4019207        </td>\n",
       "        </tr>\n",
       "        <tr>\n",
       "            <td>0   </td> <td>7   </td> <td>4043046        </td> <td>4148360        </td>\n",
       "        </tr>\n",
       "        <tr>\n",
       "            <td>0   </td> <td>8   </td> <td>4025604        </td> <td>4167887        </td>\n",
       "        </tr>\n",
       "        <tr>\n",
       "            <td>0   </td> <td>9   </td> <td>4125415        </td> <td>4133564        </td>\n",
       "        </tr>\n",
       "    </tbody>\n",
       "</table>\n",
       "<p>... (296 rows omitted)</p>"
      ],
      "text/plain": [
       "SEX  | AGE  | POPESTIMATE2010 | POPESTIMATE2015\n",
       "0    | 0    | 3951330         | 3978038\n",
       "0    | 1    | 3957888         | 3968564\n",
       "0    | 2    | 4090862         | 3966583\n",
       "0    | 3    | 4111920         | 3974061\n",
       "0    | 4    | 4077551         | 4020035\n",
       "0    | 5    | 4064653         | 4018158\n",
       "0    | 6    | 4073013         | 4019207\n",
       "0    | 7    | 4043046         | 4148360\n",
       "0    | 8    | 4025604         | 4167887\n",
       "0    | 9    | 4125415         | 4133564\n",
       "... (296 rows omitted)"
      ]
     },
     "execution_count": 3,
     "metadata": {},
     "output_type": "execute_result"
    }
   ],
   "source": [
    "# Let's look at how the US population has changed between 2010 and 2015\n",
    "\n",
    "partial = full.select('SEX', \"AGE\", 4, 9)\n",
    "partial"
   ]
  },
  {
   "cell_type": "code",
   "execution_count": 4,
   "id": "140d1174",
   "metadata": {},
   "outputs": [
    {
     "data": {
      "text/html": [
       "<table border=\"1\" class=\"dataframe\">\n",
       "    <thead>\n",
       "        <tr>\n",
       "            <th>SEX</th> <th>AGE</th> <th>2010</th> <th>2015</th>\n",
       "        </tr>\n",
       "    </thead>\n",
       "    <tbody>\n",
       "        <tr>\n",
       "            <td>0   </td> <td>0   </td> <td>3951330</td> <td>3978038</td>\n",
       "        </tr>\n",
       "        <tr>\n",
       "            <td>0   </td> <td>1   </td> <td>3957888</td> <td>3968564</td>\n",
       "        </tr>\n",
       "        <tr>\n",
       "            <td>0   </td> <td>2   </td> <td>4090862</td> <td>3966583</td>\n",
       "        </tr>\n",
       "        <tr>\n",
       "            <td>0   </td> <td>3   </td> <td>4111920</td> <td>3974061</td>\n",
       "        </tr>\n",
       "        <tr>\n",
       "            <td>0   </td> <td>4   </td> <td>4077551</td> <td>4020035</td>\n",
       "        </tr>\n",
       "        <tr>\n",
       "            <td>0   </td> <td>5   </td> <td>4064653</td> <td>4018158</td>\n",
       "        </tr>\n",
       "        <tr>\n",
       "            <td>0   </td> <td>6   </td> <td>4073013</td> <td>4019207</td>\n",
       "        </tr>\n",
       "        <tr>\n",
       "            <td>0   </td> <td>7   </td> <td>4043046</td> <td>4148360</td>\n",
       "        </tr>\n",
       "        <tr>\n",
       "            <td>0   </td> <td>8   </td> <td>4025604</td> <td>4167887</td>\n",
       "        </tr>\n",
       "        <tr>\n",
       "            <td>0   </td> <td>9   </td> <td>4125415</td> <td>4133564</td>\n",
       "        </tr>\n",
       "    </tbody>\n",
       "</table>\n",
       "<p>... (296 rows omitted)</p>"
      ],
      "text/plain": [
       "SEX  | AGE  | 2010    | 2015\n",
       "0    | 0    | 3951330 | 3978038\n",
       "0    | 1    | 3957888 | 3968564\n",
       "0    | 2    | 4090862 | 3966583\n",
       "0    | 3    | 4111920 | 3974061\n",
       "0    | 4    | 4077551 | 4020035\n",
       "0    | 5    | 4064653 | 4018158\n",
       "0    | 6    | 4073013 | 4019207\n",
       "0    | 7    | 4043046 | 4148360\n",
       "0    | 8    | 4025604 | 4167887\n",
       "0    | 9    | 4125415 | 4133564\n",
       "... (296 rows omitted)"
      ]
     },
     "execution_count": 4,
     "metadata": {},
     "output_type": "execute_result"
    }
   ],
   "source": [
    "# Relabeling columns with table.relabeled()\n",
    "us_pop = partial.relabeled(2, '2010').relabeled(3, '2015')\n",
    "us_pop"
   ]
  },
  {
   "cell_type": "code",
   "execution_count": 5,
   "id": "347e4890",
   "metadata": {},
   "outputs": [
    {
     "data": {
      "text/html": [
       "<table border=\"1\" class=\"dataframe\">\n",
       "    <thead>\n",
       "        <tr>\n",
       "            <th>SEX</th> <th>AGE</th> <th>2010</th> <th>2015</th>\n",
       "        </tr>\n",
       "    </thead>\n",
       "    <tbody>\n",
       "        <tr>\n",
       "            <td>0   </td> <td>0   </td> <td>3,951,330</td> <td>3,978,038</td>\n",
       "        </tr>\n",
       "        <tr>\n",
       "            <td>0   </td> <td>1   </td> <td>3,957,888</td> <td>3,968,564</td>\n",
       "        </tr>\n",
       "        <tr>\n",
       "            <td>0   </td> <td>2   </td> <td>4,090,862</td> <td>3,966,583</td>\n",
       "        </tr>\n",
       "        <tr>\n",
       "            <td>0   </td> <td>3   </td> <td>4,111,920</td> <td>3,974,061</td>\n",
       "        </tr>\n",
       "        <tr>\n",
       "            <td>0   </td> <td>4   </td> <td>4,077,551</td> <td>4,020,035</td>\n",
       "        </tr>\n",
       "        <tr>\n",
       "            <td>0   </td> <td>5   </td> <td>4,064,653</td> <td>4,018,158</td>\n",
       "        </tr>\n",
       "        <tr>\n",
       "            <td>0   </td> <td>6   </td> <td>4,073,013</td> <td>4,019,207</td>\n",
       "        </tr>\n",
       "        <tr>\n",
       "            <td>0   </td> <td>7   </td> <td>4,043,046</td> <td>4,148,360</td>\n",
       "        </tr>\n",
       "        <tr>\n",
       "            <td>0   </td> <td>8   </td> <td>4,025,604</td> <td>4,167,887</td>\n",
       "        </tr>\n",
       "        <tr>\n",
       "            <td>0   </td> <td>9   </td> <td>4,125,415</td> <td>4,133,564</td>\n",
       "        </tr>\n",
       "    </tbody>\n",
       "</table>\n",
       "<p>... (296 rows omitted)</p>"
      ],
      "text/plain": [
       "SEX  | AGE  | 2010      | 2015\n",
       "0    | 0    | 3,951,330 | 3,978,038\n",
       "0    | 1    | 3,957,888 | 3,968,564\n",
       "0    | 2    | 4,090,862 | 3,966,583\n",
       "0    | 3    | 4,111,920 | 3,974,061\n",
       "0    | 4    | 4,077,551 | 4,020,035\n",
       "0    | 5    | 4,064,653 | 4,018,158\n",
       "0    | 6    | 4,073,013 | 4,019,207\n",
       "0    | 7    | 4,043,046 | 4,148,360\n",
       "0    | 8    | 4,025,604 | 4,167,887\n",
       "0    | 9    | 4,125,415 | 4,133,564\n",
       "... (296 rows omitted)"
      ]
     },
     "execution_count": 5,
     "metadata": {},
     "output_type": "execute_result"
    }
   ],
   "source": [
    "#Set the format for easier number reading\n",
    "us_pop.set_format([2,3], NumberFormatter)\n",
    "us_pop"
   ]
  },
  {
   "cell_type": "markdown",
   "id": "25ed9a28",
   "metadata": {},
   "source": [
    "Column arithmetic"
   ]
  },
  {
   "cell_type": "code",
   "execution_count": 6,
   "id": "f08294c8",
   "metadata": {},
   "outputs": [],
   "source": [
    "# What is the difference between the values of the ages in 2015 and 2010?\n",
    "change = us_pop.column(3) - us_pop.column(2)\n",
    "\n"
   ]
  },
  {
   "cell_type": "code",
   "execution_count": 7,
   "id": "db2628e1",
   "metadata": {},
   "outputs": [
    {
     "data": {
      "text/html": [
       "<table border=\"1\" class=\"dataframe\">\n",
       "    <thead>\n",
       "        <tr>\n",
       "            <th>SEX</th> <th>AGE</th> <th>2010</th> <th>2015</th> <th>Change</th> <th>Total Growth</th>\n",
       "        </tr>\n",
       "    </thead>\n",
       "    <tbody>\n",
       "        <tr>\n",
       "            <td>0   </td> <td>0   </td> <td>3,951,330</td> <td>3,978,038</td> <td>26708  </td> <td>0.00675924  </td>\n",
       "        </tr>\n",
       "        <tr>\n",
       "            <td>0   </td> <td>1   </td> <td>3,957,888</td> <td>3,968,564</td> <td>10676  </td> <td>0.0026974   </td>\n",
       "        </tr>\n",
       "        <tr>\n",
       "            <td>0   </td> <td>2   </td> <td>4,090,862</td> <td>3,966,583</td> <td>-124279</td> <td>-0.0303797  </td>\n",
       "        </tr>\n",
       "        <tr>\n",
       "            <td>0   </td> <td>3   </td> <td>4,111,920</td> <td>3,974,061</td> <td>-137859</td> <td>-0.0335267  </td>\n",
       "        </tr>\n",
       "        <tr>\n",
       "            <td>0   </td> <td>4   </td> <td>4,077,551</td> <td>4,020,035</td> <td>-57516 </td> <td>-0.0141055  </td>\n",
       "        </tr>\n",
       "        <tr>\n",
       "            <td>0   </td> <td>5   </td> <td>4,064,653</td> <td>4,018,158</td> <td>-46495 </td> <td>-0.0114389  </td>\n",
       "        </tr>\n",
       "        <tr>\n",
       "            <td>0   </td> <td>6   </td> <td>4,073,013</td> <td>4,019,207</td> <td>-53806 </td> <td>-0.0132104  </td>\n",
       "        </tr>\n",
       "        <tr>\n",
       "            <td>0   </td> <td>7   </td> <td>4,043,046</td> <td>4,148,360</td> <td>105314 </td> <td>0.0260482   </td>\n",
       "        </tr>\n",
       "        <tr>\n",
       "            <td>0   </td> <td>8   </td> <td>4,025,604</td> <td>4,167,887</td> <td>142283 </td> <td>0.0353445   </td>\n",
       "        </tr>\n",
       "        <tr>\n",
       "            <td>0   </td> <td>9   </td> <td>4,125,415</td> <td>4,133,564</td> <td>8149   </td> <td>0.00197532  </td>\n",
       "        </tr>\n",
       "    </tbody>\n",
       "</table>\n",
       "<p>... (296 rows omitted)</p>"
      ],
      "text/plain": [
       "SEX  | AGE  | 2010      | 2015      | Change  | Total Growth\n",
       "0    | 0    | 3,951,330 | 3,978,038 | 26708   | 0.00675924\n",
       "0    | 1    | 3,957,888 | 3,968,564 | 10676   | 0.0026974\n",
       "0    | 2    | 4,090,862 | 3,966,583 | -124279 | -0.0303797\n",
       "0    | 3    | 4,111,920 | 3,974,061 | -137859 | -0.0335267\n",
       "0    | 4    | 4,077,551 | 4,020,035 | -57516  | -0.0141055\n",
       "0    | 5    | 4,064,653 | 4,018,158 | -46495  | -0.0114389\n",
       "0    | 6    | 4,073,013 | 4,019,207 | -53806  | -0.0132104\n",
       "0    | 7    | 4,043,046 | 4,148,360 | 105314  | 0.0260482\n",
       "0    | 8    | 4,025,604 | 4,167,887 | 142283  | 0.0353445\n",
       "0    | 9    | 4,125,415 | 4,133,564 | 8149    | 0.00197532\n",
       "... (296 rows omitted)"
      ]
     },
     "execution_count": 7,
     "metadata": {},
     "output_type": "execute_result"
    }
   ],
   "source": [
    "# make a new table that includes this new info\n",
    "census = us_pop.with_columns(\n",
    "    'Change', change,\n",
    "    'Total Growth', change/us_pop.column(2)\n",
    ")\n",
    "census"
   ]
  },
  {
   "cell_type": "markdown",
   "id": "f7a0ecb4",
   "metadata": {},
   "source": [
    "## Accessing Values"
   ]
  },
  {
   "cell_type": "code",
   "execution_count": 10,
   "id": "bcee7f09",
   "metadata": {},
   "outputs": [
    {
     "data": {
      "text/html": [
       "<table border=\"1\" class=\"dataframe\">\n",
       "    <thead>\n",
       "        <tr>\n",
       "            <th>SEX</th> <th>AGE</th> <th>2010</th> <th>2015</th> <th>Change</th> <th>Total Growth</th>\n",
       "        </tr>\n",
       "    </thead>\n",
       "    <tbody>\n",
       "        <tr>\n",
       "            <td>0   </td> <td>999 </td> <td>309,346,863</td> <td>321,418,820</td> <td>12071957</td> <td>0.039024    </td>\n",
       "        </tr>\n",
       "        <tr>\n",
       "            <td>1   </td> <td>999 </td> <td>152,088,043</td> <td>158,229,297</td> <td>6141254 </td> <td>0.0403796   </td>\n",
       "        </tr>\n",
       "        <tr>\n",
       "            <td>2   </td> <td>999 </td> <td>157,258,820</td> <td>163,189,523</td> <td>5930703 </td> <td>0.037713    </td>\n",
       "        </tr>\n",
       "        <tr>\n",
       "            <td>0   </td> <td>68  </td> <td>2,359,816  </td> <td>3,436,357  </td> <td>1076541 </td> <td>0.456197    </td>\n",
       "        </tr>\n",
       "        <tr>\n",
       "            <td>0   </td> <td>64  </td> <td>2,706,055  </td> <td>3,536,156  </td> <td>830101  </td> <td>0.306757    </td>\n",
       "        </tr>\n",
       "        <tr>\n",
       "            <td>0   </td> <td>65  </td> <td>2,678,525  </td> <td>3,450,043  </td> <td>771518  </td> <td>0.288038    </td>\n",
       "        </tr>\n",
       "        <tr>\n",
       "            <td>0   </td> <td>66  </td> <td>2,621,335  </td> <td>3,344,134  </td> <td>722799  </td> <td>0.275737    </td>\n",
       "        </tr>\n",
       "        <tr>\n",
       "            <td>0   </td> <td>67  </td> <td>2,693,707  </td> <td>3,304,187  </td> <td>610480  </td> <td>0.226632    </td>\n",
       "        </tr>\n",
       "        <tr>\n",
       "            <td>0   </td> <td>72  </td> <td>1,883,820  </td> <td>2,469,605  </td> <td>585785  </td> <td>0.310956    </td>\n",
       "        </tr>\n",
       "        <tr>\n",
       "            <td>2   </td> <td>68  </td> <td>1,254,117  </td> <td>1,812,428  </td> <td>558311  </td> <td>0.445183    </td>\n",
       "        </tr>\n",
       "    </tbody>\n",
       "</table>\n",
       "<p>... (296 rows omitted)</p>"
      ],
      "text/plain": [
       "SEX  | AGE  | 2010        | 2015        | Change   | Total Growth\n",
       "0    | 999  | 309,346,863 | 321,418,820 | 12071957 | 0.039024\n",
       "1    | 999  | 152,088,043 | 158,229,297 | 6141254  | 0.0403796\n",
       "2    | 999  | 157,258,820 | 163,189,523 | 5930703  | 0.037713\n",
       "0    | 68   | 2,359,816   | 3,436,357   | 1076541  | 0.456197\n",
       "0    | 64   | 2,706,055   | 3,536,156   | 830101   | 0.306757\n",
       "0    | 65   | 2,678,525   | 3,450,043   | 771518   | 0.288038\n",
       "0    | 66   | 2,621,335   | 3,344,134   | 722799   | 0.275737\n",
       "0    | 67   | 2,693,707   | 3,304,187   | 610480   | 0.226632\n",
       "0    | 72   | 1,883,820   | 2,469,605   | 585785   | 0.310956\n",
       "2    | 68   | 1,254,117   | 1,812,428   | 558311   | 0.445183\n",
       "... (296 rows omitted)"
      ]
     },
     "execution_count": 10,
     "metadata": {},
     "output_type": "execute_result"
    }
   ],
   "source": [
    "# Sort by \"Change\"\n",
    "census.sort('Change', descending = True)"
   ]
  },
  {
   "cell_type": "code",
   "execution_count": 8,
   "id": "e23248dc",
   "metadata": {},
   "outputs": [
    {
     "data": {
      "text/plain": [
       "0.007685750230353783"
      ]
     },
     "execution_count": 8,
     "metadata": {},
     "output_type": "execute_result"
    }
   ],
   "source": [
    "# what is the annual growth between 2015 and 2010?\n",
    "# g = (changed / initial)**(1/t) - 1\n",
    "initial = 309346863\n",
    "changed = 321418820\n",
    "t = 5\n",
    "g = (changed / initial)**(1/t) - 1\n",
    "g"
   ]
  },
  {
   "cell_type": "code",
   "execution_count": 10,
   "id": "bcc18189",
   "metadata": {},
   "outputs": [
    {
     "data": {
      "text/plain": [
       "Row(SEX=0, AGE=999, 2010=309346863, 2015=321418820, Change=12071957, Total Growth=0.039024016222204264)"
      ]
     },
     "execution_count": 10,
     "metadata": {},
     "output_type": "execute_result"
    }
   ],
   "source": [
    "# we can access these values directly though!!\n",
    "everyone = census.sort('Change', descending = True).row(0)\n",
    "everyone"
   ]
  },
  {
   "cell_type": "code",
   "execution_count": 11,
   "id": "9fef40f2",
   "metadata": {},
   "outputs": [
    {
     "data": {
      "text/plain": [
       "0.007685750230353783"
      ]
     },
     "execution_count": 11,
     "metadata": {},
     "output_type": "execute_result"
    }
   ],
   "source": [
    "initial = everyone.item(2)\n",
    "changed = everyone.item(3)\n",
    "t = 5\n",
    "g = (changed / initial)**(1/t) - 1\n",
    "g\n",
    "\n"
   ]
  },
  {
   "cell_type": "code",
   "execution_count": 13,
   "id": "4e8cc71d",
   "metadata": {},
   "outputs": [
    {
     "data": {
      "text/plain": [
       "array([ 1.34820838e-03,  5.38898505e-04, -6.15114119e-03, -6.79711022e-03,\n",
       "       -2.83715844e-03, -2.29831239e-03, -2.65614637e-03,  5.15618905e-03,\n",
       "        6.97103151e-03,  3.94751504e-04, -3.16165464e-03,  7.19021664e-04,\n",
       "       -5.96732594e-04, -1.72256829e-03,  1.91142965e-03,  8.84276897e-04,\n",
       "       -6.05234512e-03, -8.46314530e-03, -1.24649826e-02, -1.38918770e-02,\n",
       "       -9.14352292e-03,  3.11790277e-03,  1.10641646e-02,  1.98293144e-02,\n",
       "        2.22569542e-02,  1.97280009e-02,  1.77945538e-02,  9.39184200e-03,\n",
       "        5.45525173e-03,  8.07937451e-03,  5.19498692e-03,  1.13990402e-02,\n",
       "        1.82739293e-02,  1.99418760e-02,  2.35921009e-02,  2.09399619e-02,\n",
       "        1.41406809e-02,  6.66673261e-03, -4.60505139e-03, -2.19183737e-02,\n",
       "       -1.88214524e-02, -1.47560685e-02, -7.88558132e-03,  3.35108088e-04,\n",
       "        7.38824474e-03, -2.22746770e-03, -1.68575815e-02, -2.12473034e-02,\n",
       "       -2.10200069e-02, -2.02201961e-02, -1.08183284e-02, -8.59895511e-04,\n",
       "       -2.78690413e-04,  1.08297789e-03,  1.04176241e-02,  1.34584739e-02,\n",
       "        1.45230690e-02,  2.06532249e-02,  2.58753871e-02,  2.42121178e-02,\n",
       "        2.66879488e-02,  2.35505878e-02,  1.69744341e-02, -4.23893881e-05,\n",
       "        5.49672052e-02,  5.19273836e-02,  4.99103791e-02,  4.17004521e-02,\n",
       "        7.80627169e-02,  3.16047128e-02,  3.85912294e-02,  4.38506588e-02,\n",
       "        5.56443278e-02,  4.16105047e-02,  2.99136352e-02,  2.42775906e-02,\n",
       "        3.05232956e-02,  2.49348218e-02,  1.36883120e-02,  9.72250992e-03,\n",
       "        4.72447422e-03, -1.91378839e-03, -1.62881223e-03,  2.07415050e-04,\n",
       "        5.72284244e-03,  9.01825195e-03,  5.90205229e-03,  1.43999282e-02,\n",
       "        1.61501083e-02,  1.78959281e-02,  3.13061001e-02,  5.03403929e-02,\n",
       "        4.54122550e-02,  6.04688824e-02,  6.42172714e-02,  5.83030359e-02,\n",
       "        4.81001743e-02,  6.04196126e-02,  5.67635021e-02,  6.28381364e-02,\n",
       "        7.18476643e-02,  7.68575023e-03,  1.65068834e-03,  8.85709559e-04,\n",
       "       -6.01646725e-03, -6.81465253e-03, -2.73893084e-03, -2.49000930e-03,\n",
       "       -2.78033651e-03,  5.17878789e-03,  7.13657909e-03,  4.40136215e-04,\n",
       "       -3.59447042e-03,  1.84747647e-04, -1.22649799e-03, -2.12258200e-03,\n",
       "        1.25042950e-03,  2.34588649e-04, -6.93617960e-03, -9.74621216e-03,\n",
       "       -1.33352788e-02, -1.32384120e-02, -7.97154335e-03,  4.32838180e-03,\n",
       "        1.27844449e-02,  2.11047335e-02,  2.26902056e-02,  2.03211473e-02,\n",
       "        1.91054668e-02,  1.09442324e-02,  7.36224196e-03,  1.01362465e-02,\n",
       "        5.83401221e-03,  1.21680348e-02,  1.89088787e-02,  2.07148952e-02,\n",
       "        2.39692115e-02,  2.17821227e-02,  1.48494824e-02,  7.72912112e-03,\n",
       "       -4.40097994e-03, -2.15887562e-02, -1.90053630e-02, -1.53990610e-02,\n",
       "       -8.96650681e-03,  1.35857933e-04,  6.90597656e-03, -1.77027463e-03,\n",
       "       -1.60394880e-02, -2.03217402e-02, -2.05299775e-02, -1.92546242e-02,\n",
       "       -1.05081088e-02, -6.39342096e-04, -1.88769306e-04,  1.42619336e-03,\n",
       "        1.07568779e-02,  1.43562275e-02,  1.55185601e-02,  2.15200498e-02,\n",
       "        2.61729716e-02,  2.45604359e-02,  2.66427017e-02,  2.28476387e-02,\n",
       "        1.57943953e-02, -1.41674355e-03,  5.38368118e-02,  5.17563247e-02,\n",
       "        5.01343772e-02,  4.23628199e-02,  7.99061740e-02,  3.36609284e-02,\n",
       "        4.03395799e-02,  4.45313442e-02,  5.74888963e-02,  4.35964286e-02,\n",
       "        3.14943766e-02,  2.71477751e-02,  3.46115376e-02,  2.92104596e-02,\n",
       "        1.82596554e-02,  1.49506994e-02,  1.03526619e-02,  4.75944625e-03,\n",
       "        6.32474928e-03,  8.90661320e-03,  1.59579967e-02,  2.08614673e-02,\n",
       "        1.83539864e-02,  2.53099518e-02,  2.85311068e-02,  2.88960100e-02,\n",
       "        4.41328572e-02,  6.49736014e-02,  6.40367839e-02,  8.05682984e-02,\n",
       "        9.22591796e-02,  8.63379444e-02,  8.15141189e-02,  9.34194925e-02,\n",
       "        9.14032352e-02,  9.42662193e-02,  1.00386961e-01,  7.94855222e-03,\n",
       "        1.03195643e-03,  1.76758198e-04, -6.29171183e-03, -6.77877856e-03,\n",
       "       -2.93991558e-03, -2.09823991e-03, -2.52667681e-03,  5.13263803e-03,\n",
       "        6.79837031e-03,  3.47364442e-04, -2.70905532e-03,  1.27707520e-03,\n",
       "        6.07998196e-05, -1.30532311e-03,  2.60330716e-03,  1.56679129e-03,\n",
       "       -5.12270435e-03, -7.10916921e-03, -1.15500262e-02, -1.45759461e-02,\n",
       "       -1.03713043e-02,  1.84804068e-03,  9.25805881e-03,  1.84946685e-02,\n",
       "        2.18064680e-02,  1.91152011e-02,  1.64487038e-02,  7.80499492e-03,\n",
       "        3.51321018e-03,  5.99134326e-03,  4.54510058e-03,  1.06237292e-02,\n",
       "        1.76358831e-02,  1.91689861e-02,  2.32153673e-02,  2.00946113e-02,\n",
       "        1.34355867e-02,  5.61492837e-03, -4.80688845e-03, -2.22443333e-02,\n",
       "       -1.86383856e-02, -1.41195545e-02, -6.81937261e-03,  5.31124014e-04,\n",
       "        7.86287950e-03, -2.67837778e-03, -1.76596852e-02, -2.21522381e-02,\n",
       "       -2.14973242e-02, -2.11587546e-02, -1.11204256e-02, -1.07298263e-03,\n",
       "       -3.65245079e-04,  7.54081219e-04,  1.00941873e-02,  1.26023966e-02,\n",
       "        1.35826445e-02,  1.98375690e-02,  2.55964446e-02,  2.38879858e-02,\n",
       "        2.67299957e-02,  2.41990421e-02,  1.80606378e-02,  1.22076552e-03,\n",
       "        5.59955554e-02,  5.20821449e-02,  4.97092003e-02,  4.11080422e-02,\n",
       "        7.64268983e-02,  2.98083348e-02,  3.70769661e-02,  4.32638734e-02,\n",
       "        5.40763973e-02,  3.99475648e-02,  2.86126311e-02,  2.19558361e-02,\n",
       "        2.72504733e-02,  2.15891626e-02,  1.01860568e-02,  5.81074691e-03,\n",
       "        6.34359213e-04, -6.64055331e-03, -7.06489334e-03, -5.54501702e-03,\n",
       "       -7.79835349e-04,  1.82548091e-03, -1.36836178e-03,  8.28006945e-03,\n",
       "        9.54038504e-03,  1.22881882e-02,  2.51755862e-02,  4.37231847e-02,\n",
       "        3.74486793e-02,  5.24407879e-02,  5.38108522e-02,  4.86864247e-02,\n",
       "        3.74481287e-02,  5.06534637e-02,  4.72260910e-02,  5.49153131e-02,\n",
       "        6.55261203e-02,  7.43132831e-03])"
      ]
     },
     "execution_count": 13,
     "metadata": {},
     "output_type": "execute_result"
    }
   ],
   "source": [
    "#Let's use array arithmetic to compute the annual growth rate, g, for every row of this table:\n",
    "(census.column(3)/census.column(2))**(1/t) - 1"
   ]
  },
  {
   "cell_type": "code",
   "execution_count": 14,
   "id": "eb89af9a",
   "metadata": {},
   "outputs": [
    {
     "data": {
      "text/html": [
       "<table border=\"1\" class=\"dataframe\">\n",
       "    <thead>\n",
       "        <tr>\n",
       "            <th>SEX</th> <th>AGE</th> <th>2010</th> <th>2015</th> <th>Change</th> <th>Total Growth</th> <th>Annual Growth</th>\n",
       "        </tr>\n",
       "    </thead>\n",
       "    <tbody>\n",
       "        <tr>\n",
       "            <td>0   </td> <td>999 </td> <td>309,346,863</td> <td>321,418,820</td> <td>12071957</td> <td>0.039024    </td> <td>0.77%        </td>\n",
       "        </tr>\n",
       "        <tr>\n",
       "            <td>1   </td> <td>999 </td> <td>152,088,043</td> <td>158,229,297</td> <td>6141254 </td> <td>0.0403796   </td> <td>0.79%        </td>\n",
       "        </tr>\n",
       "        <tr>\n",
       "            <td>2   </td> <td>999 </td> <td>157,258,820</td> <td>163,189,523</td> <td>5930703 </td> <td>0.037713    </td> <td>0.74%        </td>\n",
       "        </tr>\n",
       "        <tr>\n",
       "            <td>0   </td> <td>68  </td> <td>2,359,816  </td> <td>3,436,357  </td> <td>1076541 </td> <td>0.456197    </td> <td>7.81%        </td>\n",
       "        </tr>\n",
       "        <tr>\n",
       "            <td>0   </td> <td>64  </td> <td>2,706,055  </td> <td>3,536,156  </td> <td>830101  </td> <td>0.306757    </td> <td>5.50%        </td>\n",
       "        </tr>\n",
       "        <tr>\n",
       "            <td>0   </td> <td>65  </td> <td>2,678,525  </td> <td>3,450,043  </td> <td>771518  </td> <td>0.288038    </td> <td>5.19%        </td>\n",
       "        </tr>\n",
       "        <tr>\n",
       "            <td>0   </td> <td>66  </td> <td>2,621,335  </td> <td>3,344,134  </td> <td>722799  </td> <td>0.275737    </td> <td>4.99%        </td>\n",
       "        </tr>\n",
       "        <tr>\n",
       "            <td>0   </td> <td>67  </td> <td>2,693,707  </td> <td>3,304,187  </td> <td>610480  </td> <td>0.226632    </td> <td>4.17%        </td>\n",
       "        </tr>\n",
       "        <tr>\n",
       "            <td>0   </td> <td>72  </td> <td>1,883,820  </td> <td>2,469,605  </td> <td>585785  </td> <td>0.310956    </td> <td>5.56%        </td>\n",
       "        </tr>\n",
       "        <tr>\n",
       "            <td>2   </td> <td>68  </td> <td>1,254,117  </td> <td>1,812,428  </td> <td>558311  </td> <td>0.445183    </td> <td>7.64%        </td>\n",
       "        </tr>\n",
       "    </tbody>\n",
       "</table>\n",
       "<p>... (296 rows omitted)</p>"
      ],
      "text/plain": [
       "SEX  | AGE  | 2010        | 2015        | Change   | Total Growth | Annual Growth\n",
       "0    | 999  | 309,346,863 | 321,418,820 | 12071957 | 0.039024     | 0.77%\n",
       "1    | 999  | 152,088,043 | 158,229,297 | 6141254  | 0.0403796    | 0.79%\n",
       "2    | 999  | 157,258,820 | 163,189,523 | 5930703  | 0.037713     | 0.74%\n",
       "0    | 68   | 2,359,816   | 3,436,357   | 1076541  | 0.456197     | 7.81%\n",
       "0    | 64   | 2,706,055   | 3,536,156   | 830101   | 0.306757     | 5.50%\n",
       "0    | 65   | 2,678,525   | 3,450,043   | 771518   | 0.288038     | 5.19%\n",
       "0    | 66   | 2,621,335   | 3,344,134   | 722799   | 0.275737     | 4.99%\n",
       "0    | 67   | 2,693,707   | 3,304,187   | 610480   | 0.226632     | 4.17%\n",
       "0    | 72   | 1,883,820   | 2,469,605   | 585785   | 0.310956     | 5.56%\n",
       "2    | 68   | 1,254,117   | 1,812,428   | 558311   | 0.445183     | 7.64%\n",
       "... (296 rows omitted)"
      ]
     },
     "execution_count": 14,
     "metadata": {},
     "output_type": "execute_result"
    }
   ],
   "source": [
    "#call that array something and add it to our table so that we can see the growth for each age group.\n",
    "census = census.with_column('Annual Growth', (census.column(3)/census.column(2))**(1/t) - 1)\n",
    "census.set_format(6, PercentFormatter)\n",
    "census.sort(4, descending = True)"
   ]
  },
  {
   "cell_type": "code",
   "execution_count": 17,
   "id": "9f543a72",
   "metadata": {},
   "outputs": [
    {
     "data": {
      "text/html": [
       "<table border=\"1\" class=\"dataframe\">\n",
       "    <thead>\n",
       "        <tr>\n",
       "            <th>SEX</th> <th>AGE</th> <th>2015</th>\n",
       "        </tr>\n",
       "    </thead>\n",
       "    <tbody>\n",
       "        <tr>\n",
       "            <td>1   </td> <td>0   </td> <td>2,035,134</td>\n",
       "        </tr>\n",
       "        <tr>\n",
       "            <td>1   </td> <td>1   </td> <td>2,029,295</td>\n",
       "        </tr>\n",
       "        <tr>\n",
       "            <td>1   </td> <td>2   </td> <td>2,026,604</td>\n",
       "        </tr>\n",
       "        <tr>\n",
       "            <td>1   </td> <td>3   </td> <td>2,030,644</td>\n",
       "        </tr>\n",
       "        <tr>\n",
       "            <td>1   </td> <td>4   </td> <td>2,055,924</td>\n",
       "        </tr>\n",
       "        <tr>\n",
       "            <td>1   </td> <td>5   </td> <td>2,050,848</td>\n",
       "        </tr>\n",
       "        <tr>\n",
       "            <td>1   </td> <td>6   </td> <td>2,050,663</td>\n",
       "        </tr>\n",
       "        <tr>\n",
       "            <td>1   </td> <td>7   </td> <td>2,117,118</td>\n",
       "        </tr>\n",
       "        <tr>\n",
       "            <td>1   </td> <td>8   </td> <td>2,128,825</td>\n",
       "        </tr>\n",
       "        <tr>\n",
       "            <td>1   </td> <td>9   </td> <td>2,111,678</td>\n",
       "        </tr>\n",
       "    </tbody>\n",
       "</table>\n",
       "<p>... (192 rows omitted)</p>"
      ],
      "text/plain": [
       "SEX  | AGE  | 2015\n",
       "1    | 0    | 2,035,134\n",
       "1    | 1    | 2,029,295\n",
       "1    | 2    | 2,026,604\n",
       "1    | 3    | 2,030,644\n",
       "1    | 4    | 2,055,924\n",
       "1    | 5    | 2,050,848\n",
       "1    | 6    | 2,050,663\n",
       "1    | 7    | 2,117,118\n",
       "1    | 8    | 2,128,825\n",
       "1    | 9    | 2,111,678\n",
       "... (192 rows omitted)"
      ]
     },
     "execution_count": 17,
     "metadata": {},
     "output_type": "execute_result"
    }
   ],
   "source": [
    "# Let’s get rid of these rows that include totals of all ages and let’s also look at just the 2015 population. \n",
    "us_pop_2015 = us_pop.drop('2010').where('AGE', are.below(999)).where('SEX', are.above(0))\n",
    "us_pop_2015"
   ]
  },
  {
   "cell_type": "code",
   "execution_count": 24,
   "id": "d52414e2",
   "metadata": {},
   "outputs": [
    {
     "data": {
      "text/plain": [
       "321418820"
      ]
     },
     "execution_count": 24,
     "metadata": {},
     "output_type": "execute_result"
    }
   ],
   "source": [
    "#  Let’s double check for not double-counting\n",
    "sum(us_pop_2015.column(2))"
   ]
  },
  {
   "cell_type": "code",
   "execution_count": 29,
   "id": "3689418d",
   "metadata": {},
   "outputs": [
    {
     "data": {
      "text/html": [
       "<table border=\"1\" class=\"dataframe\">\n",
       "    <thead>\n",
       "        <tr>\n",
       "            <th>AGE</th> <th>Females</th> <th>Males</th>\n",
       "        </tr>\n",
       "    </thead>\n",
       "    <tbody>\n",
       "        <tr>\n",
       "            <td>0   </td> <td>1,942,904</td> <td>2,035,134</td>\n",
       "        </tr>\n",
       "        <tr>\n",
       "            <td>1   </td> <td>1,939,269</td> <td>2,029,295</td>\n",
       "        </tr>\n",
       "        <tr>\n",
       "            <td>2   </td> <td>1,939,979</td> <td>2,026,604</td>\n",
       "        </tr>\n",
       "        <tr>\n",
       "            <td>3   </td> <td>1,943,417</td> <td>2,030,644</td>\n",
       "        </tr>\n",
       "        <tr>\n",
       "            <td>4   </td> <td>1,964,111</td> <td>2,055,924</td>\n",
       "        </tr>\n",
       "        <tr>\n",
       "            <td>5   </td> <td>1,967,310</td> <td>2,050,848</td>\n",
       "        </tr>\n",
       "        <tr>\n",
       "            <td>6   </td> <td>1,968,544</td> <td>2,050,663</td>\n",
       "        </tr>\n",
       "        <tr>\n",
       "            <td>7   </td> <td>2,031,242</td> <td>2,117,118</td>\n",
       "        </tr>\n",
       "        <tr>\n",
       "            <td>8   </td> <td>2,039,062</td> <td>2,128,825</td>\n",
       "        </tr>\n",
       "        <tr>\n",
       "            <td>9   </td> <td>2,021,886</td> <td>2,111,678</td>\n",
       "        </tr>\n",
       "    </tbody>\n",
       "</table>\n",
       "<p>... (91 rows omitted)</p>"
      ],
      "text/plain": [
       "AGE  | Females   | Males\n",
       "0    | 1,942,904 | 2,035,134\n",
       "1    | 1,939,269 | 2,029,295\n",
       "2    | 1,939,979 | 2,026,604\n",
       "3    | 1,943,417 | 2,030,644\n",
       "4    | 1,964,111 | 2,055,924\n",
       "5    | 1,967,310 | 2,050,848\n",
       "6    | 1,968,544 | 2,050,663\n",
       "7    | 2,031,242 | 2,117,118\n",
       "8    | 2,039,062 | 2,128,825\n",
       "9    | 2,021,886 | 2,111,678\n",
       "... (91 rows omitted)"
      ]
     },
     "execution_count": 29,
     "metadata": {},
     "output_type": "execute_result"
    }
   ],
   "source": [
    "# How does the population of males compare to the population of females by age?  Can I look at this in an easier way?\n",
    "males = us_pop_2015.where('SEX', 1).column(2)\n",
    "males\n",
    "by_sex = us_pop_2015.where('SEX', 2).drop('SEX').relabeled('2015', 'Females').with_column('Males',males\n",
    ")\n",
    "by_sex\n",
    "\n",
    "by_sex.set_format('Males', NumberFormatter)"
   ]
  },
  {
   "cell_type": "code",
   "execution_count": 30,
   "id": "7d01b470",
   "metadata": {},
   "outputs": [
    {
     "data": {
      "text/plain": [
       "1.047470178660397"
      ]
     },
     "execution_count": 30,
     "metadata": {},
     "output_type": "execute_result"
    }
   ],
   "source": [
    "# use .row and .item to access values in order to compute a ratio. \n",
    "#If the the number of males equals the number of females, what would we expect the ratio to equal?\n",
    "by_sex.row(0).item(2) / by_sex.row(0).item(1)"
   ]
  },
  {
   "cell_type": "markdown",
   "id": "3968a5a1",
   "metadata": {},
   "source": [
    "## Line Graphs"
   ]
  },
  {
   "cell_type": "code",
   "execution_count": 35,
   "id": "91cceba1",
   "metadata": {},
   "outputs": [
    {
     "data": {
      "image/png": "[encoded data removed]",
      "text/plain": [
       "<Figure size 432x432 with 1 Axes>"
      ]
     },
     "metadata": {},
     "output_type": "display_data"
    }
   ],
   "source": [
    "#plot\n",
    "by_sex.plot(0)\n"
   ]
  },
  {
   "cell_type": "code",
   "execution_count": 19,
   "id": "2c62f42f",
   "metadata": {},
   "outputs": [
    {
     "data": {
      "text/html": [
       "<table border=\"1\" class=\"dataframe\">\n",
       "    <thead>\n",
       "        <tr>\n",
       "            <th>AGE</th> <th>2010</th> <th>2015</th> <th>Change</th> <th>Total Growth</th> <th>Annual Growth</th>\n",
       "        </tr>\n",
       "    </thead>\n",
       "    <tbody>\n",
       "        <tr>\n",
       "            <td>0   </td> <td>3,951,330</td> <td>3,978,038</td> <td>26708  </td> <td>0.00675924  </td> <td>0.13%        </td>\n",
       "        </tr>\n",
       "        <tr>\n",
       "            <td>1   </td> <td>3,957,888</td> <td>3,968,564</td> <td>10676  </td> <td>0.0026974   </td> <td>0.05%        </td>\n",
       "        </tr>\n",
       "        <tr>\n",
       "            <td>2   </td> <td>4,090,862</td> <td>3,966,583</td> <td>-124279</td> <td>-0.0303797  </td> <td>-0.62%       </td>\n",
       "        </tr>\n",
       "        <tr>\n",
       "            <td>3   </td> <td>4,111,920</td> <td>3,974,061</td> <td>-137859</td> <td>-0.0335267  </td> <td>-0.68%       </td>\n",
       "        </tr>\n",
       "        <tr>\n",
       "            <td>4   </td> <td>4,077,551</td> <td>4,020,035</td> <td>-57516 </td> <td>-0.0141055  </td> <td>-0.28%       </td>\n",
       "        </tr>\n",
       "        <tr>\n",
       "            <td>5   </td> <td>4,064,653</td> <td>4,018,158</td> <td>-46495 </td> <td>-0.0114389  </td> <td>-0.23%       </td>\n",
       "        </tr>\n",
       "        <tr>\n",
       "            <td>6   </td> <td>4,073,013</td> <td>4,019,207</td> <td>-53806 </td> <td>-0.0132104  </td> <td>-0.27%       </td>\n",
       "        </tr>\n",
       "        <tr>\n",
       "            <td>7   </td> <td>4,043,046</td> <td>4,148,360</td> <td>105314 </td> <td>0.0260482   </td> <td>0.52%        </td>\n",
       "        </tr>\n",
       "        <tr>\n",
       "            <td>8   </td> <td>4,025,604</td> <td>4,167,887</td> <td>142283 </td> <td>0.0353445   </td> <td>0.70%        </td>\n",
       "        </tr>\n",
       "        <tr>\n",
       "            <td>9   </td> <td>4,125,415</td> <td>4,133,564</td> <td>8149   </td> <td>0.00197532  </td> <td>0.04%        </td>\n",
       "        </tr>\n",
       "    </tbody>\n",
       "</table>\n",
       "<p>... (90 rows omitted)</p>"
      ],
      "text/plain": [
       "AGE  | 2010      | 2015      | Change  | Total Growth | Annual Growth\n",
       "0    | 3,951,330 | 3,978,038 | 26708   | 0.00675924   | 0.13%\n",
       "1    | 3,957,888 | 3,968,564 | 10676   | 0.0026974    | 0.05%\n",
       "2    | 4,090,862 | 3,966,583 | -124279 | -0.0303797   | -0.62%\n",
       "3    | 4,111,920 | 3,974,061 | -137859 | -0.0335267   | -0.68%\n",
       "4    | 4,077,551 | 4,020,035 | -57516  | -0.0141055   | -0.28%\n",
       "5    | 4,064,653 | 4,018,158 | -46495  | -0.0114389   | -0.23%\n",
       "6    | 4,073,013 | 4,019,207 | -53806  | -0.0132104   | -0.27%\n",
       "7    | 4,043,046 | 4,148,360 | 105314  | 0.0260482    | 0.52%\n",
       "8    | 4,025,604 | 4,167,887 | 142283  | 0.0353445    | 0.70%\n",
       "9    | 4,125,415 | 4,133,564 | 8149    | 0.00197532   | 0.04%\n",
       "... (90 rows omitted)"
      ]
     },
     "execution_count": 19,
     "metadata": {},
     "output_type": "execute_result"
    }
   ],
   "source": [
    "# Look at combined by age population,\n",
    "by_age = census.where('SEX', 0).drop('SEX').where('AGE', are.between(0,100))\n",
    "by_age"
   ]
  },
  {
   "cell_type": "code",
   "execution_count": 20,
   "id": "466d918a",
   "metadata": {},
   "outputs": [
    {
     "data": {
      "image/png": "[encoded data removed]",
      "text/plain": [
       "<Figure size 432x432 with 1 Axes>"
      ]
     },
     "metadata": {},
     "output_type": "display_data"
    }
   ],
   "source": [
    "# plot\n",
    "by_age.plot(0, 2)"
   ]
  },
  {
   "cell_type": "code",
   "execution_count": 21,
   "id": "08212c94",
   "metadata": {},
   "outputs": [
    {
     "data": {
      "image/png": "[encoded data removed]",
      "text/plain": [
       "<Figure size 432x432 with 1 Axes>"
      ]
     },
     "metadata": {},
     "output_type": "display_data"
    }
   ],
   "source": [
    "# visualize the change\n",
    "by_age.plot(0, 3)"
   ]
  },
  {
   "cell_type": "code",
   "execution_count": 22,
   "id": "24477f00",
   "metadata": {},
   "outputs": [
    {
     "data": {
      "text/html": [
       "<table border=\"1\" class=\"dataframe\">\n",
       "    <thead>\n",
       "        <tr>\n",
       "            <th>AGE</th> <th>2010</th> <th>2015</th> <th>Change</th> <th>Total Growth</th> <th>Annual Growth</th>\n",
       "        </tr>\n",
       "    </thead>\n",
       "    <tbody>\n",
       "        <tr>\n",
       "            <td>68  </td> <td>2,359,816</td> <td>3,436,357</td> <td>1076541</td> <td>0.456197    </td> <td>7.81%        </td>\n",
       "        </tr>\n",
       "        <tr>\n",
       "            <td>64  </td> <td>2,706,055</td> <td>3,536,156</td> <td>830101 </td> <td>0.306757    </td> <td>5.50%        </td>\n",
       "        </tr>\n",
       "        <tr>\n",
       "            <td>65  </td> <td>2,678,525</td> <td>3,450,043</td> <td>771518 </td> <td>0.288038    </td> <td>5.19%        </td>\n",
       "        </tr>\n",
       "        <tr>\n",
       "            <td>66  </td> <td>2,621,335</td> <td>3,344,134</td> <td>722799 </td> <td>0.275737    </td> <td>4.99%        </td>\n",
       "        </tr>\n",
       "        <tr>\n",
       "            <td>67  </td> <td>2,693,707</td> <td>3,304,187</td> <td>610480 </td> <td>0.226632    </td> <td>4.17%        </td>\n",
       "        </tr>\n",
       "        <tr>\n",
       "            <td>72  </td> <td>1,883,820</td> <td>2,469,605</td> <td>585785 </td> <td>0.310956    </td> <td>5.56%        </td>\n",
       "        </tr>\n",
       "        <tr>\n",
       "            <td>58  </td> <td>3,802,447</td> <td>4,320,522</td> <td>518075 </td> <td>0.136248    </td> <td>2.59%        </td>\n",
       "        </tr>\n",
       "        <tr>\n",
       "            <td>60  </td> <td>3,616,721</td> <td>4,125,792</td> <td>509071 </td> <td>0.140755    </td> <td>2.67%        </td>\n",
       "        </tr>\n",
       "        <tr>\n",
       "            <td>24  </td> <td>4,243,602</td> <td>4,737,345</td> <td>493743 </td> <td>0.11635     </td> <td>2.23%        </td>\n",
       "        </tr>\n",
       "        <tr>\n",
       "            <td>34  </td> <td>3,822,189</td> <td>4,294,838</td> <td>472649 </td> <td>0.123659    </td> <td>2.36%        </td>\n",
       "        </tr>\n",
       "    </tbody>\n",
       "</table>\n",
       "<p>... (90 rows omitted)</p>"
      ],
      "text/plain": [
       "AGE  | 2010      | 2015      | Change  | Total Growth | Annual Growth\n",
       "68   | 2,359,816 | 3,436,357 | 1076541 | 0.456197     | 7.81%\n",
       "64   | 2,706,055 | 3,536,156 | 830101  | 0.306757     | 5.50%\n",
       "65   | 2,678,525 | 3,450,043 | 771518  | 0.288038     | 5.19%\n",
       "66   | 2,621,335 | 3,344,134 | 722799  | 0.275737     | 4.99%\n",
       "67   | 2,693,707 | 3,304,187 | 610480  | 0.226632     | 4.17%\n",
       "72   | 1,883,820 | 2,469,605 | 585785  | 0.310956     | 5.56%\n",
       "58   | 3,802,447 | 4,320,522 | 518075  | 0.136248     | 2.59%\n",
       "60   | 3,616,721 | 4,125,792 | 509071  | 0.140755     | 2.67%\n",
       "24   | 4,243,602 | 4,737,345 | 493743  | 0.11635      | 2.23%\n",
       "34   | 3,822,189 | 4,294,838 | 472649  | 0.123659     | 2.36%\n",
       "... (90 rows omitted)"
      ]
     },
     "execution_count": 22,
     "metadata": {},
     "output_type": "execute_result"
    }
   ],
   "source": [
    "by_age.sort(3, descending = True)"
   ]
  },
  {
   "cell_type": "code",
   "execution_count": 24,
   "id": "d87f4766",
   "metadata": {},
   "outputs": [
    {
     "data": {
      "image/png": "[encoded data removed]",
      "text/plain": [
       "<Figure size 432x432 with 1 Axes>"
      ]
     },
     "metadata": {},
     "output_type": "display_data"
    }
   ],
   "source": [
    "by_age.plot(0)"
   ]
  },
  {
   "cell_type": "code",
   "execution_count": null,
   "id": "d1351101",
   "metadata": {},
   "outputs": [],
   "source": [
    "# can we just specify the column on the x axis?"
   ]
  },
  {
   "cell_type": "code",
   "execution_count": 44,
   "id": "54957f98",
   "metadata": {},
   "outputs": [
    {
     "data": {
      "image/png": "[encoded data removed]",
      "text/plain": [
       "<Figure size 432x432 with 1 Axes>"
      ]
     },
     "metadata": {},
     "output_type": "display_data"
    }
   ],
   "source": [
    "by_age.select(0, 1, 2).plot(0)"
   ]
  },
  {
   "cell_type": "markdown",
   "id": "d029f4ca",
   "metadata": {},
   "source": [
    "## Scatter plots"
   ]
  },
  {
   "cell_type": "code",
   "execution_count": 27,
   "id": "06a4000e",
   "metadata": {},
   "outputs": [
    {
     "data": {
      "text/html": [
       "<table border=\"1\" class=\"dataframe\">\n",
       "    <thead>\n",
       "        <tr>\n",
       "            <th>Actor</th> <th>Total Gross</th> <th>Number of Movies</th> <th>Average per Movie</th> <th>#1 Movie</th> <th>Gross</th>\n",
       "        </tr>\n",
       "    </thead>\n",
       "    <tbody>\n",
       "        <tr>\n",
       "            <td>Harrison Ford     </td> <td>4871.7     </td> <td>41              </td> <td>118.8            </td> <td>Star Wars: The Force Awakens</td> <td>936.7</td>\n",
       "        </tr>\n",
       "        <tr>\n",
       "            <td>Samuel L. Jackson </td> <td>4772.8     </td> <td>69              </td> <td>69.2             </td> <td>The Avengers                </td> <td>623.4</td>\n",
       "        </tr>\n",
       "        <tr>\n",
       "            <td>Morgan Freeman    </td> <td>4468.3     </td> <td>61              </td> <td>73.3             </td> <td>The Dark Knight             </td> <td>534.9</td>\n",
       "        </tr>\n",
       "        <tr>\n",
       "            <td>Tom Hanks         </td> <td>4340.8     </td> <td>44              </td> <td>98.7             </td> <td>Toy Story 3                 </td> <td>415  </td>\n",
       "        </tr>\n",
       "        <tr>\n",
       "            <td>Robert Downey, Jr.</td> <td>3947.3     </td> <td>53              </td> <td>74.5             </td> <td>The Avengers                </td> <td>623.4</td>\n",
       "        </tr>\n",
       "        <tr>\n",
       "            <td>Eddie Murphy      </td> <td>3810.4     </td> <td>38              </td> <td>100.3            </td> <td>Shrek 2                     </td> <td>441.2</td>\n",
       "        </tr>\n",
       "        <tr>\n",
       "            <td>Tom Cruise        </td> <td>3587.2     </td> <td>36              </td> <td>99.6             </td> <td>War of the Worlds           </td> <td>234.3</td>\n",
       "        </tr>\n",
       "        <tr>\n",
       "            <td>Johnny Depp       </td> <td>3368.6     </td> <td>45              </td> <td>74.9             </td> <td>Dead Man's Chest            </td> <td>423.3</td>\n",
       "        </tr>\n",
       "        <tr>\n",
       "            <td>Michael Caine     </td> <td>3351.5     </td> <td>58              </td> <td>57.8             </td> <td>The Dark Knight             </td> <td>534.9</td>\n",
       "        </tr>\n",
       "        <tr>\n",
       "            <td>Scarlett Johansson</td> <td>3341.2     </td> <td>37              </td> <td>90.3             </td> <td>The Avengers                </td> <td>623.4</td>\n",
       "        </tr>\n",
       "    </tbody>\n",
       "</table>\n",
       "<p>... (40 rows omitted)</p>"
      ],
      "text/plain": [
       "Actor              | Total Gross | Number of Movies | Average per Movie | #1 Movie                     | Gross\n",
       "Harrison Ford      | 4871.7      | 41               | 118.8             | Star Wars: The Force Awakens | 936.7\n",
       "Samuel L. Jackson  | 4772.8      | 69               | 69.2              | The Avengers                 | 623.4\n",
       "Morgan Freeman     | 4468.3      | 61               | 73.3              | The Dark Knight              | 534.9\n",
       "Tom Hanks          | 4340.8      | 44               | 98.7              | Toy Story 3                  | 415\n",
       "Robert Downey, Jr. | 3947.3      | 53               | 74.5              | The Avengers                 | 623.4\n",
       "Eddie Murphy       | 3810.4      | 38               | 100.3             | Shrek 2                      | 441.2\n",
       "Tom Cruise         | 3587.2      | 36               | 99.6              | War of the Worlds            | 234.3\n",
       "Johnny Depp        | 3368.6      | 45               | 74.9              | Dead Man's Chest             | 423.3\n",
       "Michael Caine      | 3351.5      | 58               | 57.8              | The Dark Knight              | 534.9\n",
       "Scarlett Johansson | 3341.2      | 37               | 90.3              | The Avengers                 | 623.4\n",
       "... (40 rows omitted)"
      ]
     },
     "execution_count": 27,
     "metadata": {},
     "output_type": "execute_result"
    }
   ],
   "source": [
    "# Load data\n",
    "actors = Table.read_table('actors.csv')\n",
    "actors"
   ]
  },
  {
   "cell_type": "code",
   "execution_count": 28,
   "id": "a6e64d2b",
   "metadata": {},
   "outputs": [
    {
     "data": {
      "text/html": [
       "<table border=\"1\" class=\"dataframe\">\n",
       "    <thead>\n",
       "        <tr>\n",
       "            <th>Actor</th> <th>Total Gross</th> <th>Number of Movies</th> <th>Average per Movie</th> <th>#1 Movie</th> <th>#1 Movie Gross</th>\n",
       "        </tr>\n",
       "    </thead>\n",
       "    <tbody>\n",
       "        <tr>\n",
       "            <td>Harrison Ford     </td> <td>4871.7     </td> <td>41              </td> <td>118.8            </td> <td>Star Wars: The Force Awakens</td> <td>936.7         </td>\n",
       "        </tr>\n",
       "        <tr>\n",
       "            <td>Samuel L. Jackson </td> <td>4772.8     </td> <td>69              </td> <td>69.2             </td> <td>The Avengers                </td> <td>623.4         </td>\n",
       "        </tr>\n",
       "        <tr>\n",
       "            <td>Morgan Freeman    </td> <td>4468.3     </td> <td>61              </td> <td>73.3             </td> <td>The Dark Knight             </td> <td>534.9         </td>\n",
       "        </tr>\n",
       "        <tr>\n",
       "            <td>Tom Hanks         </td> <td>4340.8     </td> <td>44              </td> <td>98.7             </td> <td>Toy Story 3                 </td> <td>415           </td>\n",
       "        </tr>\n",
       "        <tr>\n",
       "            <td>Robert Downey, Jr.</td> <td>3947.3     </td> <td>53              </td> <td>74.5             </td> <td>The Avengers                </td> <td>623.4         </td>\n",
       "        </tr>\n",
       "        <tr>\n",
       "            <td>Eddie Murphy      </td> <td>3810.4     </td> <td>38              </td> <td>100.3            </td> <td>Shrek 2                     </td> <td>441.2         </td>\n",
       "        </tr>\n",
       "        <tr>\n",
       "            <td>Tom Cruise        </td> <td>3587.2     </td> <td>36              </td> <td>99.6             </td> <td>War of the Worlds           </td> <td>234.3         </td>\n",
       "        </tr>\n",
       "        <tr>\n",
       "            <td>Johnny Depp       </td> <td>3368.6     </td> <td>45              </td> <td>74.9             </td> <td>Dead Man's Chest            </td> <td>423.3         </td>\n",
       "        </tr>\n",
       "        <tr>\n",
       "            <td>Michael Caine     </td> <td>3351.5     </td> <td>58              </td> <td>57.8             </td> <td>The Dark Knight             </td> <td>534.9         </td>\n",
       "        </tr>\n",
       "        <tr>\n",
       "            <td>Scarlett Johansson</td> <td>3341.2     </td> <td>37              </td> <td>90.3             </td> <td>The Avengers                </td> <td>623.4         </td>\n",
       "        </tr>\n",
       "    </tbody>\n",
       "</table>\n",
       "<p>... (40 rows omitted)</p>"
      ],
      "text/plain": [
       "Actor              | Total Gross | Number of Movies | Average per Movie | #1 Movie                     | #1 Movie Gross\n",
       "Harrison Ford      | 4871.7      | 41               | 118.8             | Star Wars: The Force Awakens | 936.7\n",
       "Samuel L. Jackson  | 4772.8      | 69               | 69.2              | The Avengers                 | 623.4\n",
       "Morgan Freeman     | 4468.3      | 61               | 73.3              | The Dark Knight              | 534.9\n",
       "Tom Hanks          | 4340.8      | 44               | 98.7              | Toy Story 3                  | 415\n",
       "Robert Downey, Jr. | 3947.3      | 53               | 74.5              | The Avengers                 | 623.4\n",
       "Eddie Murphy       | 3810.4      | 38               | 100.3             | Shrek 2                      | 441.2\n",
       "Tom Cruise         | 3587.2      | 36               | 99.6              | War of the Worlds            | 234.3\n",
       "Johnny Depp        | 3368.6      | 45               | 74.9              | Dead Man's Chest             | 423.3\n",
       "Michael Caine      | 3351.5      | 58               | 57.8              | The Dark Knight              | 534.9\n",
       "Scarlett Johansson | 3341.2      | 37               | 90.3              | The Avengers                 | 623.4\n",
       "... (40 rows omitted)"
      ]
     },
     "execution_count": 28,
     "metadata": {},
     "output_type": "execute_result"
    }
   ],
   "source": [
    "#relabel column\n",
    "actors = actors.relabeled(5, '#1 Movie Gross')\n",
    "actors"
   ]
  },
  {
   "cell_type": "code",
   "execution_count": 31,
   "id": "f21d21a1",
   "metadata": {},
   "outputs": [
    {
     "data": {
      "image/png": "[encoded data removed]",
      "text/plain": [
       "<Figure size 360x360 with 1 Axes>"
      ]
     },
     "metadata": {},
     "output_type": "display_data"
    }
   ],
   "source": [
    "#what type of plot should I use?\n",
    "actors.scatter(2, 1)"
   ]
  },
  {
   "cell_type": "code",
   "execution_count": 52,
   "id": "2433f348",
   "metadata": {},
   "outputs": [
    {
     "data": {
      "image/png": "[encoded data removed]",
      "text/plain": [
       "<Figure size 360x360 with 1 Axes>"
      ]
     },
     "metadata": {},
     "output_type": "display_data"
    }
   ],
   "source": [
    "actors.select(2, 3, 5).scatter(0)"
   ]
  },
  {
   "cell_type": "code",
   "execution_count": 53,
   "id": "66df310e",
   "metadata": {},
   "outputs": [
    {
     "data": {
      "text/html": [
       "<table border=\"1\" class=\"dataframe\">\n",
       "    <thead>\n",
       "        <tr>\n",
       "            <th>Actor</th> <th>Total Gross</th> <th>Number of Movies</th> <th>Average per Movie</th> <th>#1 Movie</th> <th>#1 Movie Gross</th>\n",
       "        </tr>\n",
       "    </thead>\n",
       "    <tbody>\n",
       "        <tr>\n",
       "            <td>Harrison Ford  </td> <td>4871.7     </td> <td>41              </td> <td>118.8            </td> <td>Star Wars: The Force Awakens</td> <td>936.7         </td>\n",
       "        </tr>\n",
       "        <tr>\n",
       "            <td>Anthony Daniels</td> <td>3162.9     </td> <td>7               </td> <td>451.8            </td> <td>Star Wars: The Force Awakens</td> <td>936.7         </td>\n",
       "        </tr>\n",
       "        <tr>\n",
       "            <td>Andy Serkis    </td> <td>2890.6     </td> <td>23              </td> <td>125.7            </td> <td>Star Wars: The Force Awakens</td> <td>936.7         </td>\n",
       "        </tr>\n",
       "    </tbody>\n",
       "</table>"
      ],
      "text/plain": [
       "Actor           | Total Gross | Number of Movies | Average per Movie | #1 Movie                     | #1 Movie Gross\n",
       "Harrison Ford   | 4871.7      | 41               | 118.8             | Star Wars: The Force Awakens | 936.7\n",
       "Anthony Daniels | 3162.9      | 7                | 451.8             | Star Wars: The Force Awakens | 936.7\n",
       "Andy Serkis     | 2890.6      | 23               | 125.7             | Star Wars: The Force Awakens | 936.7"
      ]
     },
     "execution_count": 53,
     "metadata": {},
     "output_type": "execute_result"
    }
   ],
   "source": [
    "#what movie is that?!\n",
    "actors.where(5, are.above(800))"
   ]
  },
  {
   "cell_type": "code",
   "execution_count": 54,
   "id": "826c7eee",
   "metadata": {},
   "outputs": [
    {
     "data": {
      "image/png": "[encoded data removed]",
      "text/plain": [
       "<Figure size 360x360 with 1 Axes>"
      ]
     },
     "metadata": {},
     "output_type": "display_data"
    }
   ],
   "source": [
    "#just look at two variables.\n",
    "actors.scatter(2, 3)"
   ]
  },
  {
   "cell_type": "code",
   "execution_count": 55,
   "id": "9e1bac01",
   "metadata": {},
   "outputs": [
    {
     "data": {
      "text/html": [
       "<table border=\"1\" class=\"dataframe\">\n",
       "    <thead>\n",
       "        <tr>\n",
       "            <th>Actor</th> <th>Total Gross</th> <th>Number of Movies</th> <th>Average per Movie</th> <th>#1 Movie</th> <th>#1 Movie Gross</th>\n",
       "        </tr>\n",
       "    </thead>\n",
       "    <tbody>\n",
       "        <tr>\n",
       "            <td>Anthony Daniels</td> <td>3162.9     </td> <td>7               </td> <td>451.8            </td> <td>Star Wars: The Force Awakens</td> <td>936.7         </td>\n",
       "        </tr>\n",
       "    </tbody>\n",
       "</table>"
      ],
      "text/plain": [
       "Actor           | Total Gross | Number of Movies | Average per Movie | #1 Movie                     | #1 Movie Gross\n",
       "Anthony Daniels | 3162.9      | 7                | 451.8             | Star Wars: The Force Awakens | 936.7"
      ]
     },
     "execution_count": 55,
     "metadata": {},
     "output_type": "execute_result"
    }
   ],
   "source": [
    "actors.where(2, are.below(10))"
   ]
  },
  {
   "cell_type": "code",
   "execution_count": 56,
   "id": "9d9de9ce",
   "metadata": {},
   "outputs": [
    {
     "data": {
      "text/html": [
       "<table border=\"1\" class=\"dataframe\">\n",
       "    <thead>\n",
       "        <tr>\n",
       "            <th>Actor</th> <th>Total Gross</th> <th>Number of Movies</th> <th>Average per Movie</th> <th>#1 Movie</th> <th>#1 Movie Gross</th>\n",
       "        </tr>\n",
       "    </thead>\n",
       "    <tbody>\n",
       "        <tr>\n",
       "            <td>Samuel L. Jackson</td> <td>4772.8     </td> <td>69              </td> <td>69.2             </td> <td>The Avengers      </td> <td>623.4         </td>\n",
       "        </tr>\n",
       "        <tr>\n",
       "            <td>Morgan Freeman   </td> <td>4468.3     </td> <td>61              </td> <td>73.3             </td> <td>The Dark Knight   </td> <td>534.9         </td>\n",
       "        </tr>\n",
       "        <tr>\n",
       "            <td>Robert DeNiro    </td> <td>3081.3     </td> <td>79              </td> <td>39               </td> <td>Meet the Fockers  </td> <td>279.3         </td>\n",
       "        </tr>\n",
       "        <tr>\n",
       "            <td>Liam Neeson      </td> <td>2942.7     </td> <td>63              </td> <td>46.7             </td> <td>The Phantom Menace</td> <td>474.5         </td>\n",
       "        </tr>\n",
       "    </tbody>\n",
       "</table>"
      ],
      "text/plain": [
       "Actor             | Total Gross | Number of Movies | Average per Movie | #1 Movie           | #1 Movie Gross\n",
       "Samuel L. Jackson | 4772.8      | 69               | 69.2              | The Avengers       | 623.4\n",
       "Morgan Freeman    | 4468.3      | 61               | 73.3              | The Dark Knight    | 534.9\n",
       "Robert DeNiro     | 3081.3      | 79               | 39                | Meet the Fockers   | 279.3\n",
       "Liam Neeson       | 2942.7      | 63               | 46.7              | The Phantom Menace | 474.5"
      ]
     },
     "execution_count": 56,
     "metadata": {},
     "output_type": "execute_result"
    }
   ],
   "source": [
    "actors.where(2, are.above(60))"
   ]
  }
 ],
 "metadata": {
  "kernelspec": {
   "display_name": "Python 3 (ipykernel)",
   "language": "python",
   "name": "python3"
  },
  "language_info": {
   "codemirror_mode": {
    "name": "ipython",
    "version": 3
   },
   "file_extension": ".py",
   "mimetype": "text/x-python",
   "name": "python",
   "nbconvert_exporter": "python",
   "pygments_lexer": "ipython3",
   "version": "3.7.8"
  }
 },
 "nbformat": 4,
 "nbformat_minor": 5
}
