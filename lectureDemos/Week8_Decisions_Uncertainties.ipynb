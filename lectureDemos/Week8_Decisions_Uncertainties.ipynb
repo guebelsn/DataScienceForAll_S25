{
 "cells": [
  {
   "cell_type": "code",
   "execution_count": 42,
   "metadata": {},
   "outputs": [],
   "source": [
    "from datascience import *\n",
    "import numpy as np\n",
    "\n",
    "%matplotlib inline\n",
    "import matplotlib.pyplot as plots\n",
    "plots.style.use('fivethirtyeight')"
   ]
  },
  {
   "cell_type": "markdown",
   "metadata": {},
   "source": [
    "## CS104 Final Exam Grade Analysis  ##\n",
    "As instructors, we always want to improve our teaching and care about our students' success.\n",
    "\n",
    "In this example, we analyze data from my CS104: Introduction to Programming course. Specifically, we look at the Final Exam Grades of 364 students (15 sections from 2017 through 2023).\n",
    "A first Observation: \n",
    "We noticed that the average final exam score in one section (Spring 2022) was higher than in other sections. \n",
    "Questions arise: Is this lower average just by chance or was something else going on that semester? \n",
    "\n",
    "E.g. If this is not by chance, what was different that semester? Was the teaching different? Where students more prepared for the final exam?"
   ]
  },
  {
   "cell_type": "code",
   "execution_count": 43,
   "metadata": {},
   "outputs": [
    {
     "data": {
      "text/html": [
       "<table border=\"1\" class=\"dataframe\">\n",
       "    <thead>\n",
       "        <tr>\n",
       "            <th>Year</th> <th>Semester</th> <th>Overall Section</th> <th>Final exam grades</th> <th>Final exam grade %</th> <th>Notes</th>\n",
       "        </tr>\n",
       "    </thead>\n",
       "    <tbody>\n",
       "        <tr>\n",
       "            <td>2017</td> <td>Fall    </td> <td>1              </td> <td>92               </td> <td>61.33             </td> <td>nan  </td>\n",
       "        </tr>\n",
       "        <tr>\n",
       "            <td>2017</td> <td>Fall    </td> <td>1              </td> <td>106              </td> <td>70.67             </td> <td>nan  </td>\n",
       "        </tr>\n",
       "        <tr>\n",
       "            <td>2017</td> <td>Fall    </td> <td>1              </td> <td>131              </td> <td>87.33             </td> <td>nan  </td>\n",
       "        </tr>\n",
       "        <tr>\n",
       "            <td>2017</td> <td>Fall    </td> <td>1              </td> <td>86               </td> <td>57.33             </td> <td>nan  </td>\n",
       "        </tr>\n",
       "        <tr>\n",
       "            <td>2017</td> <td>Fall    </td> <td>1              </td> <td>154              </td> <td>100               </td> <td>nan  </td>\n",
       "        </tr>\n",
       "        <tr>\n",
       "            <td>2017</td> <td>Fall    </td> <td>1              </td> <td>77               </td> <td>51.33             </td> <td>nan  </td>\n",
       "        </tr>\n",
       "        <tr>\n",
       "            <td>2017</td> <td>Fall    </td> <td>1              </td> <td>135              </td> <td>90                </td> <td>nan  </td>\n",
       "        </tr>\n",
       "        <tr>\n",
       "            <td>2017</td> <td>Fall    </td> <td>1              </td> <td>100              </td> <td>66.67             </td> <td>nan  </td>\n",
       "        </tr>\n",
       "        <tr>\n",
       "            <td>2017</td> <td>Fall    </td> <td>1              </td> <td>0                </td> <td>0                 </td> <td>nan  </td>\n",
       "        </tr>\n",
       "        <tr>\n",
       "            <td>2017</td> <td>Fall    </td> <td>1              </td> <td>116              </td> <td>77.33             </td> <td>nan  </td>\n",
       "        </tr>\n",
       "    </tbody>\n",
       "</table>\n",
       "<p>... (354 rows omitted)</p>"
      ],
      "text/plain": [
       "Year | Semester | Overall Section | Final exam grades | Final exam grade % | Notes\n",
       "2017 | Fall     | 1               | 92                | 61.33              | nan\n",
       "2017 | Fall     | 1               | 106               | 70.67              | nan\n",
       "2017 | Fall     | 1               | 131               | 87.33              | nan\n",
       "2017 | Fall     | 1               | 86                | 57.33              | nan\n",
       "2017 | Fall     | 1               | 154               | 100                | nan\n",
       "2017 | Fall     | 1               | 77                | 51.33              | nan\n",
       "2017 | Fall     | 1               | 135               | 90                 | nan\n",
       "2017 | Fall     | 1               | 100               | 66.67              | nan\n",
       "2017 | Fall     | 1               | 0                 | 0                  | nan\n",
       "2017 | Fall     | 1               | 116               | 77.33              | nan\n",
       "... (354 rows omitted)"
      ]
     },
     "execution_count": 43,
     "metadata": {},
     "output_type": "execute_result"
    }
   ],
   "source": [
    "scores = Table().read_table('DataCS104Sections.csv')\n",
    "scores"
   ]
  },
  {
   "cell_type": "code",
   "execution_count": 47,
   "metadata": {},
   "outputs": [
    {
     "data": {
      "text/html": [
       "<table border=\"1\" class=\"dataframe\">\n",
       "    <thead>\n",
       "        <tr>\n",
       "            <th>Year</th> <th>Semester</th> <th>Overall Section</th> <th>Final exam grade %</th>\n",
       "        </tr>\n",
       "    </thead>\n",
       "    <tbody>\n",
       "        <tr>\n",
       "            <td>2017</td> <td>Fall    </td> <td>1              </td> <td>61.33             </td>\n",
       "        </tr>\n",
       "        <tr>\n",
       "            <td>2017</td> <td>Fall    </td> <td>1              </td> <td>70.67             </td>\n",
       "        </tr>\n",
       "        <tr>\n",
       "            <td>2017</td> <td>Fall    </td> <td>1              </td> <td>87.33             </td>\n",
       "        </tr>\n",
       "        <tr>\n",
       "            <td>2017</td> <td>Fall    </td> <td>1              </td> <td>57.33             </td>\n",
       "        </tr>\n",
       "        <tr>\n",
       "            <td>2017</td> <td>Fall    </td> <td>1              </td> <td>100               </td>\n",
       "        </tr>\n",
       "        <tr>\n",
       "            <td>2017</td> <td>Fall    </td> <td>1              </td> <td>51.33             </td>\n",
       "        </tr>\n",
       "        <tr>\n",
       "            <td>2017</td> <td>Fall    </td> <td>1              </td> <td>90                </td>\n",
       "        </tr>\n",
       "        <tr>\n",
       "            <td>2017</td> <td>Fall    </td> <td>1              </td> <td>66.67             </td>\n",
       "        </tr>\n",
       "        <tr>\n",
       "            <td>2017</td> <td>Fall    </td> <td>1              </td> <td>0                 </td>\n",
       "        </tr>\n",
       "        <tr>\n",
       "            <td>2017</td> <td>Fall    </td> <td>1              </td> <td>77.33             </td>\n",
       "        </tr>\n",
       "    </tbody>\n",
       "</table>\n",
       "<p>... (354 rows omitted)</p>"
      ],
      "text/plain": [
       "Year | Semester | Overall Section | Final exam grade %\n",
       "2017 | Fall     | 1               | 61.33\n",
       "2017 | Fall     | 1               | 70.67\n",
       "2017 | Fall     | 1               | 87.33\n",
       "2017 | Fall     | 1               | 57.33\n",
       "2017 | Fall     | 1               | 100\n",
       "2017 | Fall     | 1               | 51.33\n",
       "2017 | Fall     | 1               | 90\n",
       "2017 | Fall     | 1               | 66.67\n",
       "2017 | Fall     | 1               | 0\n",
       "2017 | Fall     | 1               | 77.33\n",
       "... (354 rows omitted)"
      ]
     },
     "execution_count": 47,
     "metadata": {},
     "output_type": "execute_result"
    }
   ],
   "source": [
    "# Let's first drop a couple of columns to simplify\n",
    "scores = scores.drop('Final exam grades', 'Notes')\n",
    "scores"
   ]
  },
  {
   "cell_type": "code",
   "execution_count": 49,
   "metadata": {},
   "outputs": [
    {
     "data": {
      "text/html": [
       "<table border=\"1\" class=\"dataframe\">\n",
       "    <thead>\n",
       "        <tr>\n",
       "            <th>Year</th> <th>Semester</th> <th>Overall Section</th> <th>Final exam grade %</th>\n",
       "        </tr>\n",
       "    </thead>\n",
       "    <tbody>\n",
       "        <tr>\n",
       "            <td>2017</td> <td>Fall    </td> <td>1              </td> <td>61.33             </td>\n",
       "        </tr>\n",
       "        <tr>\n",
       "            <td>2017</td> <td>Fall    </td> <td>1              </td> <td>70.67             </td>\n",
       "        </tr>\n",
       "        <tr>\n",
       "            <td>2017</td> <td>Fall    </td> <td>1              </td> <td>87.33             </td>\n",
       "        </tr>\n",
       "        <tr>\n",
       "            <td>2017</td> <td>Fall    </td> <td>1              </td> <td>57.33             </td>\n",
       "        </tr>\n",
       "        <tr>\n",
       "            <td>2017</td> <td>Fall    </td> <td>1              </td> <td>100               </td>\n",
       "        </tr>\n",
       "        <tr>\n",
       "            <td>2017</td> <td>Fall    </td> <td>1              </td> <td>51.33             </td>\n",
       "        </tr>\n",
       "        <tr>\n",
       "            <td>2017</td> <td>Fall    </td> <td>1              </td> <td>90                </td>\n",
       "        </tr>\n",
       "        <tr>\n",
       "            <td>2017</td> <td>Fall    </td> <td>1              </td> <td>66.67             </td>\n",
       "        </tr>\n",
       "        <tr>\n",
       "            <td>2017</td> <td>Fall    </td> <td>1              </td> <td>77.33             </td>\n",
       "        </tr>\n",
       "        <tr>\n",
       "            <td>2017</td> <td>Fall    </td> <td>1              </td> <td>92                </td>\n",
       "        </tr>\n",
       "    </tbody>\n",
       "</table>\n",
       "<p>... (285 rows omitted)</p>"
      ],
      "text/plain": [
       "Year | Semester | Overall Section | Final exam grade %\n",
       "2017 | Fall     | 1               | 61.33\n",
       "2017 | Fall     | 1               | 70.67\n",
       "2017 | Fall     | 1               | 87.33\n",
       "2017 | Fall     | 1               | 57.33\n",
       "2017 | Fall     | 1               | 100\n",
       "2017 | Fall     | 1               | 51.33\n",
       "2017 | Fall     | 1               | 90\n",
       "2017 | Fall     | 1               | 66.67\n",
       "2017 | Fall     | 1               | 77.33\n",
       "2017 | Fall     | 1               | 92\n",
       "... (285 rows omitted)"
      ]
     },
     "execution_count": 49,
     "metadata": {},
     "output_type": "execute_result"
    }
   ],
   "source": [
    "# What data can or cannot be used if we want to analyze the Final exam grades?\n",
    "scores_CS104 = scores.where('Final exam grade %', are.not_equal_to(0))\n",
    "scores_CS104"
   ]
  },
  {
   "cell_type": "code",
   "execution_count": 51,
   "metadata": {},
   "outputs": [
    {
     "data": {
      "text/html": [
       "<table border=\"1\" class=\"dataframe\">\n",
       "    <thead>\n",
       "        <tr>\n",
       "            <th>Overall Section</th> <th>count</th>\n",
       "        </tr>\n",
       "    </thead>\n",
       "    <tbody>\n",
       "        <tr>\n",
       "            <td>1              </td> <td>19   </td>\n",
       "        </tr>\n",
       "        <tr>\n",
       "            <td>2              </td> <td>19   </td>\n",
       "        </tr>\n",
       "        <tr>\n",
       "            <td>3              </td> <td>21   </td>\n",
       "        </tr>\n",
       "        <tr>\n",
       "            <td>4              </td> <td>20   </td>\n",
       "        </tr>\n",
       "        <tr>\n",
       "            <td>5              </td> <td>14   </td>\n",
       "        </tr>\n",
       "        <tr>\n",
       "            <td>6              </td> <td>22   </td>\n",
       "        </tr>\n",
       "        <tr>\n",
       "            <td>7              </td> <td>23   </td>\n",
       "        </tr>\n",
       "        <tr>\n",
       "            <td>8              </td> <td>18   </td>\n",
       "        </tr>\n",
       "        <tr>\n",
       "            <td>9              </td> <td>21   </td>\n",
       "        </tr>\n",
       "        <tr>\n",
       "            <td>10             </td> <td>27   </td>\n",
       "        </tr>\n",
       "        <tr>\n",
       "            <td>11             </td> <td>16   </td>\n",
       "        </tr>\n",
       "        <tr>\n",
       "            <td>12             </td> <td>15   </td>\n",
       "        </tr>\n",
       "        <tr>\n",
       "            <td>13             </td> <td>21   </td>\n",
       "        </tr>\n",
       "        <tr>\n",
       "            <td>14             </td> <td>17   </td>\n",
       "        </tr>\n",
       "        <tr>\n",
       "            <td>15             </td> <td>22   </td>\n",
       "        </tr>\n",
       "    </tbody>\n",
       "</table>"
      ],
      "text/plain": [
       "<IPython.core.display.HTML object>"
      ]
     },
     "metadata": {},
     "output_type": "display_data"
    }
   ],
   "source": [
    "# Let's look at the number of students in each section using group\n",
    "scores_CS104.group('Overall Section').show()\n"
   ]
  },
  {
   "cell_type": "code",
   "execution_count": 53,
   "metadata": {},
   "outputs": [
    {
     "data": {
      "text/html": [
       "<table border=\"1\" class=\"dataframe\">\n",
       "    <thead>\n",
       "        <tr>\n",
       "            <th>Overall Section</th> <th>Year</th> <th>Semester</th> <th>Final exam grade % average</th>\n",
       "        </tr>\n",
       "    </thead>\n",
       "    <tbody>\n",
       "        <tr>\n",
       "            <td>1              </td> <td>2017</td> <td>Fall    </td> <td>78.1747                   </td>\n",
       "        </tr>\n",
       "        <tr>\n",
       "            <td>2              </td> <td>2018</td> <td>Spring  </td> <td>76.5274                   </td>\n",
       "        </tr>\n",
       "        <tr>\n",
       "            <td>3              </td> <td>2018</td> <td>Fall    </td> <td>81.6181                   </td>\n",
       "        </tr>\n",
       "        <tr>\n",
       "            <td>4              </td> <td>2018</td> <td>Fall    </td> <td>83.833                    </td>\n",
       "        </tr>\n",
       "        <tr>\n",
       "            <td>5              </td> <td>2019</td> <td>Spring  </td> <td>79.1136                   </td>\n",
       "        </tr>\n",
       "        <tr>\n",
       "            <td>6              </td> <td>2019</td> <td>Fall    </td> <td>81.0005                   </td>\n",
       "        </tr>\n",
       "        <tr>\n",
       "            <td>7              </td> <td>2019</td> <td>Fall    </td> <td>79.7104                   </td>\n",
       "        </tr>\n",
       "        <tr>\n",
       "            <td>8              </td> <td>2020</td> <td>Spring  </td> <td>80.5178                   </td>\n",
       "        </tr>\n",
       "        <tr>\n",
       "            <td>9              </td> <td>2020</td> <td>Fall    </td> <td>80.1581                   </td>\n",
       "        </tr>\n",
       "        <tr>\n",
       "            <td>10             </td> <td>2021</td> <td>Spring  </td> <td>77.8022                   </td>\n",
       "        </tr>\n",
       "        <tr>\n",
       "            <td>11             </td> <td>2021</td> <td>Fall    </td> <td>81.3338                   </td>\n",
       "        </tr>\n",
       "        <tr>\n",
       "            <td>12             </td> <td>2022</td> <td>Spring  </td> <td>88.6227                   </td>\n",
       "        </tr>\n",
       "        <tr>\n",
       "            <td>13             </td> <td>2022</td> <td>Fall    </td> <td>80.0319                   </td>\n",
       "        </tr>\n",
       "        <tr>\n",
       "            <td>14             </td> <td>2022</td> <td>Fall    </td> <td>81.2165                   </td>\n",
       "        </tr>\n",
       "        <tr>\n",
       "            <td>15             </td> <td>2023</td> <td>Spring  </td> <td>78.9932                   </td>\n",
       "        </tr>\n",
       "    </tbody>\n",
       "</table>"
      ],
      "text/plain": [
       "<IPython.core.display.HTML object>"
      ]
     },
     "metadata": {},
     "output_type": "display_data"
    }
   ],
   "source": [
    "# Let's look at the average score for students in each section using group\n",
    "scores_CS104_avg = scores_CS104.group(['Overall Section','Year','Semester'], np.average)\n",
    "scores_CS104_avg.show()"
   ]
  },
  {
   "cell_type": "code",
   "execution_count": 54,
   "metadata": {},
   "outputs": [
    {
     "data": {
      "image/png": "[encoded data removed]",
      "text/plain": [
       "<Figure size 500x500 with 1 Axes>"
      ]
     },
     "metadata": {},
     "output_type": "display_data"
    }
   ],
   "source": [
    "# Visualize using a scatter plot\n",
    "scores_CS104_avg.scatter(0,3)"
   ]
  },
  {
   "cell_type": "code",
   "execution_count": 55,
   "metadata": {},
   "outputs": [],
   "source": [
    "# What is the observed average for section 12\n",
    "observed_average_CS104 = 88.6227"
   ]
  },
  {
   "cell_type": "code",
   "execution_count": 61,
   "metadata": {},
   "outputs": [
    {
     "data": {
      "text/plain": [
       "83.943333333333342"
      ]
     },
     "execution_count": 61,
     "metadata": {},
     "output_type": "execute_result"
    }
   ],
   "source": [
    "# null hypothesis: let's assume that the sections were picked at random (15 students at random)\n",
    "# Can we simulate 1 sample of 15 students drawn at random?\n",
    "# Which table method should we use? with or without replacement?\n",
    "aSample = scores_CS104.sample(15, with_replacement = False)\n",
    "np.average(aSample.column('Final exam grade %'))"
   ]
  },
  {
   "cell_type": "code",
   "execution_count": null,
   "metadata": {},
   "outputs": [],
   "source": [
    "# Now we are ready to simulate one value of the test statistic \n",
    "# under the hypothesis that the section is like a random sample from the class\n",
    "# what would be a good test statistic?\n"
   ]
  },
  {
   "cell_type": "code",
   "execution_count": 67,
   "metadata": {},
   "outputs": [
    {
     "data": {
      "text/plain": [
       "82.864666666666665"
      ]
     },
     "execution_count": 67,
     "metadata": {},
     "output_type": "execute_result"
    }
   ],
   "source": [
    "# Function\n",
    "def one_random_average(tbl, SampleSize, ColumnName):\n",
    "    aSample = tbl.sample(SampleSize, with_replacement = False)\n",
    "    avg = np.average(aSample.column(ColumnName))\n",
    "    return avg\n",
    "one_random_average(scores_CS104,15,  'Final exam grade %')"
   ]
  },
  {
   "cell_type": "code",
   "execution_count": 68,
   "metadata": {},
   "outputs": [
    {
     "data": {
      "text/plain": [
       "array([ 81.46666667,  80.88133333,  76.61333333, ...,  79.38      ,\n",
       "        81.676     ,  80.12733333])"
      ]
     },
     "execution_count": 68,
     "metadata": {},
     "output_type": "execute_result"
    }
   ],
   "source": [
    "# Now let's Simulate 50,000 copies of the test statistic\n",
    "averages = make_array()\n",
    "for i in np.arange(50000):\n",
    "    next_Average = one_random_average(scores_CS104,15,  'Final exam grade %')\n",
    "    averages = np.append(averages, next_Average)\n",
    "averages"
   ]
  },
  {
   "cell_type": "code",
   "execution_count": 71,
   "metadata": {},
   "outputs": [
    {
     "data": {
      "image/png": "[encoded data removed]",
      "text/plain": [
       "<Figure size 600x400 with 1 Axes>"
      ]
     },
     "metadata": {},
     "output_type": "display_data"
    }
   ],
   "source": [
    "# Compare the simulated distribution of the statistic\n",
    "# and the actual observed statistic\n",
    "myAvg = Table().with_column('Final Grade Average', averages)\n",
    "myAvg.hist()\n",
    "plots.scatter(observed_average_CS104, 0.001, color = 'red', s=40);"
   ]
  },
  {
   "cell_type": "code",
   "execution_count": 79,
   "metadata": {},
   "outputs": [
    {
     "data": {
      "text/plain": [
       "2.54"
      ]
     },
     "execution_count": 79,
     "metadata": {},
     "output_type": "execute_result"
    }
   ],
   "source": [
    "# How can we answer: How certain are we of our decision?\n",
    "# One way: look at the area (aka %) of the simulation that would favor the alternative\n",
    "# In other words: what percent of the repetitions in this simulations were greater than\n",
    "# or equal to the observed average\n",
    "100*np.count_nonzero(myAvg.column('Final Grade Average') >= observed_average_CS104)/50000"
   ]
  },
  {
   "cell_type": "code",
   "execution_count": null,
   "metadata": {},
   "outputs": [],
   "source": [
    "#let's look at the convention (see slides)"
   ]
  },
  {
   "cell_type": "code",
   "execution_count": 80,
   "metadata": {},
   "outputs": [
    {
     "data": {
      "text/plain": [
       "87.48333333333335"
      ]
     },
     "execution_count": 80,
     "metadata": {},
     "output_type": "execute_result"
    }
   ],
   "source": [
    "# Where is the 5% cutoff when running 50,000 repetitions?\n",
    "five_percent_point = myAvg.sort(0).column(0).item(47499)\n",
    "five_percent_point"
   ]
  },
  {
   "cell_type": "code",
   "execution_count": 83,
   "metadata": {},
   "outputs": [
    {
     "data": {
      "text/plain": [
       "89.90266666666668"
      ]
     },
     "execution_count": 83,
     "metadata": {},
     "output_type": "execute_result"
    }
   ],
   "source": [
    "# Where is the 1% cutoff when running 50,000 repetitions?\n",
    "one_percent_point = myAvg.sort(0).column(0).item(49499)\n",
    "one_percent_point"
   ]
  },
  {
   "cell_type": "code",
   "execution_count": 84,
   "metadata": {},
   "outputs": [
    {
     "data": {
      "text/plain": [
       "[<matplotlib.lines.Line2D at 0x7de50eeddb10>]"
      ]
     },
     "execution_count": 84,
     "metadata": {},
     "output_type": "execute_result"
    },
    {
     "data": {
      "image/png": "[encoded data removed]",
      "text/plain": [
       "<Figure size 600x400 with 1 Axes>"
      ]
     },
     "metadata": {},
     "output_type": "display_data"
    }
   ],
   "source": [
    "#Let's visualize as a histogram\n",
    "myAvg.hist()\n",
    "plots.scatter(observed_average_CS104, 0.001, color = 'red', s=40);\n",
    "plots.plot([five_percent_point, five_percent_point], [0, 0.15], color='gold', lw=2)\n",
    "plots.title('Area to the left of the gold line: 5%');\n",
    "plots.plot([one_percent_point, one_percent_point], [0, 0.15], color='red', lw=2)\n"
   ]
  },
  {
   "cell_type": "code",
   "execution_count": null,
   "metadata": {},
   "outputs": [],
   "source": []
  },
  {
   "cell_type": "code",
   "execution_count": null,
   "metadata": {},
   "outputs": [],
   "source": []
  },
  {
   "cell_type": "code",
   "execution_count": null,
   "metadata": {},
   "outputs": [],
   "source": []
  },
  {
   "cell_type": "code",
   "execution_count": null,
   "metadata": {},
   "outputs": [],
   "source": []
  },
  {
   "cell_type": "code",
   "execution_count": null,
   "metadata": {},
   "outputs": [],
   "source": []
  },
  {
   "cell_type": "markdown",
   "metadata": {},
   "source": [
    "## Below is some more exploratory analysis (Not part of the demo)\n",
    "\n",
    "I would like to see if I can see some inconsistencies from one semester to another over the course of the years/semesters"
   ]
  },
  {
   "cell_type": "code",
   "execution_count": 85,
   "metadata": {},
   "outputs": [
    {
     "data": {
      "text/html": [
       "<table border=\"1\" class=\"dataframe\">\n",
       "    <thead>\n",
       "        <tr>\n",
       "            <th>Year</th> <th>count</th>\n",
       "        </tr>\n",
       "    </thead>\n",
       "    <tbody>\n",
       "        <tr>\n",
       "            <td>2017</td> <td>19   </td>\n",
       "        </tr>\n",
       "        <tr>\n",
       "            <td>2018</td> <td>60   </td>\n",
       "        </tr>\n",
       "        <tr>\n",
       "            <td>2019</td> <td>59   </td>\n",
       "        </tr>\n",
       "        <tr>\n",
       "            <td>2020</td> <td>39   </td>\n",
       "        </tr>\n",
       "        <tr>\n",
       "            <td>2021</td> <td>43   </td>\n",
       "        </tr>\n",
       "        <tr>\n",
       "            <td>2022</td> <td>53   </td>\n",
       "        </tr>\n",
       "        <tr>\n",
       "            <td>2023</td> <td>22   </td>\n",
       "        </tr>\n",
       "    </tbody>\n",
       "</table>"
      ],
      "text/plain": [
       "<IPython.core.display.HTML object>"
      ]
     },
     "metadata": {},
     "output_type": "display_data"
    }
   ],
   "source": [
    "#Now let's look at the number of students taught each semester using group\n",
    "scores_CS104.group('Year').show()\n",
    "# Note 2017 only includes Fall, 2023 only includes Spring"
   ]
  },
  {
   "cell_type": "code",
   "execution_count": 86,
   "metadata": {},
   "outputs": [
    {
     "data": {
      "text/html": [
       "<table border=\"1\" class=\"dataframe\">\n",
       "    <thead>\n",
       "        <tr>\n",
       "            <th>Year</th> <th>Final exam grade % average</th>\n",
       "        </tr>\n",
       "    </thead>\n",
       "    <tbody>\n",
       "        <tr>\n",
       "            <td>2017</td> <td>78.1747                   </td>\n",
       "        </tr>\n",
       "        <tr>\n",
       "            <td>2018</td> <td>80.7443                   </td>\n",
       "        </tr>\n",
       "        <tr>\n",
       "            <td>2019</td> <td>80.0498                   </td>\n",
       "        </tr>\n",
       "        <tr>\n",
       "            <td>2020</td> <td>80.3241                   </td>\n",
       "        </tr>\n",
       "        <tr>\n",
       "            <td>2021</td> <td>79.1163                   </td>\n",
       "        </tr>\n",
       "        <tr>\n",
       "            <td>2022</td> <td>82.8432                   </td>\n",
       "        </tr>\n",
       "        <tr>\n",
       "            <td>2023</td> <td>78.9932                   </td>\n",
       "        </tr>\n",
       "    </tbody>\n",
       "</table>"
      ],
      "text/plain": [
       "<IPython.core.display.HTML object>"
      ]
     },
     "metadata": {},
     "output_type": "display_data"
    }
   ],
   "source": [
    "#How about the average grade? Is there a difference between Fall and Spring?\n",
    "scores_CS104.group('Year', np.average).select('Year', 'Final exam grade % average').show()"
   ]
  },
  {
   "cell_type": "markdown",
   "metadata": {},
   "source": [
    "Looks very similar, maybe not worth investigating"
   ]
  },
  {
   "cell_type": "code",
   "execution_count": 87,
   "metadata": {},
   "outputs": [
    {
     "data": {
      "text/html": [
       "<table border=\"1\" class=\"dataframe\">\n",
       "    <thead>\n",
       "        <tr>\n",
       "            <th>Year</th> <th>Semester</th> <th>Overall Section</th> <th>Final exam grade %</th>\n",
       "        </tr>\n",
       "    </thead>\n",
       "    <tbody>\n",
       "        <tr>\n",
       "            <td>2017</td> <td>Fall    </td> <td>1              </td> <td>61.33             </td>\n",
       "        </tr>\n",
       "        <tr>\n",
       "            <td>2017</td> <td>Fall    </td> <td>1              </td> <td>70.67             </td>\n",
       "        </tr>\n",
       "        <tr>\n",
       "            <td>2017</td> <td>Fall    </td> <td>1              </td> <td>87.33             </td>\n",
       "        </tr>\n",
       "        <tr>\n",
       "            <td>2017</td> <td>Fall    </td> <td>1              </td> <td>57.33             </td>\n",
       "        </tr>\n",
       "        <tr>\n",
       "            <td>2017</td> <td>Fall    </td> <td>1              </td> <td>100               </td>\n",
       "        </tr>\n",
       "        <tr>\n",
       "            <td>2017</td> <td>Fall    </td> <td>1              </td> <td>51.33             </td>\n",
       "        </tr>\n",
       "        <tr>\n",
       "            <td>2017</td> <td>Fall    </td> <td>1              </td> <td>90                </td>\n",
       "        </tr>\n",
       "        <tr>\n",
       "            <td>2017</td> <td>Fall    </td> <td>1              </td> <td>66.67             </td>\n",
       "        </tr>\n",
       "        <tr>\n",
       "            <td>2017</td> <td>Fall    </td> <td>1              </td> <td>0                 </td>\n",
       "        </tr>\n",
       "        <tr>\n",
       "            <td>2017</td> <td>Fall    </td> <td>1              </td> <td>77.33             </td>\n",
       "        </tr>\n",
       "    </tbody>\n",
       "</table>\n",
       "<p>... (354 rows omitted)</p>"
      ],
      "text/plain": [
       "Year | Semester | Overall Section | Final exam grade %\n",
       "2017 | Fall     | 1               | 61.33\n",
       "2017 | Fall     | 1               | 70.67\n",
       "2017 | Fall     | 1               | 87.33\n",
       "2017 | Fall     | 1               | 57.33\n",
       "2017 | Fall     | 1               | 100\n",
       "2017 | Fall     | 1               | 51.33\n",
       "2017 | Fall     | 1               | 90\n",
       "2017 | Fall     | 1               | 66.67\n",
       "2017 | Fall     | 1               | 0\n",
       "2017 | Fall     | 1               | 77.33\n",
       "... (354 rows omitted)"
      ]
     },
     "execution_count": 87,
     "metadata": {},
     "output_type": "execute_result"
    }
   ],
   "source": [
    "# Let's go back to the original table of grades\n",
    "# What other questions could we investigate?\n",
    "scores"
   ]
  },
  {
   "cell_type": "code",
   "execution_count": 88,
   "metadata": {},
   "outputs": [
    {
     "data": {
      "text/html": [
       "<table border=\"1\" class=\"dataframe\">\n",
       "    <thead>\n",
       "        <tr>\n",
       "            <th>Overall Section</th> <th>count</th>\n",
       "        </tr>\n",
       "    </thead>\n",
       "    <tbody>\n",
       "        <tr>\n",
       "            <td>1              </td> <td>23   </td>\n",
       "        </tr>\n",
       "        <tr>\n",
       "            <td>2              </td> <td>22   </td>\n",
       "        </tr>\n",
       "        <tr>\n",
       "            <td>3              </td> <td>27   </td>\n",
       "        </tr>\n",
       "        <tr>\n",
       "            <td>4              </td> <td>28   </td>\n",
       "        </tr>\n",
       "        <tr>\n",
       "            <td>5              </td> <td>23   </td>\n",
       "        </tr>\n",
       "        <tr>\n",
       "            <td>6              </td> <td>29   </td>\n",
       "        </tr>\n",
       "        <tr>\n",
       "            <td>7              </td> <td>28   </td>\n",
       "        </tr>\n",
       "        <tr>\n",
       "            <td>8              </td> <td>22   </td>\n",
       "        </tr>\n",
       "        <tr>\n",
       "            <td>9              </td> <td>24   </td>\n",
       "        </tr>\n",
       "        <tr>\n",
       "            <td>10             </td> <td>29   </td>\n",
       "        </tr>\n",
       "    </tbody>\n",
       "</table>\n",
       "<p>... (5 rows omitted)</p>"
      ],
      "text/plain": [
       "Overall Section | count\n",
       "1               | 23\n",
       "2               | 22\n",
       "3               | 27\n",
       "4               | 28\n",
       "5               | 23\n",
       "6               | 29\n",
       "7               | 28\n",
       "8               | 22\n",
       "9               | 24\n",
       "10              | 29\n",
       "... (5 rows omitted)"
      ]
     },
     "execution_count": 88,
     "metadata": {},
     "output_type": "execute_result"
    }
   ],
   "source": [
    "scores_sections = scores.group('Overall Section')\n",
    "scores_sections"
   ]
  },
  {
   "cell_type": "code",
   "execution_count": 89,
   "metadata": {},
   "outputs": [
    {
     "data": {
      "text/html": [
       "<table border=\"1\" class=\"dataframe\">\n",
       "    <thead>\n",
       "        <tr>\n",
       "            <th>Overall Section</th> <th>exam no shows</th>\n",
       "        </tr>\n",
       "    </thead>\n",
       "    <tbody>\n",
       "        <tr>\n",
       "            <td>1              </td> <td>4            </td>\n",
       "        </tr>\n",
       "        <tr>\n",
       "            <td>2              </td> <td>3            </td>\n",
       "        </tr>\n",
       "        <tr>\n",
       "            <td>3              </td> <td>6            </td>\n",
       "        </tr>\n",
       "        <tr>\n",
       "            <td>4              </td> <td>8            </td>\n",
       "        </tr>\n",
       "        <tr>\n",
       "            <td>5              </td> <td>9            </td>\n",
       "        </tr>\n",
       "        <tr>\n",
       "            <td>6              </td> <td>7            </td>\n",
       "        </tr>\n",
       "        <tr>\n",
       "            <td>7              </td> <td>5            </td>\n",
       "        </tr>\n",
       "        <tr>\n",
       "            <td>8              </td> <td>4            </td>\n",
       "        </tr>\n",
       "        <tr>\n",
       "            <td>9              </td> <td>3            </td>\n",
       "        </tr>\n",
       "        <tr>\n",
       "            <td>10             </td> <td>2            </td>\n",
       "        </tr>\n",
       "        <tr>\n",
       "            <td>11             </td> <td>2            </td>\n",
       "        </tr>\n",
       "        <tr>\n",
       "            <td>12             </td> <td>5            </td>\n",
       "        </tr>\n",
       "        <tr>\n",
       "            <td>13             </td> <td>7            </td>\n",
       "        </tr>\n",
       "        <tr>\n",
       "            <td>14             </td> <td>3            </td>\n",
       "        </tr>\n",
       "        <tr>\n",
       "            <td>15             </td> <td>1            </td>\n",
       "        </tr>\n",
       "    </tbody>\n",
       "</table>"
      ],
      "text/plain": [
       "<IPython.core.display.HTML object>"
      ]
     },
     "metadata": {},
     "output_type": "display_data"
    },
    {
     "data": {
      "text/html": [
       "<table border=\"1\" class=\"dataframe\">\n",
       "    <thead>\n",
       "        <tr>\n",
       "            <th>Overall Section</th> <th>exam no shows</th> <th>count</th> <th>% no shows</th>\n",
       "        </tr>\n",
       "    </thead>\n",
       "    <tbody>\n",
       "        <tr>\n",
       "            <td>1              </td> <td>4            </td> <td>23   </td> <td>17.3913   </td>\n",
       "        </tr>\n",
       "        <tr>\n",
       "            <td>2              </td> <td>3            </td> <td>22   </td> <td>13.6364   </td>\n",
       "        </tr>\n",
       "        <tr>\n",
       "            <td>3              </td> <td>6            </td> <td>27   </td> <td>22.2222   </td>\n",
       "        </tr>\n",
       "        <tr>\n",
       "            <td>4              </td> <td>8            </td> <td>28   </td> <td>28.5714   </td>\n",
       "        </tr>\n",
       "        <tr>\n",
       "            <td>5              </td> <td>9            </td> <td>23   </td> <td>39.1304   </td>\n",
       "        </tr>\n",
       "        <tr>\n",
       "            <td>6              </td> <td>7            </td> <td>29   </td> <td>24.1379   </td>\n",
       "        </tr>\n",
       "        <tr>\n",
       "            <td>7              </td> <td>5            </td> <td>28   </td> <td>17.8571   </td>\n",
       "        </tr>\n",
       "        <tr>\n",
       "            <td>8              </td> <td>4            </td> <td>22   </td> <td>18.1818   </td>\n",
       "        </tr>\n",
       "        <tr>\n",
       "            <td>9              </td> <td>3            </td> <td>24   </td> <td>12.5      </td>\n",
       "        </tr>\n",
       "        <tr>\n",
       "            <td>10             </td> <td>2            </td> <td>29   </td> <td>6.89655   </td>\n",
       "        </tr>\n",
       "        <tr>\n",
       "            <td>11             </td> <td>2            </td> <td>18   </td> <td>11.1111   </td>\n",
       "        </tr>\n",
       "        <tr>\n",
       "            <td>12             </td> <td>5            </td> <td>20   </td> <td>25        </td>\n",
       "        </tr>\n",
       "        <tr>\n",
       "            <td>13             </td> <td>7            </td> <td>28   </td> <td>25        </td>\n",
       "        </tr>\n",
       "        <tr>\n",
       "            <td>14             </td> <td>3            </td> <td>20   </td> <td>15        </td>\n",
       "        </tr>\n",
       "        <tr>\n",
       "            <td>15             </td> <td>1            </td> <td>23   </td> <td>4.34783   </td>\n",
       "        </tr>\n",
       "    </tbody>\n",
       "</table>"
      ],
      "text/plain": [
       "<IPython.core.display.HTML object>"
      ]
     },
     "metadata": {},
     "output_type": "display_data"
    }
   ],
   "source": [
    "# I wonder if there is a difference in the number of students who did not show up for the final exam from semester to semester\n",
    "num_student_drops = scores.where(\"Final exam grade %\", 0).group('Overall Section').relabel('count', 'exam no shows')\n",
    "num_student_drops.show()\n",
    "# num_student_exams = scores.where(\"Final exam grade %\" != 0).group(['Overall Section', 'Year','Semester']).relabel('count', 'number of students')\n",
    "percent_no_shows = num_student_drops.column('exam no shows')* 100/(scores_sections.column('count'))\n",
    "percent_no_shows\n",
    "complete_table = num_student_drops.join('Overall Section', scores_sections).with_column('% no shows', percent_no_shows)\n",
    "complete_table.show()"
   ]
  },
  {
   "cell_type": "code",
   "execution_count": 90,
   "metadata": {},
   "outputs": [],
   "source": [
    "# Spring 2019 had a really high number of no shows. Is this by chance or could there have been something else going on?\n",
    "observed_noshows = 39.1304"
   ]
  },
  {
   "cell_type": "code",
   "execution_count": 91,
   "metadata": {},
   "outputs": [
    {
     "data": {
      "text/plain": [
       "26.08695652173913"
      ]
     },
     "execution_count": 91,
     "metadata": {},
     "output_type": "execute_result"
    }
   ],
   "source": [
    "def sample_percent(tbl, sampleSize, columnName):\n",
    "    sample_section = tbl.sample(sampleSize, with_replacement = False)\n",
    "    num_student_drops = sample_section.where(columnName, 0).num_rows\n",
    "    num_student_exams = sample_section.where(columnName, are.not_equal_to(0)).num_rows\n",
    "    sample_p = num_student_drops* 100/sampleSize\n",
    "    #print(num_student_drops,num_student_exams,sampleSize)\n",
    "    return sample_p\n",
    "\n",
    "sample_percent(scores,23 , 'Final exam grade %')"
   ]
  },
  {
   "cell_type": "code",
   "execution_count": 92,
   "metadata": {},
   "outputs": [],
   "source": [
    "percents = make_array()\n",
    "for n in np.arange(10000):\n",
    "    next_percent = sample_percent(scores, 23, 'Final exam grade %')\n",
    "    percents = np.append(percents, next_percent)\n"
   ]
  },
  {
   "cell_type": "code",
   "execution_count": 93,
   "metadata": {},
   "outputs": [
    {
     "data": {
      "image/png": "[encoded data removed]",
      "text/plain": [
       "<Figure size 600x400 with 1 Axes>"
      ]
     },
     "metadata": {},
     "output_type": "display_data"
    }
   ],
   "source": [
    "# Compare the simulated distribution of the statistic\n",
    "# and the actual observed statistic\n",
    "noShows = Table().with_column('No Shows (%)', percents)\n",
    "noShows.hist()\n",
    "plots.scatter(observed_noshows, 0.001, color = 'red', s=40);"
   ]
  },
  {
   "cell_type": "code",
   "execution_count": 94,
   "metadata": {},
   "outputs": [
    {
     "data": {
      "text/plain": [
       "1.79"
      ]
     },
     "execution_count": 94,
     "metadata": {},
     "output_type": "execute_result"
    }
   ],
   "source": [
    "# How can we answer: How certain are we of our decision?\n",
    "# One way: look at the area (aka %) of the simulation that would favor the alternative\n",
    "# In other words: what percent of the repetitions in this simulations were greater than\n",
    "# or equal to the observed value\n",
    "100*(np.count_nonzero(noShows.column('No Shows (%)') >= observed_noshows)/10000)"
   ]
  },
  {
   "cell_type": "code",
   "execution_count": 95,
   "metadata": {},
   "outputs": [
    {
     "data": {
      "text/plain": [
       "(39.1304, 39.130434782608695, 30.434782608695652)"
      ]
     },
     "execution_count": 95,
     "metadata": {},
     "output_type": "execute_result"
    },
    {
     "data": {
      "image/png": "[encoded data removed]",
      "text/plain": [
       "<Figure size 600x400 with 1 Axes>"
      ]
     },
     "metadata": {},
     "output_type": "display_data"
    }
   ],
   "source": [
    "noShows = Table().with_column('No Shows (%)', percents)\n",
    "noShows.hist()\n",
    "# Where is the 5% cutoff when running 10,000 repetitions?\n",
    "five_percent = noShows.sort(0).column(0).item(9499)\n",
    "five_percent\n",
    "plots.plot([five_percent, five_percent], [0, 0.10], color='gold', lw=2)\n",
    "plots.title('Area to the left of the gold line: 5%');\n",
    "\n",
    "# Where is the 1% cutoff when running 10,000 repetitions?\n",
    "one_percent = noShows.sort(0).column(0).item(9899)\n",
    "one_percent\n",
    "plots.plot([one_percent, one_percent], [0, 0.10], color='blue', lw=2)\n",
    "plots.title('Area to the left of the blue line: 1%');\n",
    "\n",
    "plots.scatter(observed_noshows, 0.002, color = 'red', s=40);\n",
    "observed_noshows,one_percent,five_percent"
   ]
  },
  {
   "cell_type": "code",
   "execution_count": null,
   "metadata": {},
   "outputs": [],
   "source": []
  }
 ],
 "metadata": {
  "anaconda-cloud": {},
  "kernelspec": {
   "display_name": "Python 3 (ipykernel)",
   "language": "python",
   "name": "python3"
  },
  "language_info": {
   "codemirror_mode": {
    "name": "ipython",
    "version": 3
   },
   "file_extension": ".py",
   "mimetype": "text/x-python",
   "name": "python",
   "nbconvert_exporter": "python",
   "pygments_lexer": "ipython3",
   "version": "3.10.11"
  }
 },
 "nbformat": 4,
 "nbformat_minor": 1
}
