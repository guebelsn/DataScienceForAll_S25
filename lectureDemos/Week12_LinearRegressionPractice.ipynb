{
 "cells": [
  {
   "cell_type": "code",
   "execution_count": null,
   "metadata": {},
   "outputs": [],
   "source": [
    "from datascience import *\n",
    "import numpy as np\n",
    "\n",
    "%matplotlib inline\n",
    "import matplotlib.pyplot as plots\n",
    "plots.style.use('fivethirtyeight')"
   ]
  },
  {
   "cell_type": "markdown",
   "metadata": {},
   "source": [
    "## Linear Regression Review"
   ]
  },
  {
   "cell_type": "markdown",
   "metadata": {},
   "source": [
    "**Please run all cells before this cell, including the import cell at the top of the notebook.**"
   ]
  },
  {
   "cell_type": "markdown",
   "metadata": {},
   "source": [
    "A course has a midterm (average 70; standard deviation 10)\n",
    "and a really hard final (average 50; standard deviation 12)\n",
    "If the scatter diagram comparing midterm & final scores for students has a typical oval shape with correlation 0.75, then... "
   ]
  },
  {
   "cell_type": "code",
   "execution_count": null,
   "metadata": {},
   "outputs": [],
   "source": [
    "#Let x be MT and y be final\n",
    "x_mean = 70\n",
    "x_sd = 10\n",
    "y_mean = 50\n",
    "y_sd = 12\n",
    "r = 0.75"
   ]
  },
  {
   "cell_type": "markdown",
   "metadata": {},
   "source": [
    "(estimate of y - average of y) / SD of y = r * (the given value of x - average of x) / SD of x  \n",
    "$$\\implies $$ estimate of y = ((the given value of x - average of x) / SD of x ) * r * SD of y + average of y"
   ]
  },
  {
   "cell_type": "code",
   "execution_count": null,
   "metadata": {},
   "outputs": [],
   "source": [
    "#TODO: Try to predict the final exam score for a midterm_score = 90\n",
    "x = 90\n",
    "estimate_of_y = ((x - x_mean) / x_sd ) * r * y_sd + y_mean\n",
    "estimate_of_y"
   ]
  },
  {
   "cell_type": "code",
   "execution_count": null,
   "metadata": {},
   "outputs": [],
   "source": [
    "#TODO: Try to predict the final exam score for a midterm_score = 60\n",
    "midterm_score = 60\n",
    "x = midterm_score\n",
    "estimate_of_y = ((x - x_mean) / x_sd ) * r * y_sd + y_mean\n",
    "estimate_of_y"
   ]
  },
  {
   "cell_type": "markdown",
   "metadata": {},
   "source": [
    "We can clean this up by assigning the slope and intercept for the general equation of a line:\n",
    "    $$y = ax +b$$\n",
    "Where a is the slope:\n",
    "$$ a = r\\times \\frac{\\text{SD of }y}{\\text{SD of }x}$$\n",
    "and b is the intercept:\n",
    "$$ b = \\text{average of } y - a\\times\\text{average of }x $$"
   ]
  },
  {
   "cell_type": "code",
   "execution_count": null,
   "metadata": {},
   "outputs": [],
   "source": [
    "# y = a * x + b\n",
    "a = r* y_sd/x_sd\n",
    "b = y_mean - a* x_mean"
   ]
  },
  {
   "cell_type": "code",
   "execution_count": null,
   "metadata": {},
   "outputs": [],
   "source": [
    "a * 90 + b"
   ]
  },
  {
   "cell_type": "code",
   "execution_count": null,
   "metadata": {},
   "outputs": [],
   "source": [
    "a * 60 + b"
   ]
  },
  {
   "cell_type": "markdown",
   "metadata": {},
   "source": [
    "## Linear Regression Example"
   ]
  },
  {
   "cell_type": "markdown",
   "metadata": {},
   "source": [
    "**Remember the demo from the first week of class looking at the text \"Little Women\"?**"
   ]
  },
  {
   "cell_type": "code",
   "execution_count": null,
   "metadata": {},
   "outputs": [],
   "source": [
    "little_women = Table.read_table('little_women.csv')\n",
    "little_women = little_women.move_to_start('Periods')\n",
    "little_women.show(10)"
   ]
  },
  {
   "cell_type": "code",
   "execution_count": null,
   "metadata": {},
   "outputs": [],
   "source": [
    "def standard_units(any_numbers):\n",
    "    \"\"\"Convert any array of numbers to standard units.\"\"\"\n",
    "    return (any_numbers - np.average(any_numbers)) / np.std(any_numbers)\n",
    "\n",
    "# Below, t is a table; x and y are column indices or labels.\n",
    "\n",
    "def correlation(t, x, y):\n",
    "    \"\"\"Return the correlation coefficient (r) of two variables.\"\"\"\n",
    "    return np.mean(standard_units(t.column(x)) * standard_units(t.column(y)))\n",
    "\n",
    "def slope(t, x, y):\n",
    "    \"\"\"The slope of the regression line (original units).\"\"\"\n",
    "    r = correlation(t, x, y)\n",
    "    return r * np.std(t.column(y)) / np.std(t.column(x))\n",
    "\n",
    "def intercept(t, x, y):\n",
    "    \"\"\"The intercept of the regression line (original units).\"\"\"\n",
    "    return np.mean(t.column(y)) - slope(t, x, y) * np.mean(t.column(x))"
   ]
  },
  {
   "cell_type": "code",
   "execution_count": null,
   "metadata": {},
   "outputs": [],
   "source": [
    "#TODO: first step is always to visualize\n",
    "little_women.scatter('Periods')"
   ]
  },
  {
   "cell_type": "code",
   "execution_count": null,
   "metadata": {},
   "outputs": [],
   "source": [
    "#Should we calculate the correlation coeffient?\n",
    "correlation(little_women, 'Periods', 'Characters')"
   ]
  },
  {
   "cell_type": "markdown",
   "metadata": {},
   "source": [
    "Let's use our functions to find the slope and intercept of the regression line for the relationship between number of characters and number of periods."
   ]
  },
  {
   "cell_type": "code",
   "execution_count": null,
   "metadata": {},
   "outputs": [],
   "source": [
    "a = slope(little_women, 'Periods', 'Characters')\n",
    "b = intercept(little_women, 'Periods', 'Characters')\n",
    "a,b\n",
    "#slope * given value of x + intercept\n",
    "character_estimates = a* little_women.column('Periods') + b\n",
    "character_estimates"
   ]
  },
  {
   "cell_type": "code",
   "execution_count": null,
   "metadata": {},
   "outputs": [],
   "source": [
    "def linear_fit(t, x, y):\n",
    "     #TODO: calculate slope and intercept using the functions\n",
    "    a = slope(t, x, y)\n",
    "    b = intercept(t, x, y)\n",
    "    #TODO: use y = a * x + b to estimated the number of characters\n",
    "    character_estimates = a* t.column(x) + b\n",
    "    \n",
    "    return character_estimates\n",
    "#Try it out\n",
    "linear_fit(little_women,'Periods','Characters')"
   ]
  },
  {
   "cell_type": "code",
   "execution_count": null,
   "metadata": {},
   "outputs": [],
   "source": [
    "# TODO: add the fitted data to the table\n",
    "lw_fitted = little_women.with_column('fitted',linear_fit(little_women,'Periods','Characters'))\n",
    "lw_fitted\n",
    "# TODO: make a scatter plot\n",
    "lw_fitted.scatter(0)\n",
    "\n"
   ]
  },
  {
   "cell_type": "code",
   "execution_count": null,
   "metadata": {},
   "outputs": [],
   "source": []
  }
 ],
 "metadata": {
  "kernelspec": {
   "display_name": "Python 3 (ipykernel)",
   "language": "python",
   "name": "python3"
  },
  "language_info": {
   "codemirror_mode": {
    "name": "ipython",
    "version": 3
   },
   "file_extension": ".py",
   "mimetype": "text/x-python",
   "name": "python",
   "nbconvert_exporter": "python",
   "pygments_lexer": "ipython3",
   "version": "3.7.8"
  }
 },
 "nbformat": 4,
 "nbformat_minor": 2
}
