{
 "cells": [
  {
   "cell_type": "code",
   "execution_count": null,
   "id": "ff7bf6d8",
   "metadata": {
    "deletable": false,
    "editable": false
   },
   "outputs": [],
   "source": [
    "# Initialize Otter\n",
    "import otter\n",
    "grader = otter.Notebook(\"hw08.ipynb\")"
   ]
  },
  {
   "cell_type": "markdown",
   "id": "df451c69",
   "metadata": {},
   "source": [
    "# Homework 8: Confidence Intervals"
   ]
  },
  {
   "cell_type": "markdown",
   "id": "bf75338b",
   "metadata": {},
   "source": [
    "**Helpful Resource:**\n",
    "\n",
    "- [Python Reference](http://data8.org/sp22/python-reference.html): Cheat sheet of helpful array & table methods!\n",
    "\n",
    "**Recommended Reading**: \n",
    "\n",
    "* [Estimation](https://www.inferentialthinking.com/chapters/13/Estimation)"
   ]
  },
  {
   "cell_type": "markdown",
   "id": "1c59f57d",
   "metadata": {},
   "source": [
    "Please complete this notebook by filling in the cells provided. Before you begin, execute the following cell to load the provided tests. Each time you start your server, you will need to execute this cell again to load the tests.\n",
    "\n",
    "Directly sharing answers is not okay, but discussing problems with the course staff or with other students is encouraged.\n",
    "\n",
    "For all problems that you must write our explanations and sentences for, you **must** provide your answer in the designated space. Moreover, throughout this homework and all future ones, please be sure to not re-assign variables throughout the notebook! For example, if you use `max_temperature` in your answer to one question, do not reassign it later on."
   ]
  },
  {
   "cell_type": "code",
   "execution_count": null,
   "id": "58f69155",
   "metadata": {
    "execution": {
     "iopub.execute_input": "2022-03-17T02:52:36.260634Z",
     "iopub.status.busy": "2022-03-17T02:52:36.259571Z",
     "iopub.status.idle": "2022-03-17T02:52:37.906957Z",
     "shell.execute_reply": "2022-03-17T02:52:37.906116Z"
    }
   },
   "outputs": [],
   "source": [
    "# Don't change this cell; just run it. \n",
    "\n",
    "import numpy as np\n",
    "from datascience import *\n",
    "\n",
    "# These lines do some fancy plotting magic.\",\n",
    "import matplotlib\n",
    "%matplotlib inline\n",
    "import matplotlib.pyplot as plt\n",
    "plt.style.use('fivethirtyeight')\n",
    "import warnings\n",
    "warnings.simplefilter('ignore', FutureWarning)"
   ]
  },
  {
   "cell_type": "markdown",
   "id": "ca83a993",
   "metadata": {},
   "source": [
    "## 1. Thai Restaurants in Santa Barbara"
   ]
  },
  {
   "cell_type": "markdown",
   "id": "9c760bda",
   "metadata": {},
   "source": [
    "Daniela and Emily are trying to see what Thai restaurant SBCC students prefer in Santa Barbara. They survey 1500 SBCC students selected uniformly at random, and ask each student what Thai restaurant is the best The choices of Thai restaurant are Zen Yai, Galanga, Thai Bistro, and Your Place. (*Note: this data is fabricated for the purposes of this homework, all 4 restaurants are great choices*). After compiling the results, Daniela and Emily release the following percentages from their sample:\n",
    "\n",
    "|Thai Restaurant  | Percentage|\n",
    "|:------------:|:------------:|\n",
    "|Zen Yai | 8% |\n",
    "|Galanga | 52% |\n",
    "|Thai Bistro | 25% |\n",
    "|Your Place | 15% |\n",
    "\n",
    "These percentages represent a uniform random sample of the population of SBCC students. We will attempt to estimate the corresponding *parameters*, or the percentage of the votes that each restaurant will receive from the entire population (the entire population is all SBCC students). We will use confidence intervals to compute a range of values that reflects the uncertainty of our estimates.\n",
    "\n",
    "The table `votes` contains the results of the survey (*this data is fabricated for the purposes of this HW*)."
   ]
  },
  {
   "cell_type": "code",
   "execution_count": null,
   "id": "83086edc",
   "metadata": {
    "deletable": false,
    "editable": false,
    "execution": {
     "iopub.execute_input": "2022-03-17T02:52:37.911582Z",
     "iopub.status.busy": "2022-03-17T02:52:37.911334Z",
     "iopub.status.idle": "2022-03-17T02:52:37.924080Z",
     "shell.execute_reply": "2022-03-17T02:52:37.923238Z"
    }
   },
   "outputs": [],
   "source": [
    "# Just run this cell\n",
    "votes = Table.read_table('votes.csv')\n",
    "votes"
   ]
  },
  {
   "cell_type": "markdown",
   "id": "670fc03f",
   "metadata": {
    "deletable": false,
    "editable": false
   },
   "source": [
    "**Question 1.1.** Complete the function `one_resampled_percentage` below. It should return Galanga's ***percentage*** of votes after taking the original table (`tbl`) and performing one bootstrap sample of it. Reminder that a percentage is between 0 and 100.\n",
    "\n",
    "*Note:* `tbl` will always be in the same format as `votes`.\n",
    "\n",
    "*Hint:* Given a table of votes, how can you figure out what percentage of the votes are for a certain restaurant? **Be sure to use percentages, not proportions, for this question!**\n"
   ]
  },
  {
   "cell_type": "code",
   "execution_count": null,
   "id": "b957a5cb",
   "metadata": {
    "execution": {
     "iopub.execute_input": "2022-03-17T02:52:37.927730Z",
     "iopub.status.busy": "2022-03-17T02:52:37.927479Z",
     "iopub.status.idle": "2022-03-17T02:52:37.935303Z",
     "shell.execute_reply": "2022-03-17T02:52:37.934487Z"
    },
    "tags": []
   },
   "outputs": [],
   "source": [
    "def one_resampled_percentage(tbl):\n",
    "    ...\n",
    "\n",
    "one_resampled_percentage(votes)"
   ]
  },
  {
   "cell_type": "code",
   "execution_count": null,
   "id": "486759a8",
   "metadata": {
    "deletable": false,
    "editable": false
   },
   "outputs": [],
   "source": [
    "grader.check(\"q1_1\")"
   ]
  },
  {
   "cell_type": "markdown",
   "id": "5cc949b8",
   "metadata": {
    "deletable": false,
    "editable": false
   },
   "source": [
    "**Question 1.2.** Complete the `percentages_in_resamples` function such that it simulates and returns an array of 2022 elements, where each element represents a bootstrapped estimate of the percentage of voters who will vote for Galanga. You should use the `one_resampled_percentage` function you wrote above.\n"
   ]
  },
  {
   "cell_type": "code",
   "execution_count": null,
   "id": "429d07b2",
   "metadata": {
    "execution": {
     "iopub.execute_input": "2022-03-17T02:52:37.985049Z",
     "iopub.status.busy": "2022-03-17T02:52:37.984764Z",
     "iopub.status.idle": "2022-03-17T02:52:37.988959Z",
     "shell.execute_reply": "2022-03-17T02:52:37.988393Z"
    },
    "for_assignment_type": "solution",
    "tags": []
   },
   "outputs": [],
   "source": [
    "def percentages_in_resamples():\n",
    "    percentage_galanga = make_array()\n",
    "    ..."
   ]
  },
  {
   "cell_type": "code",
   "execution_count": null,
   "id": "5293c7e0",
   "metadata": {
    "deletable": false,
    "editable": false
   },
   "outputs": [],
   "source": [
    "grader.check(\"q1_2\")"
   ]
  },
  {
   "cell_type": "markdown",
   "id": "30d276a5",
   "metadata": {},
   "source": [
    "In the following cell, we run the function you just defined, `percentages_in_resamples`, and create a histogram of the calculated statistic for the 2022 bootstrap estimates of the percentage of voters who voted for Galanga. Based on what the original Thai restaurant percentages were, does the graph seem reasonable? Talk to a friend, ask your instructor or ask a tutor if you are unsure!\n"
   ]
  },
  {
   "cell_type": "code",
   "execution_count": null,
   "id": "60932d2a",
   "metadata": {
    "execution": {
     "iopub.execute_input": "2022-03-17T02:52:45.527782Z",
     "iopub.status.busy": "2022-03-17T02:52:45.527447Z",
     "iopub.status.idle": "2022-03-17T02:52:48.263867Z",
     "shell.execute_reply": "2022-03-17T02:52:48.263199Z"
    }
   },
   "outputs": [],
   "source": [
    "resampled_percentages = percentages_in_resamples()\n",
    "Table().with_column('Estimated Percentage', resampled_percentages).hist(\"Estimated Percentage\")"
   ]
  },
  {
   "cell_type": "markdown",
   "id": "9bafe3dd",
   "metadata": {
    "deletable": false,
    "editable": false
   },
   "source": [
    "**Question 1.3.** Using the array `resampled_percentages`, find the values at the two edges of the middle 95% of the bootstrapped percentage estimates. Compute the lower and upper ends of the interval, named `galanga_lower_bound` and `galanga_upper_bound` respectively.\n",
    "\n",
    "*Hint:* If you are stuck on this question, try looking over [Chapter 13](https://inferentialthinking.com/chapters/13/Estimation.html) of the textbook.\n"
   ]
  },
  {
   "cell_type": "code",
   "execution_count": null,
   "id": "801120d3",
   "metadata": {
    "deletable": false,
    "execution": {
     "iopub.execute_input": "2022-03-17T02:52:48.267121Z",
     "iopub.status.busy": "2022-03-17T02:52:48.266878Z",
     "iopub.status.idle": "2022-03-17T02:52:48.274373Z",
     "shell.execute_reply": "2022-03-17T02:52:48.273698Z"
    },
    "tags": []
   },
   "outputs": [],
   "source": [
    "galanga_lower_bound = ...\n",
    "galanga_upper_bound = ...\n",
    "print(f\"Bootstrapped 95% confidence interval for the percentage of Galanga voters in the population: [{galanga_lower_bound:.2f}, {galanga_upper_bound:.2f}]\")"
   ]
  },
  {
   "cell_type": "code",
   "execution_count": null,
   "id": "e5807fe1",
   "metadata": {
    "deletable": false,
    "editable": false
   },
   "outputs": [],
   "source": [
    "grader.check(\"q1_3\")"
   ]
  },
  {
   "cell_type": "markdown",
   "id": "c604acae",
   "metadata": {
    "deletable": false,
    "editable": false
   },
   "source": [
    "**Question 1.4.** The survey results seem to indicate that Galanga is beating all the other Thai restaurants among the voters. We would like to use confidence intervals to determine a range of likely values for Galanga's true lead over all the other restaurants combined. The calculation for Galanga's lead over Zen Yai, Thai Bistro, and Your Place combined is:\n",
    "\n",
    "$$\\text{Galanga's percent of the vote} - (\\text{100 percent} - \\text{Galanga's percent of vote})$$\n",
    "\n",
    "Define the function `one_resampled_difference` that returns **exactly one value** of Galanga's percentage lead over Zen Yai, Thai Bistro, and Your Place combined from one bootstrap sample of `tbl`.\n",
    "\n",
    "*Hint 1:* Galanga's lead can be negative.\n",
    "\n",
    "*Hint 2:* Given a table of votes, how can you figure out what percentage of the votes are for a certain restaurant? **Be sure to use percentages, not proportions, for this question!**\n",
    "\n",
    "*Note:* If the skeleton code provided within the function is not helpful for you, feel free to approach the question using your own variables.\n"
   ]
  },
  {
   "cell_type": "code",
   "execution_count": null,
   "id": "8fa5c293",
   "metadata": {
    "execution": {
     "iopub.execute_input": "2022-03-17T02:52:48.303344Z",
     "iopub.status.busy": "2022-03-17T02:52:48.303122Z",
     "iopub.status.idle": "2022-03-17T02:52:48.307486Z",
     "shell.execute_reply": "2022-03-17T02:52:48.306802Z"
    },
    "tags": []
   },
   "outputs": [],
   "source": [
    "def one_resampled_difference(tbl):\n",
    "    bootstrap = ...\n",
    "    galanga_percentage = ...\n",
    "    ..."
   ]
  },
  {
   "cell_type": "code",
   "execution_count": null,
   "id": "8552826c",
   "metadata": {
    "deletable": false,
    "editable": false
   },
   "outputs": [],
   "source": [
    "grader.check(\"q1_4\")"
   ]
  },
  {
   "cell_type": "markdown",
   "id": "78d13cfc",
   "metadata": {
    "deletable": false,
    "editable": false
   },
   "source": [
    "<!-- BEGIN QUESTION -->\n",
    "\n",
    "**Question 1.5.** Write a function called `leads_in_resamples` that returns an array of 2022 elements representing the bootstrapped estimates (the result of calling `one_resampled_difference`) of Galanga's lead over Zen Yai, Thai Bistro, and Your Place combined. Afterwards, run the cell to plot a histogram of the resulting samples. **Note:** Galanga's lead can be negative.\n",
    "\n",
    "*Hint:* If you see an error involving `NoneType`, consider what components a function needs to have!\n"
   ]
  },
  {
   "cell_type": "code",
   "execution_count": null,
   "id": "ad1e96c0",
   "metadata": {
    "execution": {
     "iopub.execute_input": "2022-03-17T02:52:48.332153Z",
     "iopub.status.busy": "2022-03-17T02:52:48.331774Z",
     "iopub.status.idle": "2022-03-17T02:52:50.990170Z",
     "shell.execute_reply": "2022-03-17T02:52:50.989326Z"
    },
    "for_assignment_type": "solution",
    "tags": []
   },
   "outputs": [],
   "source": [
    "def leads_in_resamples():\n",
    "    ...\n",
    "\n",
    "sampled_leads = leads_in_resamples()\n",
    "Table().with_column('Estimated Lead', sampled_leads).hist(\"Estimated Lead\")"
   ]
  },
  {
   "cell_type": "markdown",
   "id": "d9d07cce",
   "metadata": {
    "deletable": false,
    "editable": false
   },
   "source": [
    "<!-- END QUESTION -->\n",
    "\n",
    "**Question 1.6.** Use the simulated data in `sampled_leads` from Question 1.5 to compute an approximate 95% confidence interval for Galanga's true lead over Zen Yai, Thai Bistro, and Your Place combined.\n"
   ]
  },
  {
   "cell_type": "code",
   "execution_count": null,
   "id": "d8d12b5d",
   "metadata": {
    "deletable": false,
    "execution": {
     "iopub.execute_input": "2022-03-17T02:52:50.994088Z",
     "iopub.status.busy": "2022-03-17T02:52:50.993774Z",
     "iopub.status.idle": "2022-03-17T02:52:51.001377Z",
     "shell.execute_reply": "2022-03-17T02:52:51.000514Z"
    },
    "tags": []
   },
   "outputs": [],
   "source": [
    "diff_lower_bound = ...\n",
    "diff_upper_bound = ...\n",
    "print(\"Bootstrapped 95% confidence interval for Galanga's true lead over Zen Yai, Thai Bistro, and Your Place combined: [{:f}%, {:f}%]\".format(diff_lower_bound, diff_upper_bound))"
   ]
  },
  {
   "cell_type": "code",
   "execution_count": null,
   "id": "48cc30ae",
   "metadata": {
    "deletable": false,
    "editable": false
   },
   "outputs": [],
   "source": [
    "grader.check(\"q1_6\")"
   ]
  },
  {
   "cell_type": "markdown",
   "id": "a9ff3c0a",
   "metadata": {},
   "source": [
    "## 2. Interpreting Confidence Intervals "
   ]
  },
  {
   "cell_type": "markdown",
   "id": "9691f599",
   "metadata": {},
   "source": [
    "The staff computed the following 95% confidence interval for the percentage of Galanga voters: \n",
    "\n",
    "$$[50.53, 55.53]$$\n",
    "\n",
    "(Your answer may have been a bit different due to randomness; that doesn't mean it was wrong!)"
   ]
  },
  {
   "cell_type": "markdown",
   "id": "8c61a713",
   "metadata": {
    "deletable": false,
    "editable": false
   },
   "source": [
    "<!-- BEGIN QUESTION -->\n",
    "\n",
    "**Question 2.1.** The staff also created 70%, 90%, and 99% confidence intervals from the same sample, but we forgot to label which confidence interval represented which percentages! **First**, match each confidence level (70%, 90%, 99%) with its corresponding interval in the cell below (e.g. __ % CI: [52.1, 54] $\\rightarrow$ replace the blank with one of the three confidence levels). **Then**, explain your thought process and how you came up with your answers.\n",
    "\n",
    "The intervals are below:\n",
    "\n",
    "* [50.03, 55.94]\n",
    "* [52.1, 54]\n",
    "* [50.97, 54.99]\n",
    "\n"
   ]
  },
  {
   "cell_type": "markdown",
   "id": "ef33a3ff",
   "metadata": {},
   "source": [
    "_Type your answer here, replacing this text._"
   ]
  },
  {
   "cell_type": "markdown",
   "id": "8176d8d4",
   "metadata": {
    "deletable": false,
    "editable": false
   },
   "source": [
    "<!-- END QUESTION -->\n",
    "\n",
    "**Question 2.2.** Suppose we produced 6,000 new samples (each one a new/distinct uniform random sample of 1,500 students) from the population and created a 95% confidence interval from each one. Roughly how many of those 6,000 intervals do you expect will actually contain the true percentage of the population? \n",
    "\n",
    "Assign your answer to `true_percentage_intervals`.\n"
   ]
  },
  {
   "cell_type": "code",
   "execution_count": null,
   "id": "6e84dc58",
   "metadata": {
    "deletable": false,
    "execution": {
     "iopub.execute_input": "2022-03-17T02:52:51.037662Z",
     "iopub.status.busy": "2022-03-17T02:52:51.037381Z",
     "iopub.status.idle": "2022-03-17T02:52:51.041661Z",
     "shell.execute_reply": "2022-03-17T02:52:51.040695Z"
    },
    "tags": []
   },
   "outputs": [],
   "source": [
    "true_percentage_intervals = ..."
   ]
  },
  {
   "cell_type": "code",
   "execution_count": null,
   "id": "4269cb91",
   "metadata": {
    "deletable": false,
    "editable": false
   },
   "outputs": [],
   "source": [
    "grader.check(\"q2_2\")"
   ]
  },
  {
   "cell_type": "markdown",
   "id": "07d06bef",
   "metadata": {},
   "source": [
    "Recall the second bootstrap confidence interval you created, which estimated Galanga's lead over Zen Yai, Thai Bistro, and Your Place combined. Among\n",
    "voters in the sample, Galanga's lead was 6%. The staff's 95% confidence interval for the true lead (in the population of all voters) was:\n",
    "\n",
    "$$[1.2, 11.2]$$\n",
    "\n",
    "Suppose we are interested in testing a simple yes-or-no question:\n",
    "\n",
    "> \"Is the percentage of votes for Galanga equal to the percentage of votes for Zen Yai, Thai Bistro, and Your Place combined?\"\n",
    "\n",
    "Our null hypothesis is that the percentages are equal, or equivalently, that Galanga's lead is exactly 0. Our alternative hypothesis is that Galanga's lead is not equal to 0.  In the questions below, don't compute any confidence interval yourself—use only the staff's 95% confidence interval."
   ]
  },
  {
   "cell_type": "markdown",
   "id": "48bc78f9",
   "metadata": {
    "deletable": false,
    "editable": false
   },
   "source": [
    "**Question 2.3.** Say we use a 5% p-value cutoff. Do we reject the null, fail to reject the null, or are we unable to tell using the staff's confidence interval? \n",
    "\n",
    "Assign `cutoff_five_percent` to the number corresponding to the correct answer.\n",
    "\n",
    "1. Reject the null / Data is consistent with the alternative hypothesis\n",
    "2. Fail to reject the null / Data is consistent with the null hypothesis\n",
    "3. Unable to tell using our staff confidence interval\n",
    "\n",
    "*Hint:* Consider the relationship between the p-value cutoff and confidence. If you're confused, take a look at [this chapter](https://inferentialthinking.com/chapters/13/4/Using_Confidence_Intervals.html) of the textbook.\n"
   ]
  },
  {
   "cell_type": "code",
   "execution_count": null,
   "id": "4e294f26",
   "metadata": {
    "deletable": false,
    "execution": {
     "iopub.execute_input": "2022-03-17T02:52:51.099291Z",
     "iopub.status.busy": "2022-03-17T02:52:51.098939Z",
     "iopub.status.idle": "2022-03-17T02:52:51.103126Z",
     "shell.execute_reply": "2022-03-17T02:52:51.102358Z"
    },
    "tags": []
   },
   "outputs": [],
   "source": [
    "cutoff_five_percent = ..."
   ]
  },
  {
   "cell_type": "code",
   "execution_count": null,
   "id": "a6c04d82",
   "metadata": {
    "deletable": false,
    "editable": false
   },
   "outputs": [],
   "source": [
    "grader.check(\"q2_3\")"
   ]
  },
  {
   "cell_type": "markdown",
   "id": "26085d99",
   "metadata": {
    "deletable": false,
    "editable": false
   },
   "source": [
    "**Question 2.4.** What if, instead, we use a p-value cutoff of 1%? Do we reject the null, fail to reject the null, or are we unable to tell using our staff confidence interval? \n",
    "\n",
    "Assign `cutoff_one_percent` to the number corresponding to the correct answer.\n",
    "\n",
    "1. Reject the null / Data is consistent with the alternative hypothesis\n",
    "2. Fail to reject the null / Data is consistent with the null hypothesis\n",
    "3. Unable to tell using our staff confidence interval\n"
   ]
  },
  {
   "cell_type": "code",
   "execution_count": null,
   "id": "b5e83728",
   "metadata": {
    "deletable": false,
    "execution": {
     "iopub.execute_input": "2022-03-17T02:52:51.148584Z",
     "iopub.status.busy": "2022-03-17T02:52:51.147740Z",
     "iopub.status.idle": "2022-03-17T02:52:51.182869Z",
     "shell.execute_reply": "2022-03-17T02:52:51.181718Z"
    },
    "tags": []
   },
   "outputs": [],
   "source": [
    "cutoff_one_percent = ..."
   ]
  },
  {
   "cell_type": "code",
   "execution_count": null,
   "id": "79683eb4",
   "metadata": {
    "deletable": false,
    "editable": false
   },
   "outputs": [],
   "source": [
    "grader.check(\"q2_4\")"
   ]
  },
  {
   "cell_type": "markdown",
   "id": "e79c8efd",
   "metadata": {
    "deletable": false,
    "editable": false
   },
   "source": [
    "**Question 2.5.** What if we use a p-value cutoff of 10%? Do we reject, fail to reject, or are we unable to tell using our confidence interval?\n",
    "\n",
    "Assign `cutoff_ten_percent` to the number corresponding to the correct answer.\n",
    "\n",
    "1. Reject the null / Data is consistent with the alternative hypothesis\n",
    "2. Fail to reject the null / Data is consistent with the null hypothesis\n",
    "3. Unable to tell using our staff confidence interval\n"
   ]
  },
  {
   "cell_type": "code",
   "execution_count": null,
   "id": "d5f1fa73",
   "metadata": {
    "deletable": false,
    "execution": {
     "iopub.execute_input": "2022-03-17T02:52:51.208017Z",
     "iopub.status.busy": "2022-03-17T02:52:51.207627Z",
     "iopub.status.idle": "2022-03-17T02:52:51.212416Z",
     "shell.execute_reply": "2022-03-17T02:52:51.211347Z"
    },
    "tags": []
   },
   "outputs": [],
   "source": [
    "cutoff_ten_percent = ..."
   ]
  },
  {
   "cell_type": "code",
   "execution_count": null,
   "id": "17c57168",
   "metadata": {
    "deletable": false,
    "editable": false
   },
   "outputs": [],
   "source": [
    "grader.check(\"q2_5\")"
   ]
  },
  {
   "cell_type": "markdown",
   "id": "15d3c964",
   "metadata": {},
   "source": [
    "## Congratulations! You're done with Homework 8! \n",
    "\n",
    "Be sure to run the tests and verify that they all pass, then choose Download as PDF from the File menu and submit the .pdf file on canvas."
   ]
  }
 ],
 "metadata": {
  "kernelspec": {
   "display_name": "Python 3 (ipykernel)",
   "language": "python",
   "name": "python3"
  },
  "language_info": {
   "codemirror_mode": {
    "name": "ipython",
    "version": 3
   },
   "file_extension": ".py",
   "mimetype": "text/x-python",
   "name": "python",
   "nbconvert_exporter": "python",
   "pygments_lexer": "ipython3",
   "version": "3.9.7"
  },
  "otter": {
   "OK_FORMAT": true,
   "tests": {
    "q1_1": {
     "name": "q1_1",
     "points": [
      0,
      0,
      2
     ],
     "suites": [
      {
       "cases": [
        {
         "code": ">>> type(one_resampled_percentage(votes)) in set([float, np.float64]) \nTrue",
         "hidden": false,
         "locked": false
        },
        {
         "code": ">>> # Remember, the question asks for a percentage, not a proportion. \n>>> one_resampled_percentage(votes) <= 1\nFalse",
         "hidden": false,
         "locked": false
        },
        {
         "code": ">>> 35 <= one_resampled_percentage(votes) <= 65\nTrue",
         "hidden": false,
         "locked": false
        }
       ],
       "scored": true,
       "setup": "",
       "teardown": "",
       "type": "doctest"
      }
     ]
    },
    "q1_2": {
     "name": "q1_2",
     "points": [
      0
     ],
     "suites": [
      {
       "cases": [
        {
         "code": ">>> len(percentages_in_resamples()) == 2022\nTrue",
         "hidden": false,
         "locked": false
        }
       ],
       "scored": true,
       "setup": "",
       "teardown": "",
       "type": "doctest"
      }
     ]
    },
    "q1_3": {
     "name": "q1_3",
     "points": [
      0
     ],
     "suites": [
      {
       "cases": [
        {
         "code": ">>> 45 <= galanga_lower_bound <= galanga_upper_bound <= 65\nTrue",
         "hidden": false,
         "locked": false
        }
       ],
       "scored": true,
       "setup": "",
       "teardown": "",
       "type": "doctest"
      }
     ]
    },
    "q1_4": {
     "name": "q1_4",
     "points": [
      0
     ],
     "suites": [
      {
       "cases": [
        {
         "code": ">>> type(one_resampled_difference(votes)) in set([float, np.float64]) \nTrue",
         "hidden": false,
         "locked": false
        }
       ],
       "scored": true,
       "setup": "",
       "teardown": "",
       "type": "doctest"
      }
     ]
    },
    "q1_6": {
     "name": "q1_6",
     "points": [
      0
     ],
     "suites": [
      {
       "cases": [
        {
         "code": ">>> -5 <= diff_lower_bound <= diff_upper_bound <= 20\nTrue",
         "hidden": false,
         "locked": false
        }
       ],
       "scored": true,
       "setup": "",
       "teardown": "",
       "type": "doctest"
      }
     ]
    },
    "q2_2": {
     "name": "q2_2",
     "points": [
      0
     ],
     "suites": [
      {
       "cases": [
        {
         "code": ">>> 1000 <= true_percentage_intervals <= 10000\nTrue",
         "hidden": false,
         "locked": false
        }
       ],
       "scored": true,
       "setup": "",
       "teardown": "",
       "type": "doctest"
      }
     ]
    },
    "q2_3": {
     "name": "q2_3",
     "points": [
      0,
      0,
      0
     ],
     "suites": [
      {
       "cases": [
        {
         "code": ">>> 1 <= cutoff_five_percent <= 3\nTrue",
         "hidden": false,
         "locked": false
        },
        {
         "code": ">>> # Remember, we are using a 95% confidence interval of [1.2, 11.2].\n>>> # Our null hypothesis claims that Galanga's lead is 0.\n>>> # This falls outside of our 95% confidence interval.\n>>> # What can we conclude if we use a 5% p-value cutoff? \n>>> cutoff_five_percent == 3\nFalse",
         "hidden": false,
         "locked": false
        },
        {
         "code": ">>> # We are using a 95% confidence interval of [1.2, 11.2].\n>>> # Our null hypothesis claims that Galanga's lead is 0.\n>>> # This falls outside of our 95% confidence interval. \n>>> # 100% - 95% = 5%, which is our p-value cutoff.\n>>> # At the 5% level of significance, 0 doesn't seem like a plausible value\n>>> # for Galanga's lead. We would reject the null.\n>>> # Remember, there is a duality between confidence intervals and tests:\n>>> # if you are testing whether or not the true lead is a particular value x,\n>>> # and you use the 5% cutoff for the p-value, then you will reject the null\n>>> # if x is not in your 95% confidence interval for the lead.\n>>> cutoff_five_percent == 2\nFalse",
         "hidden": false,
         "locked": false
        }
       ],
       "scored": true,
       "setup": "",
       "teardown": "",
       "type": "doctest"
      }
     ]
    },
    "q2_4": {
     "name": "q2_4",
     "points": [
      0
     ],
     "suites": [
      {
       "cases": [
        {
         "code": ">>> 1 <= cutoff_one_percent <= 3\nTrue",
         "hidden": false,
         "locked": false
        }
       ],
       "scored": true,
       "setup": "",
       "teardown": "",
       "type": "doctest"
      }
     ]
    },
    "q2_5": {
     "name": "q2_5",
     "points": [
      0
     ],
     "suites": [
      {
       "cases": [
        {
         "code": ">>> 1 <= cutoff_ten_percent <= 3\nTrue",
         "hidden": false,
         "locked": false
        }
       ],
       "scored": true,
       "setup": "",
       "teardown": "",
       "type": "doctest"
      }
     ]
    }
   }
  }
 },
 "nbformat": 4,
 "nbformat_minor": 5
}
